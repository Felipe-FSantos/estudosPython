{
  "nbformat": 4,
  "nbformat_minor": 0,
  "metadata": {
    "colab": {
      "name": "Python_Data_Science_Numpy.ipynb",
      "provenance": [],
      "collapsed_sections": [
        "do3kUOLbltjE",
        "umSz9TLxltjG",
        "gSnX12-sltjH",
        "2oZuKvWkltjJ",
        "v4P8bMEIltjK",
        "FZtu5tjrltjL",
        "C6vbfq8DltjM",
        "v86aEyR2ltjR",
        "wMdUsAq4ltjs",
        "KdG5NmmGltj0",
        "X1K5kisFltj1",
        "8YCDVpbYltj1",
        "WeJG-WJBltj8",
        "zuv8N7fjltkC",
        "dMp7BsnwltkF",
        "3DSO7TcvltkL",
        "MhD56p-9ltkQ",
        "8pVVp5fsltkV",
        "a5tKQ5Beltkf",
        "MUrQAf6Mltkm",
        "qaVLKIeultkn",
        "3frWjfAtltkn",
        "gCBkfq_8ltky",
        "zswWS4hNltky",
        "fDBrHWSBltlB",
        "uVAyJbmAltlC",
        "uoRXMeRDltlQ",
        "-HRRxQOtltlQ",
        "7X9iheAnltld",
        "Ipjq4eiSltlp",
        "w6bJU-R9ltl5",
        "_ilupwV-ltl-",
        "dByigpENltmO",
        "gGpflJMYltmd",
        "XbijUgqVltmw",
        "dNBfv7x7ltmy",
        "8--bcJ01ltm8",
        "8lSC0XEDltm-",
        "CMovhJZ_ltnG",
        "V-wPNUN9ltnN",
        "_IZuNE48ltnS",
        "zhS89xysltnS",
        "Mmlkh5TVltnT",
        "5yMXJ0xdltna",
        "YSorJOGlltna",
        "RF6_rf90ltnh",
        "iTv5t7zAltnk",
        "k7wWCbAmltnl",
        "uF3NmgUaltnl",
        "9WgwxPIMltnv",
        "cCCdVFs1mWBX",
        "R-S-LCPGltn0",
        "j9s2OyyPltn1",
        "N9Spp7-xltn3",
        "eiP3oACPltn6",
        "NySIp62hltoC",
        "8zMZNsg2ltoU",
        "gxUmCLyJltoU",
        "Irl5oa0altoU",
        "Gbztj9T4ltoZ",
        "AcAcaKFXltom",
        "RrGAOy1rn1Dj",
        "9hHKKABhltot",
        "cJ4fPdj5ltou",
        "bqOYDJiWltou",
        "51Js0kXD0aRH",
        "CKjrvO5Tltoz",
        "Z2-8WeN1lto2",
        "RtG2-g1ultme",
        "e9r6ryTrltpw"
      ],
      "include_colab_link": true
    },
    "kernelspec": {
      "display_name": "Python 3",
      "language": "python",
      "name": "python3"
    },
    "language_info": {
      "codemirror_mode": {
        "name": "ipython",
        "version": 3
      },
      "file_extension": ".py",
      "mimetype": "text/x-python",
      "name": "python",
      "nbconvert_exporter": "python",
      "pygments_lexer": "ipython3",
      "version": "3.6.5"
    }
  },
  "cells": [
    {
      "cell_type": "markdown",
      "metadata": {
        "id": "view-in-github",
        "colab_type": "text"
      },
      "source": [
        "<a href=\"https://colab.research.google.com/github/Felipe-FSantos/estudosPython/blob/main/Python_Data_Science_Numpy.ipynb\" target=\"_parent\"><img src=\"https://colab.research.google.com/assets/colab-badge.svg\" alt=\"Open In Colab\"/></a>"
      ]
    },
    {
      "cell_type": "markdown",
      "metadata": {
        "id": "do3kUOLbltjE"
      },
      "source": [
        "# <font color=green> PYTHON PARA DATA SCIENCE - NUMPY\n",
        "---"
      ]
    },
    {
      "cell_type": "markdown",
      "metadata": {
        "id": "umSz9TLxltjG"
      },
      "source": [
        "# <font color=green> 1. INTRODUÇÃO AO PYTHON\n",
        "---"
      ]
    },
    {
      "cell_type": "markdown",
      "metadata": {
        "id": "gSnX12-sltjH"
      },
      "source": [
        "# 1.1 Introdução"
      ]
    },
    {
      "cell_type": "markdown",
      "metadata": {
        "id": "SRG_k55kltjI"
      },
      "source": [
        "> Python é uma linguagem de programação de alto nível com suporte a múltiplos paradigmas de programação. É um projeto *open source* e desde seu surgimento, em 1991, vem se tornando uma das linguagens de programação interpretadas mais populares. \n",
        ">\n",
        "> Nos últimos anos Python desenvolveu uma comunidade ativa de processamento científico e análise de dados e vem se destacando como uma das linguagens mais relevantes quando o assunto é ciência de dados e machine learning, tanto no ambiente acadêmico como também no mercado."
      ]
    },
    {
      "cell_type": "markdown",
      "metadata": {
        "id": "2oZuKvWkltjJ"
      },
      "source": [
        "# 1.2 Instalação e ambiente de desenvolvimento"
      ]
    },
    {
      "cell_type": "markdown",
      "metadata": {
        "id": "v4P8bMEIltjK"
      },
      "source": [
        "### Instalação Local\n",
        "\n",
        "### https://www.python.org/downloads/\n",
        "### ou\n",
        "### https://www.anaconda.com/distribution/"
      ]
    },
    {
      "cell_type": "markdown",
      "metadata": {
        "id": "FZtu5tjrltjL"
      },
      "source": [
        "### Google Colaboratory\n",
        "\n",
        "### https://colab.research.google.com"
      ]
    },
    {
      "cell_type": "markdown",
      "metadata": {
        "id": "C6vbfq8DltjM"
      },
      "source": [
        "### Verificando versão"
      ]
    },
    {
      "cell_type": "code",
      "metadata": {
        "colab": {
          "base_uri": "https://localhost:8080/"
        },
        "id": "jeuAt-4NltjM",
        "outputId": "eae2d9b4-6b4a-4edf-ba00-72d7f2971049"
      },
      "source": [
        "!python -V"
      ],
      "execution_count": null,
      "outputs": [
        {
          "output_type": "stream",
          "text": [
            "Python 3.7.10\n"
          ],
          "name": "stdout"
        }
      ]
    },
    {
      "cell_type": "markdown",
      "metadata": {
        "id": "v86aEyR2ltjR"
      },
      "source": [
        "# 1.3 Trabalhando com arrays Numpy"
      ]
    },
    {
      "cell_type": "code",
      "metadata": {
        "id": "6FEhElzNltjR"
      },
      "source": [
        "import numpy as np"
      ],
      "execution_count": null,
      "outputs": []
    },
    {
      "cell_type": "code",
      "metadata": {
        "id": "qjL5wPLKltjU"
      },
      "source": [
        "km = np.loadtxt('carros-km.txt')"
      ],
      "execution_count": null,
      "outputs": []
    },
    {
      "cell_type": "code",
      "metadata": {
        "id": "OFaxgUptltjW",
        "scrolled": true
      },
      "source": [
        "km"
      ],
      "execution_count": null,
      "outputs": []
    },
    {
      "cell_type": "code",
      "metadata": {
        "id": "FXjYowRDltjZ"
      },
      "source": [
        "anos = np.loadtxt('carros-anos.txt',dtype = int)"
      ],
      "execution_count": null,
      "outputs": []
    },
    {
      "cell_type": "code",
      "metadata": {
        "id": "f_d2Ya-vltjb"
      },
      "source": [
        "anos"
      ],
      "execution_count": null,
      "outputs": []
    },
    {
      "cell_type": "code",
      "metadata": {
        "id": "hxLZatdeltje"
      },
      "source": [
        ""
      ],
      "execution_count": null,
      "outputs": []
    },
    {
      "cell_type": "code",
      "metadata": {
        "id": "GLsHBNakltjg"
      },
      "source": [
        ""
      ],
      "execution_count": null,
      "outputs": []
    },
    {
      "cell_type": "code",
      "metadata": {
        "id": "oSSYu6nhltji"
      },
      "source": [
        ""
      ],
      "execution_count": null,
      "outputs": []
    },
    {
      "cell_type": "code",
      "metadata": {
        "id": "D6qMoutGltjk"
      },
      "source": [
        ""
      ],
      "execution_count": null,
      "outputs": []
    },
    {
      "cell_type": "code",
      "metadata": {
        "id": "XIBz0Vowltjn"
      },
      "source": [
        ""
      ],
      "execution_count": null,
      "outputs": []
    },
    {
      "cell_type": "code",
      "metadata": {
        "id": "u8_CU3F4ltjq"
      },
      "source": [
        ""
      ],
      "execution_count": null,
      "outputs": []
    },
    {
      "cell_type": "markdown",
      "metadata": {
        "id": "wMdUsAq4ltjs"
      },
      "source": [
        "### Obtendo a quilometragem média por ano"
      ]
    },
    {
      "cell_type": "code",
      "metadata": {
        "colab": {
          "base_uri": "https://localhost:8080/"
        },
        "id": "cD2M3s3Fltjt",
        "outputId": "1f51bc81-8981-4274-9d6c-913653cec58a"
      },
      "source": [
        "km_media = km / (2019 - anos)"
      ],
      "execution_count": null,
      "outputs": [
        {
          "output_type": "stream",
          "text": [
            "/usr/local/lib/python3.7/dist-packages/ipykernel_launcher.py:1: RuntimeWarning: invalid value encountered in true_divide\n",
            "  \"\"\"Entry point for launching an IPython kernel.\n"
          ],
          "name": "stderr"
        }
      ]
    },
    {
      "cell_type": "code",
      "metadata": {
        "colab": {
          "base_uri": "https://localhost:8080/"
        },
        "id": "65IyPzKKltjv",
        "outputId": "de8fa321-4c82-4861-d269-b8ea0477bcae"
      },
      "source": [
        "km_media"
      ],
      "execution_count": null,
      "outputs": [
        {
          "output_type": "execute_result",
          "data": {
            "text/plain": [
              "array([2.77562500e+03, 2.04000000e+02, 1.28010345e+03,            nan,\n",
              "       1.98130769e+03, 1.53257143e+03,            nan, 7.75990000e+03,\n",
              "       1.10218889e+04, 4.74725000e+03, 7.56411765e+02, 6.71000000e+02,\n",
              "       4.98738889e+03,            nan, 4.14570000e+03, 3.85356667e+04,\n",
              "       6.63557143e+03,            nan, 1.23620000e+04, 7.58650000e+03,\n",
              "       5.95252941e+03,            nan, 3.92316000e+03, 3.67710714e+03,\n",
              "                  nan,            nan, 1.93166667e+03,            nan,\n",
              "       3.46164706e+03, 3.37075000e+03, 1.37104545e+03, 2.22216667e+03,\n",
              "       1.77200000e+04, 1.20742857e+03, 1.81368000e+04, 1.83229167e+03,\n",
              "                  nan,            nan, 5.52600000e+02,            nan,\n",
              "       1.55691667e+04, 2.54762500e+03,            nan, 5.07658824e+03,\n",
              "                  nan, 5.73823529e+02, 4.66300000e+03, 1.33055556e+02,\n",
              "                  nan, 5.02181250e+03, 8.55540000e+03, 3.88430769e+03,\n",
              "       3.56400000e+03, 7.22669231e+03, 3.92722222e+03, 3.24028000e+03,\n",
              "       9.95941667e+03,            nan,            nan,            nan,\n",
              "                  nan,            nan, 5.94475000e+04, 6.06362500e+03,\n",
              "       5.60622222e+03, 4.15865217e+03,            nan, 3.61980000e+03,\n",
              "                  nan, 2.42766667e+03, 9.52080000e+02, 7.08266667e+03,\n",
              "       2.47250000e+03, 2.05623077e+03, 7.38816667e+03, 4.72944000e+03,\n",
              "       1.03461818e+04, 5.54545455e+01,            nan,            nan,\n",
              "       6.44350000e+02, 6.63391667e+03, 3.49707692e+03, 1.78054167e+03,\n",
              "                  nan,            nan, 3.92380000e+04, 1.42356250e+04,\n",
              "                  nan, 1.79476471e+03, 1.24778333e+04, 5.98800000e+04,\n",
              "       2.78533333e+03, 5.84063636e+03, 8.86610000e+04, 2.83687500e+02,\n",
              "       6.88225000e+03, 2.21433333e+03, 1.02223333e+04,            nan,\n",
              "       6.28523077e+03, 3.92450000e+03,            nan, 2.28192500e+04,\n",
              "       2.65440000e+04, 2.62980000e+04, 1.75937037e+03, 4.94755556e+03,\n",
              "       1.10900000e+03, 4.60683333e+03, 3.53987500e+03, 3.47140000e+03,\n",
              "       6.72863636e+03, 2.53266667e+03,            nan, 5.41050000e+03,\n",
              "                  nan,            nan, 7.38076923e+02, 2.47630000e+04,\n",
              "       4.36575000e+03, 8.56750000e+03, 4.80025000e+04, 1.50661905e+03,\n",
              "                  nan, 4.00935000e+03,            nan, 5.82120000e+03,\n",
              "       3.85450000e+03, 1.28068000e+03,            nan, 2.27776000e+03,\n",
              "                  nan, 2.16297500e+04, 2.09608696e+02, 4.59204545e+03,\n",
              "       1.18096154e+03,            nan, 1.20574074e+03, 4.30787500e+03,\n",
              "                  nan, 1.90651724e+03,            nan,            nan,\n",
              "       4.14035714e+03, 2.29093103e+03, 1.38285714e+04, 1.18641667e+03,\n",
              "       3.31600000e+03, 5.94973684e+03, 6.76129412e+03, 1.37956522e+02,\n",
              "       3.63526087e+03, 6.33900000e+03, 3.40900000e+03, 3.85666667e+02,\n",
              "       4.37833333e+02, 5.20340000e+03,            nan,            nan,\n",
              "       4.68100000e+03, 4.91822727e+03, 3.64061905e+03, 3.84553333e+03,\n",
              "       4.20043478e+03, 2.72502500e+04, 8.73733333e+03, 3.28364286e+03,\n",
              "       2.45910000e+03, 2.07945833e+03, 1.48538462e+03, 4.06640000e+03,\n",
              "       1.23190000e+04, 5.11390476e+03, 9.14600000e+03,            nan,\n",
              "       1.79240000e+04,            nan, 4.03272414e+03, 2.04760000e+03,\n",
              "       1.82082759e+03, 6.80692308e+02, 5.39552941e+03, 1.14485714e+03,\n",
              "       2.77355556e+03,            nan,            nan, 3.72778571e+03,\n",
              "       9.28433333e+03,            nan, 6.77600000e+03,            nan,\n",
              "       8.39744444e+03, 1.34636000e+03, 5.79672222e+03, 5.10200000e+03,\n",
              "       8.24565217e+02, 3.35234615e+03, 2.55846154e+02, 3.09655556e+03,\n",
              "                  nan,            nan,            nan, 5.36000000e+03,\n",
              "                  nan, 2.28926667e+04, 1.43394000e+04,            nan,\n",
              "       8.69575000e+03, 8.44300000e+03, 3.70117391e+03, 8.00352941e+02,\n",
              "       2.54621429e+03, 3.96366667e+03, 7.02300000e+02, 2.94242857e+03,\n",
              "                  nan, 4.36818182e+03, 3.58275862e+03, 2.43411111e+03,\n",
              "       4.10633333e+03,            nan, 5.54830000e+04, 1.99837500e+03,\n",
              "       3.81207143e+03, 8.39750000e+02, 2.75169231e+03, 3.82142857e+00,\n",
              "       2.99785714e+02, 1.88627273e+03, 6.10536842e+03, 8.40483333e+03,\n",
              "       5.19038462e+03, 2.12425000e+03, 4.01818182e+02,            nan,\n",
              "       2.54508696e+03,            nan,            nan, 2.24032000e+04,\n",
              "       6.12266667e+03, 1.02533636e+04,            nan,            nan,\n",
              "       1.32757143e+03,            nan, 2.39491304e+03, 6.09950000e+03,\n",
              "                  nan, 9.96500000e+03, 7.11533333e+03, 3.92432000e+03,\n",
              "       5.94000000e+03, 5.50100000e+03, 1.07075000e+03, 3.09629412e+03,\n",
              "       3.34130435e+02, 1.85881481e+03])"
            ]
          },
          "metadata": {
            "tags": []
          },
          "execution_count": 39
        }
      ]
    },
    {
      "cell_type": "code",
      "metadata": {
        "colab": {
          "base_uri": "https://localhost:8080/"
        },
        "id": "Z0JCmAWvltjy",
        "outputId": "76b659be-4c47-4925-e585-aff713440c15"
      },
      "source": [
        "type(km_media)"
      ],
      "execution_count": null,
      "outputs": [
        {
          "output_type": "execute_result",
          "data": {
            "text/plain": [
              "numpy.ndarray"
            ]
          },
          "metadata": {
            "tags": []
          },
          "execution_count": 11
        }
      ]
    },
    {
      "cell_type": "markdown",
      "metadata": {
        "id": "KdG5NmmGltj0"
      },
      "source": [
        "# <font color=green> 2. CARACTERÍSTICAS BÁSICAS DA LINGUAGEM\n",
        "---"
      ]
    },
    {
      "cell_type": "markdown",
      "metadata": {
        "id": "X1K5kisFltj1"
      },
      "source": [
        "# 2.1 Operações matemáticas\n",
        "\n",
        "### Operadores aritméticos: $+$, $-$, $*$, $/$, $**$, $\\%$, $//$"
      ]
    },
    {
      "cell_type": "markdown",
      "metadata": {
        "id": "8YCDVpbYltj1"
      },
      "source": [
        "### Adição ($+$)"
      ]
    },
    {
      "cell_type": "code",
      "metadata": {
        "colab": {
          "base_uri": "https://localhost:8080/"
        },
        "id": "h6DsMqhaltj2",
        "outputId": "e5eb416a-5abc-46a4-c56c-dd50377b828c"
      },
      "source": [
        "4 + 4"
      ],
      "execution_count": null,
      "outputs": [
        {
          "output_type": "execute_result",
          "data": {
            "text/plain": [
              "8"
            ]
          },
          "metadata": {
            "tags": []
          },
          "execution_count": 14
        }
      ]
    },
    {
      "cell_type": "markdown",
      "metadata": {
        "id": "WeJG-WJBltj8"
      },
      "source": [
        "### Subtração ($-$)"
      ]
    },
    {
      "cell_type": "code",
      "metadata": {
        "colab": {
          "base_uri": "https://localhost:8080/"
        },
        "id": "zoB7_OcRltj9",
        "outputId": "15ab3969-7df0-4057-eb9b-95dcf4101eb2"
      },
      "source": [
        "5 - 8"
      ],
      "execution_count": null,
      "outputs": [
        {
          "output_type": "execute_result",
          "data": {
            "text/plain": [
              "-3"
            ]
          },
          "metadata": {
            "tags": []
          },
          "execution_count": 15
        }
      ]
    },
    {
      "cell_type": "markdown",
      "metadata": {
        "id": "zuv8N7fjltkC"
      },
      "source": [
        "### Multiplicação ($*$)"
      ]
    },
    {
      "cell_type": "code",
      "metadata": {
        "colab": {
          "base_uri": "https://localhost:8080/"
        },
        "id": "TAWG7xSTltkD",
        "outputId": "4a24db26-c43b-446c-ddb0-c491260239c9"
      },
      "source": [
        "16 * 3"
      ],
      "execution_count": null,
      "outputs": [
        {
          "output_type": "execute_result",
          "data": {
            "text/plain": [
              "48"
            ]
          },
          "metadata": {
            "tags": []
          },
          "execution_count": 16
        }
      ]
    },
    {
      "cell_type": "markdown",
      "metadata": {
        "id": "dMp7BsnwltkF"
      },
      "source": [
        "### Divisão ($/$) e ($//$)\n",
        "A operação divisão sempre retorna um número de ponto flutuante"
      ]
    },
    {
      "cell_type": "code",
      "metadata": {
        "colab": {
          "base_uri": "https://localhost:8080/"
        },
        "id": "DD5kx3H3ltkF",
        "outputId": "55c8800e-d233-43aa-f273-9a84da288bf1"
      },
      "source": [
        " 10 / 3"
      ],
      "execution_count": null,
      "outputs": [
        {
          "output_type": "execute_result",
          "data": {
            "text/plain": [
              "3.3333333333333335"
            ]
          },
          "metadata": {
            "tags": []
          },
          "execution_count": 18
        }
      ]
    },
    {
      "cell_type": "code",
      "metadata": {
        "colab": {
          "base_uri": "https://localhost:8080/"
        },
        "id": "ji0CYH3UltkI",
        "outputId": "70c6eb89-b2c0-4575-8450-58dfa959c13c"
      },
      "source": [
        "10 // 3 #Operador // divide e retorna apenas o inteiro da divisão."
      ],
      "execution_count": null,
      "outputs": [
        {
          "output_type": "execute_result",
          "data": {
            "text/plain": [
              "3"
            ]
          },
          "metadata": {
            "tags": []
          },
          "execution_count": 19
        }
      ]
    },
    {
      "cell_type": "markdown",
      "metadata": {
        "id": "3DSO7TcvltkL"
      },
      "source": [
        "### Exponenciação ($**$)"
      ]
    },
    {
      "cell_type": "code",
      "metadata": {
        "colab": {
          "base_uri": "https://localhost:8080/"
        },
        "id": "tBKvl2TWltkM",
        "outputId": "072b1f77-5afd-4fb2-82b2-937de680204a"
      },
      "source": [
        "2 ** 3 #Sinal de potenciação"
      ],
      "execution_count": null,
      "outputs": [
        {
          "output_type": "execute_result",
          "data": {
            "text/plain": [
              "8"
            ]
          },
          "metadata": {
            "tags": []
          },
          "execution_count": 20
        }
      ]
    },
    {
      "cell_type": "markdown",
      "metadata": {
        "id": "MhD56p-9ltkQ"
      },
      "source": [
        "### Resto da divisão ($\\%$)"
      ]
    },
    {
      "cell_type": "code",
      "metadata": {
        "colab": {
          "base_uri": "https://localhost:8080/"
        },
        "id": "bfa7phO6ltkR",
        "outputId": "34bc5d89-2e54-401d-f45b-5877c6aa8178"
      },
      "source": [
        " 10 % 3"
      ],
      "execution_count": null,
      "outputs": [
        {
          "output_type": "execute_result",
          "data": {
            "text/plain": [
              "1"
            ]
          },
          "metadata": {
            "tags": []
          },
          "execution_count": 21
        }
      ]
    },
    {
      "cell_type": "code",
      "metadata": {
        "colab": {
          "base_uri": "https://localhost:8080/"
        },
        "id": "khIEx6olltkT",
        "outputId": "bfc23664-af33-4768-d1ce-f3b0d67e27d3"
      },
      "source": [
        "10 % 2"
      ],
      "execution_count": null,
      "outputs": [
        {
          "output_type": "execute_result",
          "data": {
            "text/plain": [
              "0"
            ]
          },
          "metadata": {
            "tags": []
          },
          "execution_count": 22
        }
      ]
    },
    {
      "cell_type": "markdown",
      "metadata": {
        "id": "8pVVp5fsltkV"
      },
      "source": [
        "### Expressões matemáticas"
      ]
    },
    {
      "cell_type": "code",
      "metadata": {
        "colab": {
          "base_uri": "https://localhost:8080/"
        },
        "id": "jlQTk4gNltkW",
        "outputId": "ff392136-f6f9-414d-e398-87bad598a1c5"
      },
      "source": [
        "5 * 2 + 3 * 2"
      ],
      "execution_count": null,
      "outputs": [
        {
          "output_type": "execute_result",
          "data": {
            "text/plain": [
              "16"
            ]
          },
          "metadata": {
            "tags": []
          },
          "execution_count": 23
        }
      ]
    },
    {
      "cell_type": "code",
      "metadata": {
        "colab": {
          "base_uri": "https://localhost:8080/"
        },
        "id": "kkCb6Crgltka",
        "outputId": "4f44d997-3d53-4090-a75c-054d9de7e642"
      },
      "source": [
        "(5 * 2) + (3 * 2)"
      ],
      "execution_count": null,
      "outputs": [
        {
          "output_type": "execute_result",
          "data": {
            "text/plain": [
              "16"
            ]
          },
          "metadata": {
            "tags": []
          },
          "execution_count": 24
        }
      ]
    },
    {
      "cell_type": "code",
      "metadata": {
        "colab": {
          "base_uri": "https://localhost:8080/"
        },
        "id": "UD12tlgAltkd",
        "outputId": "770fe394-7e90-4eb0-bfda-c708278fe0cc"
      },
      "source": [
        "5 * (2 + 3) * 2"
      ],
      "execution_count": null,
      "outputs": [
        {
          "output_type": "execute_result",
          "data": {
            "text/plain": [
              "50"
            ]
          },
          "metadata": {
            "tags": []
          },
          "execution_count": 25
        }
      ]
    },
    {
      "cell_type": "markdown",
      "metadata": {
        "id": "a5tKQ5Beltkf"
      },
      "source": [
        "### A variável _\n",
        "\n",
        "No modo interativo, o último resultado impresso é atribuído à variável _"
      ]
    },
    {
      "cell_type": "code",
      "metadata": {
        "colab": {
          "base_uri": "https://localhost:8080/"
        },
        "id": "VkHEx516ltkg",
        "outputId": "4acf4b2c-33a1-4226-a820-9b88a6657f03"
      },
      "source": [
        "5 * 2 #Memória da calculadora do ultimo valor"
      ],
      "execution_count": null,
      "outputs": [
        {
          "output_type": "execute_result",
          "data": {
            "text/plain": [
              "10"
            ]
          },
          "metadata": {
            "tags": []
          },
          "execution_count": 27
        }
      ]
    },
    {
      "cell_type": "code",
      "metadata": {
        "colab": {
          "base_uri": "https://localhost:8080/"
        },
        "id": "dFShsobXltki",
        "outputId": "b9293a89-f106-4fef-ed68-e6325e6f7a0a"
      },
      "source": [
        "_ + 3 * 2 #Pega o valor 10 e soma com 3*2"
      ],
      "execution_count": null,
      "outputs": [
        {
          "output_type": "execute_result",
          "data": {
            "text/plain": [
              "16"
            ]
          },
          "metadata": {
            "tags": []
          },
          "execution_count": 29
        }
      ]
    },
    {
      "cell_type": "code",
      "metadata": {
        "colab": {
          "base_uri": "https://localhost:8080/"
        },
        "id": "hJIpR3KUltkk",
        "outputId": "568d145e-4b04-40ea-db8e-55ca9b85c1f4"
      },
      "source": [
        "_ / 2"
      ],
      "execution_count": null,
      "outputs": [
        {
          "output_type": "execute_result",
          "data": {
            "text/plain": [
              "8.0"
            ]
          },
          "metadata": {
            "tags": []
          },
          "execution_count": 30
        }
      ]
    },
    {
      "cell_type": "markdown",
      "metadata": {
        "id": "MUrQAf6Mltkm"
      },
      "source": [
        "# 2.2 Variáveis "
      ]
    },
    {
      "cell_type": "markdown",
      "metadata": {
        "id": "qaVLKIeultkn"
      },
      "source": [
        "### Nomes de variáveis\n",
        "\n",
        "- Nomes de variáveis pode começar com letras (a - z, A - Z) ou o caractere *underscore* (_):\n",
        "\n",
        "    > Altura\n",
        "    >\n",
        "    > _peso\n",
        "    \n",
        "- O restante do nome pode conter letras, números e o caractere \"_\":\n",
        "\n",
        "    > nome_da_variavel\n",
        "    >\n",
        "    > _valor\n",
        "    >\n",
        "    > dia_28_11_\n",
        "    \n",
        "\n",
        "- O nomes são *case sensitive*:\n",
        "\n",
        "    > Nome_Da_Variável $\\ne$ nome_da_variavel $\\ne$ NOME_DA_VARIAVEL\n",
        "    \n",
        "### <font color=red>Observações:\n",
        "- Existem algumas palavras reservadas da linguagem que não podem ser utilizadas como nomes de variável:\n",
        "\n",
        "| |Lista de palavras <br>reservadas em Python| |\n",
        "|:-------------:|:------------:|:-------------:|\n",
        "| and           | as           | not           | \n",
        "| assert        | finally      | or            | \n",
        "| break         | for          | pass          | \n",
        "| class         | from         | nonlocal      | \n",
        "| continue      | global       | raise         | \n",
        "| def           | if           | return        | \n",
        "| del           | import       | try           | \n",
        "| elif          | in           | while         | \n",
        "| else          | is           | with          | \n",
        "| except        | lambda       | yield         | \n",
        "| False         | True         | None          | "
      ]
    },
    {
      "cell_type": "markdown",
      "metadata": {
        "id": "3frWjfAtltkn"
      },
      "source": [
        "### Declaração de variáveis\n",
        "\n",
        "### Operadores de atribuição: $=$, $+=$, $-=$, $*=$, $/=$, $**=$, $\\%=$, $//=$"
      ]
    },
    {
      "cell_type": "code",
      "metadata": {
        "id": "7VIcrXNHltko"
      },
      "source": [
        "ano_atual = 2019\n",
        "ano_fabricacao = 2003\n",
        "km_total = 44410.0"
      ],
      "execution_count": null,
      "outputs": []
    },
    {
      "cell_type": "code",
      "metadata": {
        "colab": {
          "base_uri": "https://localhost:8080/"
        },
        "id": "atVoqp6bltkq",
        "outputId": "83cdc35b-d238-43ed-9fb3-27a83d511f6d"
      },
      "source": [
        "km_total"
      ],
      "execution_count": null,
      "outputs": [
        {
          "output_type": "execute_result",
          "data": {
            "text/plain": [
              "44410.0"
            ]
          },
          "metadata": {
            "tags": []
          },
          "execution_count": 43
        }
      ]
    },
    {
      "cell_type": "code",
      "metadata": {
        "id": "_t82qXrOltkt"
      },
      "source": [
        ""
      ],
      "execution_count": null,
      "outputs": []
    },
    {
      "cell_type": "code",
      "metadata": {
        "id": "1anwuDHiltkv"
      },
      "source": [
        ""
      ],
      "execution_count": null,
      "outputs": []
    },
    {
      "cell_type": "markdown",
      "metadata": {
        "id": "gCBkfq_8ltky"
      },
      "source": [
        "# $$km_{média} = \\frac {km_{total}}{(Ano_{atual} - Ano_{fabricação})}$$"
      ]
    },
    {
      "cell_type": "markdown",
      "metadata": {
        "id": "zswWS4hNltky"
      },
      "source": [
        "### Operações com variáveis"
      ]
    },
    {
      "cell_type": "code",
      "metadata": {
        "colab": {
          "base_uri": "https://localhost:8080/"
        },
        "id": "HxxU0rnfltkz",
        "outputId": "a83352c6-f29e-4208-9590-d501319be9b4"
      },
      "source": [
        "km_media = km_total / (ano_atual - ano_fabricacao)\n",
        "km_media"
      ],
      "execution_count": null,
      "outputs": [
        {
          "output_type": "execute_result",
          "data": {
            "text/plain": [
              "2775.625"
            ]
          },
          "metadata": {
            "tags": []
          },
          "execution_count": 50
        }
      ]
    },
    {
      "cell_type": "code",
      "metadata": {
        "colab": {
          "base_uri": "https://localhost:8080/"
        },
        "id": "_2Qhb32jltk1",
        "outputId": "5a97a81f-53e4-4cf6-fa23-502c8a59475c"
      },
      "source": [
        "ano_atual = 2019\n",
        "ano_fabricacao = 2003\n",
        "km_total = 44410.0\n",
        "km_media = km_total / (ano_atual - ano_fabricacao)\n",
        "km_media"
      ],
      "execution_count": null,
      "outputs": [
        {
          "output_type": "execute_result",
          "data": {
            "text/plain": [
              "2775.625"
            ]
          },
          "metadata": {
            "tags": []
          },
          "execution_count": 49
        }
      ]
    },
    {
      "cell_type": "code",
      "metadata": {
        "colab": {
          "base_uri": "https://localhost:8080/"
        },
        "id": "nCJzA7dyltk3",
        "outputId": "71159ba7-8685-4b42-b5f3-e6ad99e9be1b"
      },
      "source": [
        "ano_atual = 2019\n",
        "ano_fabricacao = 2003\n",
        "km_total = 44410.0\n",
        "km_media = km_total / (ano_atual - ano_fabricacao)\n",
        "\n",
        "\n",
        "km_total = km_total + km_media\n",
        "km_total"
      ],
      "execution_count": null,
      "outputs": [
        {
          "output_type": "execute_result",
          "data": {
            "text/plain": [
              "47185.625"
            ]
          },
          "metadata": {
            "tags": []
          },
          "execution_count": 51
        }
      ]
    },
    {
      "cell_type": "code",
      "metadata": {
        "colab": {
          "base_uri": "https://localhost:8080/"
        },
        "id": "ifRwQ0vEltk9",
        "outputId": "b0422344-a313-48f1-fac9-702a5072851d"
      },
      "source": [
        "ano_atual = 2019\n",
        "ano_fabricacao = 2003\n",
        "km_total = 44410.0\n",
        "km_media = km_total / (ano_atual - ano_fabricacao)\n",
        "\n",
        "\n",
        "km_total += km_media\n",
        "km_total"
      ],
      "execution_count": null,
      "outputs": [
        {
          "output_type": "execute_result",
          "data": {
            "text/plain": [
              "47185.625"
            ]
          },
          "metadata": {
            "tags": []
          },
          "execution_count": 52
        }
      ]
    },
    {
      "cell_type": "markdown",
      "metadata": {
        "id": "fDBrHWSBltlB"
      },
      "source": [
        "### Conclusão:\n",
        "```\n",
        "\"valor = valor + 1\" é equivalente a \"valor += 1\"\n",
        "```"
      ]
    },
    {
      "cell_type": "markdown",
      "metadata": {
        "id": "uVAyJbmAltlC"
      },
      "source": [
        "### Declaração múltipla"
      ]
    },
    {
      "cell_type": "code",
      "metadata": {
        "id": "oMWEzjPOltlC"
      },
      "source": [
        "ano_atual, ano_fabricacao, km_total = 2019, 2003, 44410.0"
      ],
      "execution_count": null,
      "outputs": []
    },
    {
      "cell_type": "code",
      "metadata": {
        "colab": {
          "base_uri": "https://localhost:8080/"
        },
        "id": "9ZKlHkLultlE",
        "outputId": "937030f5-34e1-4869-ac87-9922c34c25b9"
      },
      "source": [
        "ano_atual"
      ],
      "execution_count": null,
      "outputs": [
        {
          "output_type": "execute_result",
          "data": {
            "text/plain": [
              "2019"
            ]
          },
          "metadata": {
            "tags": []
          },
          "execution_count": 54
        }
      ]
    },
    {
      "cell_type": "code",
      "metadata": {
        "colab": {
          "base_uri": "https://localhost:8080/"
        },
        "id": "-mcMuW9nltlG",
        "outputId": "b07dfb79-ae63-45cf-9a9d-676e46253b18"
      },
      "source": [
        "ano_fabricacao"
      ],
      "execution_count": null,
      "outputs": [
        {
          "output_type": "execute_result",
          "data": {
            "text/plain": [
              "2003"
            ]
          },
          "metadata": {
            "tags": []
          },
          "execution_count": 55
        }
      ]
    },
    {
      "cell_type": "code",
      "metadata": {
        "colab": {
          "base_uri": "https://localhost:8080/"
        },
        "id": "WFFavLIvltlL",
        "outputId": "448bf5d2-a651-4e1b-f43f-3917109b0547"
      },
      "source": [
        "km_total"
      ],
      "execution_count": null,
      "outputs": [
        {
          "output_type": "execute_result",
          "data": {
            "text/plain": [
              "44410.0"
            ]
          },
          "metadata": {
            "tags": []
          },
          "execution_count": 56
        }
      ]
    },
    {
      "cell_type": "code",
      "metadata": {
        "colab": {
          "base_uri": "https://localhost:8080/"
        },
        "id": "iFawOJe6ltlO",
        "outputId": "4aad5762-d8e7-4aeb-bb23-ebcb21d93c29"
      },
      "source": [
        "ano_atual, ano_fabricacao, km_total = 2019, 2003, 44410.0\n",
        "km_media = km_total / (ano_atual - ano_fabricacao)\n",
        "km_media"
      ],
      "execution_count": null,
      "outputs": [
        {
          "output_type": "execute_result",
          "data": {
            "text/plain": [
              "2775.625"
            ]
          },
          "metadata": {
            "tags": []
          },
          "execution_count": 57
        }
      ]
    },
    {
      "cell_type": "markdown",
      "metadata": {
        "id": "uoRXMeRDltlQ"
      },
      "source": [
        "# 2.3 Tipos de dados"
      ]
    },
    {
      "cell_type": "markdown",
      "metadata": {
        "id": "sW_G6EjWltlQ"
      },
      "source": [
        "Os tipos de dados especificam como números e caracteres serão armazenados e manipulados dentro de um programa. Os tipos de dados básicos do Python são:\n",
        "\n",
        "1. **Números**\n",
        "    1. ***int*** - Inteiros\n",
        "    - ***float*** - Ponto flutuante\n",
        "- **Booleanos** - Assume os valores True ou False. Essencial quando começarmos a trabalhar com declarações condicionais\n",
        "- ***Strings*** - Sequência de um ou mais caracteres que pode incluir letras, números e outros tipos de caracteres. Representa um texto.\n",
        "- **None** - Representa a ausência de valor"
      ]
    },
    {
      "cell_type": "markdown",
      "metadata": {
        "id": "-HRRxQOtltlQ"
      },
      "source": [
        "### Números"
      ]
    },
    {
      "cell_type": "code",
      "metadata": {
        "id": "5PKIcIuUltlR"
      },
      "source": [
        "ano_atual = 2019"
      ],
      "execution_count": null,
      "outputs": []
    },
    {
      "cell_type": "code",
      "metadata": {
        "id": "G32Yd1g0ltlT",
        "colab": {
          "base_uri": "https://localhost:8080/"
        },
        "outputId": "cb7ffad1-779f-4438-e919-12bfa77a79fc"
      },
      "source": [
        "type(ano_atual)"
      ],
      "execution_count": null,
      "outputs": [
        {
          "output_type": "execute_result",
          "data": {
            "text/plain": [
              "int"
            ]
          },
          "metadata": {
            "tags": []
          },
          "execution_count": 2
        }
      ]
    },
    {
      "cell_type": "code",
      "metadata": {
        "id": "b9_v__dEltlV"
      },
      "source": [
        "km_total = 44410.0"
      ],
      "execution_count": null,
      "outputs": []
    },
    {
      "cell_type": "code",
      "metadata": {
        "id": "A0nySb3LltlZ",
        "colab": {
          "base_uri": "https://localhost:8080/"
        },
        "outputId": "3ce3ee4d-55d4-4aea-9814-cf5c5ab732e3"
      },
      "source": [
        "type(km_total)"
      ],
      "execution_count": null,
      "outputs": [
        {
          "output_type": "execute_result",
          "data": {
            "text/plain": [
              "float"
            ]
          },
          "metadata": {
            "tags": []
          },
          "execution_count": 4
        }
      ]
    },
    {
      "cell_type": "markdown",
      "metadata": {
        "id": "7X9iheAnltld"
      },
      "source": [
        "### Booleanos"
      ]
    },
    {
      "cell_type": "code",
      "metadata": {
        "id": "liUYdchPltle"
      },
      "source": [
        "zero_km = True"
      ],
      "execution_count": null,
      "outputs": []
    },
    {
      "cell_type": "code",
      "metadata": {
        "id": "oZIQAghaltlh",
        "colab": {
          "base_uri": "https://localhost:8080/"
        },
        "outputId": "943e2767-2ed5-48fc-e13e-82575c5cac3b"
      },
      "source": [
        "type(zero_km)"
      ],
      "execution_count": null,
      "outputs": [
        {
          "output_type": "execute_result",
          "data": {
            "text/plain": [
              "bool"
            ]
          },
          "metadata": {
            "tags": []
          },
          "execution_count": 6
        }
      ]
    },
    {
      "cell_type": "code",
      "metadata": {
        "id": "XCAYApe3ltlj"
      },
      "source": [
        "zero_km = False"
      ],
      "execution_count": null,
      "outputs": []
    },
    {
      "cell_type": "code",
      "metadata": {
        "id": "mJ0nGEV7ltll",
        "colab": {
          "base_uri": "https://localhost:8080/"
        },
        "outputId": "d75c47b5-f3cf-4bfb-a2be-a2cfe51c80e5"
      },
      "source": [
        "type(zero_km)"
      ],
      "execution_count": null,
      "outputs": [
        {
          "output_type": "execute_result",
          "data": {
            "text/plain": [
              "bool"
            ]
          },
          "metadata": {
            "tags": []
          },
          "execution_count": 8
        }
      ]
    },
    {
      "cell_type": "markdown",
      "metadata": {
        "id": "Ipjq4eiSltlp"
      },
      "source": [
        "### Strings"
      ]
    },
    {
      "cell_type": "code",
      "metadata": {
        "id": "OeW_GQzOltlr",
        "colab": {
          "base_uri": "https://localhost:8080/",
          "height": 35
        },
        "outputId": "c9c64591-175a-45c5-d874-fd8f53ae368a"
      },
      "source": [
        "nome = 'Jetta Variant'\n",
        "nome"
      ],
      "execution_count": null,
      "outputs": [
        {
          "output_type": "execute_result",
          "data": {
            "application/vnd.google.colaboratory.intrinsic+json": {
              "type": "string"
            },
            "text/plain": [
              "'Jetta Variant'"
            ]
          },
          "metadata": {
            "tags": []
          },
          "execution_count": 10
        }
      ]
    },
    {
      "cell_type": "code",
      "metadata": {
        "id": "xF1Bi-Rkltlu",
        "colab": {
          "base_uri": "https://localhost:8080/",
          "height": 35
        },
        "outputId": "6d0258fc-1b09-4535-94db-ea68f256f305"
      },
      "source": [
        "nome = \"Jetta Variant\"\n",
        "nome"
      ],
      "execution_count": null,
      "outputs": [
        {
          "output_type": "execute_result",
          "data": {
            "application/vnd.google.colaboratory.intrinsic+json": {
              "type": "string"
            },
            "text/plain": [
              "'Jetta Variant'"
            ]
          },
          "metadata": {
            "tags": []
          },
          "execution_count": 11
        }
      ]
    },
    {
      "cell_type": "code",
      "metadata": {
        "id": "QlobSFUtltlw",
        "colab": {
          "base_uri": "https://localhost:8080/",
          "height": 35
        },
        "outputId": "eb2908a1-a038-4155-f5a6-edcfff2ca503"
      },
      "source": [
        "nome = \"Jetta 'Variant'\" #Se houver citação em \"\"\n",
        "nome"
      ],
      "execution_count": null,
      "outputs": [
        {
          "output_type": "execute_result",
          "data": {
            "application/vnd.google.colaboratory.intrinsic+json": {
              "type": "string"
            },
            "text/plain": [
              "\"Jetta 'Variant'\""
            ]
          },
          "metadata": {
            "tags": []
          },
          "execution_count": 12
        }
      ]
    },
    {
      "cell_type": "code",
      "metadata": {
        "id": "8LBWzzfbltly",
        "colab": {
          "base_uri": "https://localhost:8080/",
          "height": 35
        },
        "outputId": "c6a35746-ab52-43c0-ece0-4fedef60f4ef"
      },
      "source": [
        "nome = 'Jetta \"Variant\"'\n",
        "nome"
      ],
      "execution_count": null,
      "outputs": [
        {
          "output_type": "execute_result",
          "data": {
            "application/vnd.google.colaboratory.intrinsic+json": {
              "type": "string"
            },
            "text/plain": [
              "'Jetta \"Variant\"'"
            ]
          },
          "metadata": {
            "tags": []
          },
          "execution_count": 13
        }
      ]
    },
    {
      "cell_type": "code",
      "metadata": {
        "id": "ycEhoxtUltl0"
      },
      "source": [
        "carro = '''\n",
        " Nome\n",
        " Idade\n",
        " Nota\n",
        "'''"
      ],
      "execution_count": null,
      "outputs": []
    },
    {
      "cell_type": "code",
      "metadata": {
        "id": "bjZQzpuUltl2",
        "colab": {
          "base_uri": "https://localhost:8080/"
        },
        "outputId": "c2a7e9da-b472-4990-f696-77d407efdc2e"
      },
      "source": [
        "type(carro)"
      ],
      "execution_count": null,
      "outputs": [
        {
          "output_type": "execute_result",
          "data": {
            "text/plain": [
              "str"
            ]
          },
          "metadata": {
            "tags": []
          },
          "execution_count": 16
        }
      ]
    },
    {
      "cell_type": "markdown",
      "metadata": {
        "id": "w6bJU-R9ltl5"
      },
      "source": [
        "### None"
      ]
    },
    {
      "cell_type": "code",
      "metadata": {
        "id": "RgeVhXGxltl5"
      },
      "source": [
        "quilometragem = None #Vazio ou valor Nulo\n",
        "quilometragem"
      ],
      "execution_count": null,
      "outputs": []
    },
    {
      "cell_type": "code",
      "metadata": {
        "id": "MJI6PKS6ltl8",
        "colab": {
          "base_uri": "https://localhost:8080/"
        },
        "outputId": "e8533bc1-67b2-4a12-cbf1-1caf940309f2"
      },
      "source": [
        "type(quilometragem)"
      ],
      "execution_count": null,
      "outputs": [
        {
          "output_type": "execute_result",
          "data": {
            "text/plain": [
              "NoneType"
            ]
          },
          "metadata": {
            "tags": []
          },
          "execution_count": 18
        }
      ]
    },
    {
      "cell_type": "markdown",
      "metadata": {
        "id": "_ilupwV-ltl-"
      },
      "source": [
        "# 2.4 Conversão de tipos"
      ]
    },
    {
      "cell_type": "code",
      "metadata": {
        "id": "D5hq5Qbvltl-"
      },
      "source": [
        "a = 10\n",
        "b = 20\n",
        "c = 'Python é '\n",
        "d = 'legal'"
      ],
      "execution_count": null,
      "outputs": []
    },
    {
      "cell_type": "code",
      "metadata": {
        "id": "aJ0vi8_Nltl_",
        "colab": {
          "base_uri": "https://localhost:8080/"
        },
        "outputId": "cc58c10f-26a7-4d2c-a566-2364d0cf4ecf"
      },
      "source": [
        "type(a)"
      ],
      "execution_count": null,
      "outputs": [
        {
          "output_type": "execute_result",
          "data": {
            "text/plain": [
              "int"
            ]
          },
          "metadata": {
            "tags": []
          },
          "execution_count": 22
        }
      ]
    },
    {
      "cell_type": "code",
      "metadata": {
        "id": "29FVH7p7ltmB",
        "colab": {
          "base_uri": "https://localhost:8080/"
        },
        "outputId": "bd7cf782-f04c-4e7c-9b24-3083be1204f3"
      },
      "source": [
        "type(b)"
      ],
      "execution_count": null,
      "outputs": [
        {
          "output_type": "execute_result",
          "data": {
            "text/plain": [
              "int"
            ]
          },
          "metadata": {
            "tags": []
          },
          "execution_count": 23
        }
      ]
    },
    {
      "cell_type": "code",
      "metadata": {
        "id": "NGseTO2SltmC",
        "colab": {
          "base_uri": "https://localhost:8080/"
        },
        "outputId": "ec7779e3-a9b5-4aba-b376-a635facbde00"
      },
      "source": [
        "type(c)"
      ],
      "execution_count": null,
      "outputs": [
        {
          "output_type": "execute_result",
          "data": {
            "text/plain": [
              "str"
            ]
          },
          "metadata": {
            "tags": []
          },
          "execution_count": 21
        }
      ]
    },
    {
      "cell_type": "code",
      "metadata": {
        "id": "yaSBhwNWltmE",
        "colab": {
          "base_uri": "https://localhost:8080/"
        },
        "outputId": "c6cf06c9-3d89-4a61-e608-bf02b2aae847"
      },
      "source": [
        "type(d)"
      ],
      "execution_count": null,
      "outputs": [
        {
          "output_type": "execute_result",
          "data": {
            "text/plain": [
              "str"
            ]
          },
          "metadata": {
            "tags": []
          },
          "execution_count": 20
        }
      ]
    },
    {
      "cell_type": "code",
      "metadata": {
        "id": "5zMXVwLHltmF",
        "colab": {
          "base_uri": "https://localhost:8080/"
        },
        "outputId": "6ac1c975-32e6-4929-a0c0-06921169863b"
      },
      "source": [
        "a + b"
      ],
      "execution_count": null,
      "outputs": [
        {
          "output_type": "execute_result",
          "data": {
            "text/plain": [
              "30"
            ]
          },
          "metadata": {
            "tags": []
          },
          "execution_count": 24
        }
      ]
    },
    {
      "cell_type": "code",
      "metadata": {
        "id": "JJrqKRZFltmJ",
        "colab": {
          "base_uri": "https://localhost:8080/",
          "height": 35
        },
        "outputId": "a3196d3b-c82f-4950-e4e0-a663c47bea94"
      },
      "source": [
        "c + d"
      ],
      "execution_count": null,
      "outputs": [
        {
          "output_type": "execute_result",
          "data": {
            "application/vnd.google.colaboratory.intrinsic+json": {
              "type": "string"
            },
            "text/plain": [
              "'Python é legal'"
            ]
          },
          "metadata": {
            "tags": []
          },
          "execution_count": 25
        }
      ]
    },
    {
      "cell_type": "code",
      "metadata": {
        "id": "hWEIttpgltmM"
      },
      "source": [
        "# c + a"
      ],
      "execution_count": null,
      "outputs": []
    },
    {
      "cell_type": "markdown",
      "metadata": {
        "id": "dByigpENltmO"
      },
      "source": [
        "### Conversões de tipo\n",
        "\n",
        "Funções int(), float(), str()"
      ]
    },
    {
      "cell_type": "code",
      "metadata": {
        "id": "MtecvWlsltmP",
        "colab": {
          "base_uri": "https://localhost:8080/",
          "height": 35
        },
        "outputId": "7053f801-af49-4aa5-f5ef-687371b3dc47"
      },
      "source": [
        "str(a) #Converte valor int para String"
      ],
      "execution_count": null,
      "outputs": [
        {
          "output_type": "execute_result",
          "data": {
            "application/vnd.google.colaboratory.intrinsic+json": {
              "type": "string"
            },
            "text/plain": [
              "'10'"
            ]
          },
          "metadata": {
            "tags": []
          },
          "execution_count": 30
        }
      ]
    },
    {
      "cell_type": "code",
      "metadata": {
        "id": "S1NuIhDVltmS",
        "colab": {
          "base_uri": "https://localhost:8080/"
        },
        "outputId": "86205806-8b6c-49c6-c3eb-827ebc090f69"
      },
      "source": [
        "type(str(a))"
      ],
      "execution_count": null,
      "outputs": [
        {
          "output_type": "execute_result",
          "data": {
            "text/plain": [
              "str"
            ]
          },
          "metadata": {
            "tags": []
          },
          "execution_count": 32
        }
      ]
    },
    {
      "cell_type": "code",
      "metadata": {
        "id": "3kCUD1X-ltmT",
        "colab": {
          "base_uri": "https://localhost:8080/",
          "height": 35
        },
        "outputId": "0715c6d9-6fe4-421a-e524-9e7dad48b47e"
      },
      "source": [
        "c + str(a)"
      ],
      "execution_count": null,
      "outputs": [
        {
          "output_type": "execute_result",
          "data": {
            "application/vnd.google.colaboratory.intrinsic+json": {
              "type": "string"
            },
            "text/plain": [
              "'Python é 10'"
            ]
          },
          "metadata": {
            "tags": []
          },
          "execution_count": 33
        }
      ]
    },
    {
      "cell_type": "code",
      "metadata": {
        "id": "TTjSEVRaltmU",
        "colab": {
          "base_uri": "https://localhost:8080/"
        },
        "outputId": "d505a662-a9b6-4a70-fa72-6a0bf47ce597"
      },
      "source": [
        "float(a) #Converte para float"
      ],
      "execution_count": null,
      "outputs": [
        {
          "output_type": "execute_result",
          "data": {
            "text/plain": [
              "10.0"
            ]
          },
          "metadata": {
            "tags": []
          },
          "execution_count": 34
        }
      ]
    },
    {
      "cell_type": "code",
      "metadata": {
        "id": "P1P1bXaYltmV"
      },
      "source": [
        "var = 3.141592"
      ],
      "execution_count": null,
      "outputs": []
    },
    {
      "cell_type": "code",
      "metadata": {
        "id": "F_8Cn0aAltmW",
        "colab": {
          "base_uri": "https://localhost:8080/"
        },
        "outputId": "f5f9c6f7-9d6a-4e12-b3e6-49f42ad2df50"
      },
      "source": [
        "type(var)"
      ],
      "execution_count": null,
      "outputs": [
        {
          "output_type": "execute_result",
          "data": {
            "text/plain": [
              "float"
            ]
          },
          "metadata": {
            "tags": []
          },
          "execution_count": 36
        }
      ]
    },
    {
      "cell_type": "code",
      "metadata": {
        "id": "_KA6MUgmltmY",
        "colab": {
          "base_uri": "https://localhost:8080/"
        },
        "outputId": "e39c2b7b-5559-456f-cdb6-8e98bf23b97c"
      },
      "source": [
        "int(var) #PEGA APENAS A PARTE INTEIRA NA CONVERSÃO"
      ],
      "execution_count": null,
      "outputs": [
        {
          "output_type": "execute_result",
          "data": {
            "text/plain": [
              "3"
            ]
          },
          "metadata": {
            "tags": []
          },
          "execution_count": 38
        }
      ]
    },
    {
      "cell_type": "code",
      "metadata": {
        "id": "7uiCxqUcltma"
      },
      "source": [
        "var = 3.99"
      ],
      "execution_count": null,
      "outputs": []
    },
    {
      "cell_type": "code",
      "metadata": {
        "colab": {
          "base_uri": "https://localhost:8080/"
        },
        "id": "de1KUZHOFhev",
        "outputId": "450d215d-06b2-4c36-9d77-b48cff1e2ad3"
      },
      "source": [
        "int(var)"
      ],
      "execution_count": null,
      "outputs": [
        {
          "output_type": "execute_result",
          "data": {
            "text/plain": [
              "3"
            ]
          },
          "metadata": {
            "tags": []
          },
          "execution_count": 40
        }
      ]
    },
    {
      "cell_type": "markdown",
      "metadata": {
        "id": "gGpflJMYltmd"
      },
      "source": [
        "# 2.5 Indentação, comentários e formatação de *strings*"
      ]
    },
    {
      "cell_type": "markdown",
      "metadata": {
        "id": "XbijUgqVltmw"
      },
      "source": [
        "### Indentação\n",
        "\n",
        "Na linguagem Python os programas são estruturados por meio de indentação. Em qualquer linguagem de programação a prática da indentação é bastante útil, facilitando a leitura e também a manutenção do código. Em Python a indentação não é somente uma questão de organização e estilo, mas sim um requisito da linguagem."
      ]
    },
    {
      "cell_type": "code",
      "metadata": {
        "id": "DqXANnyultmw"
      },
      "source": [
        "ano_atual = 2019\n",
        "ano_fabricacao = 2019\n",
        "\n",
        "if (ano_atual == ano_fabricacao):\n",
        "    print('Verdadeiro')\n",
        "else:\n",
        "    print('Falso')"
      ],
      "execution_count": null,
      "outputs": []
    },
    {
      "cell_type": "markdown",
      "metadata": {
        "id": "dNBfv7x7ltmy"
      },
      "source": [
        "### Comentários\n",
        "\n",
        "Comentários são extremamente importantes em um programa. Consiste em um texto que descreve o que o programa ou uma parte específica do programa está fazendo. Os comentários são ignorados pelo interpretador Python. \n",
        "\n",
        "Podemos ter comentários de uma única linha ou de múltiplas linhas."
      ]
    },
    {
      "cell_type": "code",
      "metadata": {
        "id": "GN3DfwiRltmy"
      },
      "source": [
        "# Isto é um comentário\n",
        "# Se apertar CTRL + ; ele comenta a linha \n",
        "ano_atual = 2019\n",
        "ano_atual"
      ],
      "execution_count": null,
      "outputs": []
    },
    {
      "cell_type": "code",
      "metadata": {
        "id": "PICBiohFltm2"
      },
      "source": [
        "# Isto\n",
        "# é um \n",
        "# comentário\n",
        "ano_atual = 2019\n",
        "ano_atual"
      ],
      "execution_count": null,
      "outputs": []
    },
    {
      "cell_type": "code",
      "metadata": {
        "id": "PTkJ4Vjultm4"
      },
      "source": [
        "'''Isto é um\n",
        "comentário'''\n",
        "ano_atual = 2019\n",
        "ano_atual"
      ],
      "execution_count": null,
      "outputs": []
    },
    {
      "cell_type": "code",
      "metadata": {
        "id": "SYEGdALxltm5"
      },
      "source": [
        "# Definindo variáveis\n",
        "ano_atual = 2019\n",
        "ano_fabricacao = 2019\n",
        "\n",
        "'''\n",
        "Estrutura condicional que vamos \n",
        "aprender na próxima aula\n",
        "'''\n",
        "if (ano_atual == ano_fabricacao):   # Testando se condição é verdadeira\n",
        "    print('Verdadeiro')\n",
        "else:                               # Testando se condição é falsa\n",
        "    print('Falso')"
      ],
      "execution_count": null,
      "outputs": []
    },
    {
      "cell_type": "markdown",
      "metadata": {
        "id": "8--bcJ01ltm8"
      },
      "source": [
        "### Formatação de *strings*"
      ]
    },
    {
      "cell_type": "markdown",
      "metadata": {
        "id": "8lSC0XEDltm-"
      },
      "source": [
        "## *str % valor*\n",
        "https://docs.python.org/3.6/library/stdtypes.html#old-string-formatting"
      ]
    },
    {
      "cell_type": "markdown",
      "metadata": {
        "id": "Up5AQLSzMlSx"
      },
      "source": [
        "![image.png](data:image/png;base64,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)"
      ]
    },
    {
      "cell_type": "markdown",
      "metadata": {
        "id": "TQpLkVBqLDap"
      },
      "source": [
        "**Conversão dos dados após % e (var)**\n",
        "\n",
        "![F.PNG](data:image/png;base64,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)"
      ]
    },
    {
      "cell_type": "code",
      "metadata": {
        "id": "aqqBQJ8kltm_",
        "colab": {
          "base_uri": "https://localhost:8080/"
        },
        "outputId": "45c141cc-4541-496c-9df8-9873f499c7da"
      },
      "source": [
        "print('%(language)s has %(number)03d quote types.' %\n",
        "      {'language': \"Python\", \"number\": 2})"
      ],
      "execution_count": null,
      "outputs": [
        {
          "output_type": "stream",
          "text": [
            "Python has 002 quote types.\n"
          ],
          "name": "stdout"
        }
      ]
    },
    {
      "cell_type": "code",
      "metadata": {
        "id": "EFK1y92vltnA"
      },
      "source": [
        ""
      ],
      "execution_count": null,
      "outputs": []
    },
    {
      "cell_type": "code",
      "metadata": {
        "id": "3Y-V_AVDltnD"
      },
      "source": [
        ""
      ],
      "execution_count": null,
      "outputs": []
    },
    {
      "cell_type": "code",
      "metadata": {
        "id": "pr4wrDaSltnE"
      },
      "source": [
        ""
      ],
      "execution_count": null,
      "outputs": []
    },
    {
      "cell_type": "code",
      "metadata": {
        "id": "iQVGzKNvltnF"
      },
      "source": [
        ""
      ],
      "execution_count": null,
      "outputs": []
    },
    {
      "cell_type": "markdown",
      "metadata": {
        "id": "CMovhJZ_ltnG"
      },
      "source": [
        "## *str.format()*\n",
        "\n",
        "https://docs.python.org/3.6/library/stdtypes.html#str.format"
      ]
    },
    {
      "cell_type": "code",
      "metadata": {
        "id": "N12xmMehltnG",
        "colab": {
          "base_uri": "https://localhost:8080/"
        },
        "outputId": "2150ccd9-41c9-41d7-9968-9d9f1aa77608"
      },
      "source": [
        "#Show o output no console\n",
        "#As {} funcionam como um ponteiro\n",
        "print('Olá, {}!'.format('Felipe')) "
      ],
      "execution_count": null,
      "outputs": [
        {
          "output_type": "stream",
          "text": [
            "Olá, Felipe!\n"
          ],
          "name": "stdout"
        }
      ]
    },
    {
      "cell_type": "code",
      "metadata": {
        "id": "mRBmU9G1ltnJ",
        "colab": {
          "base_uri": "https://localhost:8080/"
        },
        "outputId": "8d4da8f7-b69c-461e-a7e4-3a8e29ee36b2"
      },
      "source": [
        "print('Olá, {}! Este é seu acesso de número {}'.format('Felipe', 20))"
      ],
      "execution_count": null,
      "outputs": [
        {
          "output_type": "stream",
          "text": [
            "Olá, Felipe! Este é seu acesso de número 20\n"
          ],
          "name": "stdout"
        }
      ]
    },
    {
      "cell_type": "code",
      "metadata": {
        "id": "wpqEsTwnltnL",
        "colab": {
          "base_uri": "https://localhost:8080/"
        },
        "outputId": "ea04504a-2b21-4ad4-ff8a-7b452d40a89f"
      },
      "source": [
        "print('Olá, {nome}! Este é seu acesso de número {acessos}'.format(nome = 'Felipe', acessos = 20))"
      ],
      "execution_count": null,
      "outputs": [
        {
          "output_type": "stream",
          "text": [
            "Olá, Felipe! Este é seu acesso de número 20\n"
          ],
          "name": "stdout"
        }
      ]
    },
    {
      "cell_type": "markdown",
      "metadata": {
        "id": "V-wPNUN9ltnN"
      },
      "source": [
        "## *f-Strings*\n",
        "\n",
        "https://docs.python.org/3.6/reference/lexical_analysis.html#f-strings"
      ]
    },
    {
      "cell_type": "code",
      "metadata": {
        "id": "7Fq_WPv0ltnO"
      },
      "source": [
        "nome = 'Felipe'\n",
        "acessos = 20"
      ],
      "execution_count": null,
      "outputs": []
    },
    {
      "cell_type": "code",
      "metadata": {
        "id": "bE3qbd6WltnR",
        "colab": {
          "base_uri": "https://localhost:8080/"
        },
        "outputId": "13992b26-1b26-4cc1-abe9-74a10b61c152"
      },
      "source": [
        "print(f'Olá, {nome}! Este é seu acesso de número {acessos}')"
      ],
      "execution_count": null,
      "outputs": [
        {
          "output_type": "stream",
          "text": [
            "Olá, Felipe! Este é seu acesso de número 20\n"
          ],
          "name": "stdout"
        }
      ]
    },
    {
      "cell_type": "markdown",
      "metadata": {
        "id": "_IZuNE48ltnS"
      },
      "source": [
        "# <font color=green> 3. TRABALHANDO COM LISTAS\n",
        "---"
      ]
    },
    {
      "cell_type": "markdown",
      "metadata": {
        "id": "zhS89xysltnS"
      },
      "source": [
        "# 3.1 Criando listas\n",
        "\n",
        "Listas são sequências **mutáveis** que são utilizadas para armazenar coleções de itens, geralmente homogêneos. Podem ser construídas de várias formas:\n",
        "```\n",
        "- Utilizando um par de colchetes: [ ], [ 1 ]\n",
        "- Utilizando um par de colchetes com itens separados por vírgulas: [ 1, 2, 3 ]\n",
        "```"
      ]
    },
    {
      "cell_type": "code",
      "metadata": {
        "id": "aE4UWF10ltnS",
        "colab": {
          "base_uri": "https://localhost:8080/"
        },
        "outputId": "3e990da3-f259-4b9a-906b-d162c2c26047"
      },
      "source": [
        "Acessorios = ['Rodas de liga', 'Travas elétricas', 'Piloto automático', 'Bancos de couro', 'Ar condicionado', 'Sensor de estacionamento', 'Sensor crepuscular', 'Sensor de chuva']\n",
        "Acessorios"
      ],
      "execution_count": null,
      "outputs": [
        {
          "output_type": "execute_result",
          "data": {
            "text/plain": [
              "['Rodas de liga',\n",
              " 'Travas elétricas',\n",
              " 'Piloto automático',\n",
              " 'Bancos de couro',\n",
              " 'Ar condicionado',\n",
              " 'Sensor de estacionamento',\n",
              " 'Sensor crepuscular',\n",
              " 'Sensor de chuva']"
            ]
          },
          "metadata": {
            "tags": []
          },
          "execution_count": 76
        }
      ]
    },
    {
      "cell_type": "code",
      "metadata": {
        "colab": {
          "base_uri": "https://localhost:8080/"
        },
        "id": "Jl7pQJe8NQJv",
        "outputId": "8cb1711d-a7ba-4e06-8e2a-31931d898c78"
      },
      "source": [
        "type(Acessorios)"
      ],
      "execution_count": null,
      "outputs": [
        {
          "output_type": "execute_result",
          "data": {
            "text/plain": [
              "list"
            ]
          },
          "metadata": {
            "tags": []
          },
          "execution_count": 51
        }
      ]
    },
    {
      "cell_type": "markdown",
      "metadata": {
        "id": "Mmlkh5TVltnT"
      },
      "source": [
        "### Lista com tipos de dados variados"
      ]
    },
    {
      "cell_type": "code",
      "metadata": {
        "id": "Mfpu7NoJltnT"
      },
      "source": [
        "Carro_1 = ['Jetta Variant', 'Motor 4.0 Turbo', 2003, 44410.0, False, ['Rodas de liga', 'Travas elétricas', 'Piloto automático'], 88078.64]\n",
        "Carro_2 = ['Passat', 'Motor Diesel', 1991, 5712.0, False, ['Central multimídia', 'Teto panorâmico', 'Freios ABS'], 106161.94]"
      ],
      "execution_count": null,
      "outputs": []
    },
    {
      "cell_type": "code",
      "metadata": {
        "id": "EJSJFJjKltnV",
        "colab": {
          "base_uri": "https://localhost:8080/"
        },
        "outputId": "3ebd71a4-a674-4aba-b985-2e964978cb79"
      },
      "source": [
        "Carro_2"
      ],
      "execution_count": null,
      "outputs": [
        {
          "output_type": "execute_result",
          "data": {
            "text/plain": [
              "['Passat',\n",
              " 'Motor Diesel',\n",
              " 1991,\n",
              " 5712.0,\n",
              " False,\n",
              " ['Central multimídia', 'Teto panorâmico', 'Freios ABS'],\n",
              " 106161.94]"
            ]
          },
          "metadata": {
            "tags": []
          },
          "execution_count": 54
        }
      ]
    },
    {
      "cell_type": "code",
      "metadata": {
        "id": "7MMG7L8VltnX",
        "colab": {
          "base_uri": "https://localhost:8080/"
        },
        "outputId": "300c3b67-184c-4860-9086-30acb249d28f"
      },
      "source": [
        "Carros =[Carro_1, Carro_2]\n",
        "Carros"
      ],
      "execution_count": null,
      "outputs": [
        {
          "output_type": "execute_result",
          "data": {
            "text/plain": [
              "[['Jetta Variant',\n",
              "  'Motor 4.0 Turbo',\n",
              "  2003,\n",
              "  44410.0,\n",
              "  False,\n",
              "  ['Rodas de liga', 'Travas elétricas', 'Piloto automático'],\n",
              "  88078.64],\n",
              " ['Passat',\n",
              "  'Motor Diesel',\n",
              "  1991,\n",
              "  5712.0,\n",
              "  False,\n",
              "  ['Central multimídia', 'Teto panorâmico', 'Freios ABS'],\n",
              "  106161.94]]"
            ]
          },
          "metadata": {
            "tags": []
          },
          "execution_count": 55
        }
      ]
    },
    {
      "cell_type": "code",
      "metadata": {
        "id": "7E8erLgZltnZ"
      },
      "source": [
        ""
      ],
      "execution_count": null,
      "outputs": []
    },
    {
      "cell_type": "markdown",
      "metadata": {
        "id": "5yMXJ0xdltna"
      },
      "source": [
        "# 3.2 Operações com listas\n",
        "\n",
        "https://docs.python.org/3.6/library/stdtypes.html#common-sequence-operations"
      ]
    },
    {
      "cell_type": "markdown",
      "metadata": {
        "id": "YSorJOGlltna"
      },
      "source": [
        "## *x in A*\n",
        "\n",
        "Retorna **True** se um elemento da lista *A* for igual a *x*."
      ]
    },
    {
      "cell_type": "code",
      "metadata": {
        "id": "GgSP_nlHltnb",
        "colab": {
          "base_uri": "https://localhost:8080/"
        },
        "outputId": "191cff01-81a0-464f-af03-24284daf62bc"
      },
      "source": [
        "Acessorios #Verifica se tem um determinado item em uma lista"
      ],
      "execution_count": null,
      "outputs": [
        {
          "output_type": "execute_result",
          "data": {
            "text/plain": [
              "['Rodas de liga',\n",
              " 'Travas elétricas',\n",
              " 'Piloto automático',\n",
              " 'Bancos de couro',\n",
              " 'Ar condicionado',\n",
              " 'Sensor de estacionamento',\n",
              " 'Sensor crepuscular',\n",
              " 'Sensor de chuva']"
            ]
          },
          "metadata": {
            "tags": []
          },
          "execution_count": 56
        }
      ]
    },
    {
      "cell_type": "code",
      "metadata": {
        "id": "_JyyHPmWltnd",
        "colab": {
          "base_uri": "https://localhost:8080/"
        },
        "outputId": "c5cac59a-53ab-4539-9893-5a1226bbd5fe"
      },
      "source": [
        "#Rodas de liga esta em Acessorios?\n",
        "'Rodas de liga' in Acessorios"
      ],
      "execution_count": null,
      "outputs": [
        {
          "output_type": "execute_result",
          "data": {
            "text/plain": [
              "True"
            ]
          },
          "metadata": {
            "tags": []
          },
          "execution_count": 57
        }
      ]
    },
    {
      "cell_type": "code",
      "metadata": {
        "id": "tebg9gAyltne",
        "colab": {
          "base_uri": "https://localhost:8080/"
        },
        "outputId": "fb7b9d61-5cd0-4704-f57e-09f01ae72430"
      },
      "source": [
        "#Tem 4 x 4 em acessorios\n",
        "'4 X 4' in Acessorios"
      ],
      "execution_count": null,
      "outputs": [
        {
          "output_type": "execute_result",
          "data": {
            "text/plain": [
              "False"
            ]
          },
          "metadata": {
            "tags": []
          },
          "execution_count": 58
        }
      ]
    },
    {
      "cell_type": "code",
      "metadata": {
        "id": "W_1PKJYsltnf",
        "colab": {
          "base_uri": "https://localhost:8080/"
        },
        "outputId": "ad719425-3220-4657-d1c5-303093974209"
      },
      "source": [
        "#Rodas de liga não esta em acessorios?\n",
        "'Rodas de liga'not in Acessorios"
      ],
      "execution_count": null,
      "outputs": [
        {
          "output_type": "execute_result",
          "data": {
            "text/plain": [
              "False"
            ]
          },
          "metadata": {
            "tags": []
          },
          "execution_count": 59
        }
      ]
    },
    {
      "cell_type": "code",
      "metadata": {
        "id": "1WNsBXFyltng",
        "colab": {
          "base_uri": "https://localhost:8080/"
        },
        "outputId": "f51da29e-29ed-45a6-b654-3f6cfb8261a4"
      },
      "source": [
        "# 4 X 4 não esta em acessorios?\n",
        "'4 X 4' not in Acessorios"
      ],
      "execution_count": null,
      "outputs": [
        {
          "output_type": "execute_result",
          "data": {
            "text/plain": [
              "True"
            ]
          },
          "metadata": {
            "tags": []
          },
          "execution_count": 60
        }
      ]
    },
    {
      "cell_type": "markdown",
      "metadata": {
        "id": "RF6_rf90ltnh"
      },
      "source": [
        "## *A + B*\n",
        "\n",
        "Concatena as listas *A* e *B*."
      ]
    },
    {
      "cell_type": "code",
      "metadata": {
        "id": "8lnzbYnRltnh"
      },
      "source": [
        "A = ['Rodas de liga', 'Travas elétricas', 'Piloto automático', 'Bancos de couro']\n",
        "B = ['Ar condicionado', 'Sensor de estacionamento', 'Sensor crepuscular', 'Sensor de chuva']"
      ],
      "execution_count": null,
      "outputs": []
    },
    {
      "cell_type": "code",
      "metadata": {
        "id": "SzbiHHF4ltni",
        "colab": {
          "base_uri": "https://localhost:8080/"
        },
        "outputId": "35e83747-73cf-400c-bafb-2de435304f7a"
      },
      "source": [
        "A"
      ],
      "execution_count": null,
      "outputs": [
        {
          "output_type": "execute_result",
          "data": {
            "text/plain": [
              "['Rodas de liga', 'Travas elétricas', 'Piloto automático', 'Bancos de couro']"
            ]
          },
          "metadata": {
            "tags": []
          },
          "execution_count": 62
        }
      ]
    },
    {
      "cell_type": "code",
      "metadata": {
        "id": "It5Cn5aXltni",
        "colab": {
          "base_uri": "https://localhost:8080/"
        },
        "outputId": "46e0bf76-b0cd-4399-99c5-bb2da36422e2"
      },
      "source": [
        "B"
      ],
      "execution_count": null,
      "outputs": [
        {
          "output_type": "execute_result",
          "data": {
            "text/plain": [
              "['Ar condicionado',\n",
              " 'Sensor de estacionamento',\n",
              " 'Sensor crepuscular',\n",
              " 'Sensor de chuva']"
            ]
          },
          "metadata": {
            "tags": []
          },
          "execution_count": 63
        }
      ]
    },
    {
      "cell_type": "code",
      "metadata": {
        "id": "l7gF4Ph5ltnj",
        "colab": {
          "base_uri": "https://localhost:8080/"
        },
        "outputId": "a724fbf9-c823-4963-b7da-9f732b9cf11d"
      },
      "source": [
        "A + B"
      ],
      "execution_count": null,
      "outputs": [
        {
          "output_type": "execute_result",
          "data": {
            "text/plain": [
              "['Rodas de liga',\n",
              " 'Travas elétricas',\n",
              " 'Piloto automático',\n",
              " 'Bancos de couro',\n",
              " 'Ar condicionado',\n",
              " 'Sensor de estacionamento',\n",
              " 'Sensor crepuscular',\n",
              " 'Sensor de chuva']"
            ]
          },
          "metadata": {
            "tags": []
          },
          "execution_count": 64
        }
      ]
    },
    {
      "cell_type": "markdown",
      "metadata": {
        "id": "iTv5t7zAltnk"
      },
      "source": [
        "## *len(A)*\n",
        "\n",
        "Tamanho da lista A."
      ]
    },
    {
      "cell_type": "code",
      "metadata": {
        "id": "dtbuCDSOltnk",
        "colab": {
          "base_uri": "https://localhost:8080/"
        },
        "outputId": "fc3899bb-1017-4747-e571-59c4210c0631"
      },
      "source": [
        "len(Acessorios)"
      ],
      "execution_count": null,
      "outputs": [
        {
          "output_type": "execute_result",
          "data": {
            "text/plain": [
              "8"
            ]
          },
          "metadata": {
            "tags": []
          },
          "execution_count": 65
        }
      ]
    },
    {
      "cell_type": "code",
      "metadata": {
        "id": "nBJVSWt3bRP0"
      },
      "source": [
        "carro = [\n",
        "    'Jetta Variant', \n",
        "    'Motor 4.0 Turbo', \n",
        "    2003, \n",
        "    44410.0, \n",
        "    False, \n",
        "    ['Rodas de liga', 'Travas elétricas', 'Piloto automático'], \n",
        "    88078.64\n",
        "]"
      ],
      "execution_count": null,
      "outputs": []
    },
    {
      "cell_type": "code",
      "metadata": {
        "colab": {
          "base_uri": "https://localhost:8080/"
        },
        "id": "yF5qyQn2bSPR",
        "outputId": "e5e4b4dd-d509-4f57-af3e-ef3080fd97b6"
      },
      "source": [
        "#Exercicio, descubra o resultado dessas 3 execuções....\n",
        "\n",
        "# '2003' in carro\n",
        "\n",
        "#'Rodas de liga' in carro\n",
        "\n",
        "'False' not in carro\n",
        "\n",
        "#FALSE  -  FALSE   -   TRUE\n"
      ],
      "execution_count": null,
      "outputs": [
        {
          "output_type": "execute_result",
          "data": {
            "text/plain": [
              "True"
            ]
          },
          "metadata": {
            "tags": []
          },
          "execution_count": 75
        }
      ]
    },
    {
      "cell_type": "markdown",
      "metadata": {
        "id": "k7wWCbAmltnl"
      },
      "source": [
        "# 3.3 Seleções em listas"
      ]
    },
    {
      "cell_type": "markdown",
      "metadata": {
        "id": "uF3NmgUaltnl"
      },
      "source": [
        "## *A[ i ]*\n",
        "\n",
        "Retorna o i-ésimo item da lista *A*.\n",
        "\n",
        "<font color=red>**Observação:**</font> Listas têm indexação com origem no zero."
      ]
    },
    {
      "cell_type": "code",
      "metadata": {
        "id": "f5ct7w1Wltnm",
        "colab": {
          "base_uri": "https://localhost:8080/"
        },
        "outputId": "0644d228-5e39-4d77-b6a9-d5fcd93a68da"
      },
      "source": [
        "Acessorios"
      ],
      "execution_count": null,
      "outputs": [
        {
          "output_type": "execute_result",
          "data": {
            "text/plain": [
              "['Rodas de liga',\n",
              " 'Travas elétricas',\n",
              " 'Piloto automático',\n",
              " 'Bancos de couro',\n",
              " 'Ar condicionado',\n",
              " 'Sensor de estacionamento',\n",
              " 'Sensor crepuscular',\n",
              " 'Sensor de chuva']"
            ]
          },
          "metadata": {
            "tags": []
          },
          "execution_count": 77
        }
      ]
    },
    {
      "cell_type": "code",
      "metadata": {
        "id": "-BLG7yifltnn",
        "colab": {
          "base_uri": "https://localhost:8080/",
          "height": 35
        },
        "outputId": "12fefa8e-8788-4cbd-aae4-9d3a22b2e32d"
      },
      "source": [
        "Acessorios[0]"
      ],
      "execution_count": null,
      "outputs": [
        {
          "output_type": "execute_result",
          "data": {
            "application/vnd.google.colaboratory.intrinsic+json": {
              "type": "string"
            },
            "text/plain": [
              "'Rodas de liga'"
            ]
          },
          "metadata": {
            "tags": []
          },
          "execution_count": 78
        }
      ]
    },
    {
      "cell_type": "code",
      "metadata": {
        "id": "SoL6PIjJltno",
        "colab": {
          "base_uri": "https://localhost:8080/",
          "height": 35
        },
        "outputId": "568f61aa-42f2-4c2f-eaab-6d0a4dea47b7"
      },
      "source": [
        "Acessorios[1]"
      ],
      "execution_count": null,
      "outputs": [
        {
          "output_type": "execute_result",
          "data": {
            "application/vnd.google.colaboratory.intrinsic+json": {
              "type": "string"
            },
            "text/plain": [
              "'Travas elétricas'"
            ]
          },
          "metadata": {
            "tags": []
          },
          "execution_count": 79
        }
      ]
    },
    {
      "cell_type": "code",
      "metadata": {
        "id": "pGMDc5FLltnq",
        "colab": {
          "base_uri": "https://localhost:8080/",
          "height": 35
        },
        "outputId": "5ccb6b3c-6062-4b2a-c5af-5dcca482d700"
      },
      "source": [
        "#-1 Ultimo item da lista\n",
        "Acessorios[-1]\n",
        "#-2 Penultimo item da lista\n",
        "# Acessorios[-2]\n",
        "\n"
      ],
      "execution_count": null,
      "outputs": [
        {
          "output_type": "execute_result",
          "data": {
            "application/vnd.google.colaboratory.intrinsic+json": {
              "type": "string"
            },
            "text/plain": [
              "'Sensor de chuva'"
            ]
          },
          "metadata": {
            "tags": []
          },
          "execution_count": 83
        }
      ]
    },
    {
      "cell_type": "code",
      "metadata": {
        "id": "m3AaFe73ltnr",
        "colab": {
          "base_uri": "https://localhost:8080/"
        },
        "outputId": "fd5029b3-9bf5-4793-ae32-5695d0e94f52"
      },
      "source": [
        "Carros"
      ],
      "execution_count": null,
      "outputs": [
        {
          "output_type": "execute_result",
          "data": {
            "text/plain": [
              "[['Jetta Variant',\n",
              "  'Motor 4.0 Turbo',\n",
              "  2003,\n",
              "  44410.0,\n",
              "  False,\n",
              "  ['Rodas de liga', 'Travas elétricas', 'Piloto automático'],\n",
              "  88078.64],\n",
              " ['Passat',\n",
              "  'Motor Diesel',\n",
              "  1991,\n",
              "  5712.0,\n",
              "  False,\n",
              "  ['Central multimídia', 'Teto panorâmico', 'Freios ABS'],\n",
              "  106161.94]]"
            ]
          },
          "metadata": {
            "tags": []
          },
          "execution_count": 84
        }
      ]
    },
    {
      "cell_type": "code",
      "metadata": {
        "id": "AeDJviqoltns",
        "colab": {
          "base_uri": "https://localhost:8080/"
        },
        "outputId": "1780e70a-e54a-4e32-ac55-d58f76efbe33"
      },
      "source": [
        "#Listas Bidimensionais\n",
        "Carros[0]"
      ],
      "execution_count": null,
      "outputs": [
        {
          "output_type": "execute_result",
          "data": {
            "text/plain": [
              "['Jetta Variant',\n",
              " 'Motor 4.0 Turbo',\n",
              " 2003,\n",
              " 44410.0,\n",
              " False,\n",
              " ['Rodas de liga', 'Travas elétricas', 'Piloto automático'],\n",
              " 88078.64]"
            ]
          },
          "metadata": {
            "tags": []
          },
          "execution_count": 85
        }
      ]
    },
    {
      "cell_type": "code",
      "metadata": {
        "id": "KdenG1BZltnt",
        "colab": {
          "base_uri": "https://localhost:8080/",
          "height": 35
        },
        "outputId": "9960259c-790e-46f1-e94c-d9d7815edd83"
      },
      "source": [
        "\n",
        "Carros[0][0]"
      ],
      "execution_count": null,
      "outputs": [
        {
          "output_type": "execute_result",
          "data": {
            "application/vnd.google.colaboratory.intrinsic+json": {
              "type": "string"
            },
            "text/plain": [
              "'Jetta Variant'"
            ]
          },
          "metadata": {
            "tags": []
          },
          "execution_count": 86
        }
      ]
    },
    {
      "cell_type": "code",
      "metadata": {
        "id": "iOjsfrlFltnu",
        "colab": {
          "base_uri": "https://localhost:8080/"
        },
        "outputId": "a1bbd099-26d1-48e9-ac68-cb76d877a292"
      },
      "source": [
        "Carros[0][-2]"
      ],
      "execution_count": null,
      "outputs": [
        {
          "output_type": "execute_result",
          "data": {
            "text/plain": [
              "['Rodas de liga', 'Travas elétricas', 'Piloto automático']"
            ]
          },
          "metadata": {
            "tags": []
          },
          "execution_count": 87
        }
      ]
    },
    {
      "cell_type": "code",
      "metadata": {
        "id": "6BrON70Zltnu",
        "colab": {
          "base_uri": "https://localhost:8080/",
          "height": 35
        },
        "outputId": "1df046b9-9268-4bc6-9f94-e14e5e822004"
      },
      "source": [
        "Carros[0][-2][1]"
      ],
      "execution_count": null,
      "outputs": [
        {
          "output_type": "execute_result",
          "data": {
            "application/vnd.google.colaboratory.intrinsic+json": {
              "type": "string"
            },
            "text/plain": [
              "'Travas elétricas'"
            ]
          },
          "metadata": {
            "tags": []
          },
          "execution_count": 88
        }
      ]
    },
    {
      "cell_type": "markdown",
      "metadata": {
        "id": "9WgwxPIMltnv"
      },
      "source": [
        "## *A[ i : j ]*\n",
        "\n",
        "Recorta a lista *A* do índice i até o j. Neste fatiamento o elemento com índice i é **incluído** e o elemento com índice j **não é incluído** no resultado."
      ]
    },
    {
      "cell_type": "code",
      "metadata": {
        "id": "bJzL2PMiltnv",
        "colab": {
          "base_uri": "https://localhost:8080/"
        },
        "outputId": "8777c39c-d1fd-455f-f824-25212d0af7fa"
      },
      "source": [
        "#Pega parte de uma lista\n",
        "# lista[Ponto inicial , ponto final]\n",
        "Acessorios"
      ],
      "execution_count": null,
      "outputs": [
        {
          "output_type": "execute_result",
          "data": {
            "text/plain": [
              "['Rodas de liga',\n",
              " 'Travas elétricas',\n",
              " 'Piloto automático',\n",
              " 'Bancos de couro',\n",
              " 'Ar condicionado',\n",
              " 'Sensor de estacionamento',\n",
              " 'Sensor crepuscular',\n",
              " 'Sensor de chuva']"
            ]
          },
          "metadata": {
            "tags": []
          },
          "execution_count": 89
        }
      ]
    },
    {
      "cell_type": "code",
      "metadata": {
        "id": "sFAlJ4u_ltnw",
        "colab": {
          "base_uri": "https://localhost:8080/"
        },
        "outputId": "36523d47-45ec-461f-9774-83839f52e1ef"
      },
      "source": [
        "#Lista do piloto automatico até o ar condicionado, pois o J não entra no slice (j-1)\n",
        "Acessorios[2:5]\n",
        "\n",
        "#Para retornar até o sensor de estacionamento\n",
        "# Acessorios[2:6]"
      ],
      "execution_count": null,
      "outputs": [
        {
          "output_type": "execute_result",
          "data": {
            "text/plain": [
              "['Piloto automático',\n",
              " 'Bancos de couro',\n",
              " 'Ar condicionado',\n",
              " 'Sensor de estacionamento']"
            ]
          },
          "metadata": {
            "tags": []
          },
          "execution_count": 91
        }
      ]
    },
    {
      "cell_type": "code",
      "metadata": {
        "id": "dFdTBWa9ltnz",
        "colab": {
          "base_uri": "https://localhost:8080/"
        },
        "outputId": "4c6bc3b8-01d5-4725-bb21-61f059c7b8ee"
      },
      "source": [
        "Acessorios[2:]"
      ],
      "execution_count": null,
      "outputs": [
        {
          "output_type": "execute_result",
          "data": {
            "text/plain": [
              "['Piloto automático',\n",
              " 'Bancos de couro',\n",
              " 'Ar condicionado',\n",
              " 'Sensor de estacionamento',\n",
              " 'Sensor crepuscular',\n",
              " 'Sensor de chuva']"
            ]
          },
          "metadata": {
            "tags": []
          },
          "execution_count": 92
        }
      ]
    },
    {
      "cell_type": "code",
      "metadata": {
        "id": "yxxB2-_Dltn0",
        "colab": {
          "base_uri": "https://localhost:8080/"
        },
        "outputId": "cacac11e-a202-4d07-8154-cf15338232c9"
      },
      "source": [
        "Acessorios[:5]"
      ],
      "execution_count": null,
      "outputs": [
        {
          "output_type": "execute_result",
          "data": {
            "text/plain": [
              "['Rodas de liga',\n",
              " 'Travas elétricas',\n",
              " 'Piloto automático',\n",
              " 'Bancos de couro',\n",
              " 'Ar condicionado']"
            ]
          },
          "metadata": {
            "tags": []
          },
          "execution_count": 93
        }
      ]
    },
    {
      "cell_type": "markdown",
      "metadata": {
        "id": "cCCdVFs1mWBX"
      },
      "source": [
        "#Exercicios"
      ]
    },
    {
      "cell_type": "code",
      "metadata": {
        "id": "AerwN2N0lGis"
      },
      "source": [
        "#EXERCICIO A\n",
        "\n",
        "letras = ['A', 'B', 'C', 'D', 'E', 'F', 'G', 'H']"
      ],
      "execution_count": null,
      "outputs": []
    },
    {
      "cell_type": "markdown",
      "metadata": {
        "id": "hW5SlZpwlcSq"
      },
      "source": [
        "Considere também as seguintes seleções na lista letras:\n",
        "\n",
        "1) ['A', 'B']\n",
        "\n",
        "2) ['C', 'D', 'E']\n",
        "\n",
        "3) ['F', 'G', 'H']\n",
        "\n",
        "Informe o codigo que representa o output dessas seleções."
      ]
    },
    {
      "cell_type": "code",
      "metadata": {
        "colab": {
          "base_uri": "https://localhost:8080/"
        },
        "id": "r9kLk9_GlI45",
        "outputId": "7e809d36-ebfb-4df1-d3bf-ebe110443690"
      },
      "source": [
        "#1) \n",
        "# letras[:2]\n",
        "\n",
        "#2)\n",
        "# letras[2:5]\n",
        "\n",
        "#3)\n",
        "# letras[-3:]"
      ],
      "execution_count": null,
      "outputs": [
        {
          "output_type": "execute_result",
          "data": {
            "text/plain": [
              "['F', 'G', 'H']"
            ]
          },
          "metadata": {
            "tags": []
          },
          "execution_count": 102
        }
      ]
    },
    {
      "cell_type": "code",
      "metadata": {
        "id": "4ifFmsJcmbBC"
      },
      "source": [
        "#EXERCICIO B\n",
        "carros = [ [ 'Jetta Variant', 'Motor 4.0 Turbo', 2003, False, ['Rodas de liga', 'Travas elétricas', 'Piloto automático'] ], [ 'Passat', 'Motor Diesel', 1991, True, ['Central multimídia', 'Teto panorâmico', 'Freios ABS'] ] ]"
      ],
      "execution_count": null,
      "outputs": []
    },
    {
      "cell_type": "markdown",
      "metadata": {
        "id": "J3E1yDx4mJn3"
      },
      "source": [
        "Utilize a lista carros abaixo para responder a questão:\n",
        "\n",
        "carros = [\n",
        "    [\n",
        "        'Jetta Variant',\n",
        "        'Motor 4.0 Turbo',\n",
        "        2003,\n",
        "        False,\n",
        "        ['Rodas de liga', 'Travas elétricas', 'Piloto automático']\n",
        "    ],\n",
        "    [\n",
        "        'Passat',\n",
        "        'Motor Diesel',\n",
        "        1991,\n",
        "        True,\n",
        "        ['Central multimídia', 'Teto panorâmico', 'Freios ABS']\n",
        "    ]\n",
        "]\n",
        "\n",
        "Considere também os seguintes itens:\n",
        "\n",
        "1) True\n",
        "\n",
        "2) 'Teto panorâmico'\n",
        "\n",
        "3) ['Rodas de liga', 'Travas elétricas', 'Piloto automático']\n",
        "\n",
        "Assinale a alternativa que mostra o código utilizado para selecionar os itens acima:"
      ]
    },
    {
      "cell_type": "code",
      "metadata": {
        "colab": {
          "base_uri": "https://localhost:8080/"
        },
        "id": "4K7SBAPbmOaR",
        "outputId": "e3adc916-b122-41df-eeeb-04161a0e385b"
      },
      "source": [
        "#1)True\n",
        "carros[1][3],carros[1][-1][-2], carros[0][-1]\n",
        "\n",
        "#2) 'Teto panorâmico'\n",
        "# carros[1][-1][-2]\n",
        "\n",
        "#3) ['Rodas de liga','Travas elétricas','Piloto automático']\n",
        "# carros[0][-1]"
      ],
      "execution_count": null,
      "outputs": [
        {
          "output_type": "execute_result",
          "data": {
            "text/plain": [
              "(True,\n",
              " 'Teto panorâmico',\n",
              " ['Rodas de liga', 'Travas elétricas', 'Piloto automático'])"
            ]
          },
          "metadata": {
            "tags": []
          },
          "execution_count": 116
        }
      ]
    },
    {
      "cell_type": "markdown",
      "metadata": {
        "id": "R-S-LCPGltn0"
      },
      "source": [
        "# 3.4 Métodos de listas\n",
        "\n",
        "https://docs.python.org/3.6/library/stdtypes.html#mutable-sequence-types"
      ]
    },
    {
      "cell_type": "code",
      "metadata": {
        "colab": {
          "base_uri": "https://localhost:8080/"
        },
        "id": "3K5X1yixosuv",
        "outputId": "5654d29a-e95a-45e9-9d55-9b3d57352e37"
      },
      "source": [
        "Acessorios = ['Rodas de liga', 'Travas elétricas', 'Piloto automático', 'Bancos de couro', 'Ar condicionado', 'Sensor de estacionamento', 'Sensor crepuscular', 'Sensor de chuva']\n",
        "Acessorios"
      ],
      "execution_count": null,
      "outputs": [
        {
          "output_type": "execute_result",
          "data": {
            "text/plain": [
              "['Rodas de liga',\n",
              " 'Travas elétricas',\n",
              " 'Piloto automático',\n",
              " 'Bancos de couro',\n",
              " 'Ar condicionado',\n",
              " 'Sensor de estacionamento',\n",
              " 'Sensor crepuscular',\n",
              " 'Sensor de chuva']"
            ]
          },
          "metadata": {
            "tags": []
          },
          "execution_count": 117
        }
      ]
    },
    {
      "cell_type": "markdown",
      "metadata": {
        "id": "j9s2OyyPltn1"
      },
      "source": [
        "## *A.sort()*\n",
        "\n",
        "Ordena a lista *A*."
      ]
    },
    {
      "cell_type": "code",
      "metadata": {
        "id": "A2dJGhFsltn1"
      },
      "source": [
        "Acessorios.sort()"
      ],
      "execution_count": null,
      "outputs": []
    },
    {
      "cell_type": "code",
      "metadata": {
        "id": "VDWCHlTcltn2",
        "colab": {
          "base_uri": "https://localhost:8080/"
        },
        "outputId": "ef3e3223-9f77-4a5b-c8f4-4abb2b0553de"
      },
      "source": [
        "Acessorios"
      ],
      "execution_count": null,
      "outputs": [
        {
          "output_type": "execute_result",
          "data": {
            "text/plain": [
              "['Ar condicionado',\n",
              " 'Bancos de couro',\n",
              " 'Piloto automático',\n",
              " 'Rodas de liga',\n",
              " 'Sensor crepuscular',\n",
              " 'Sensor de chuva',\n",
              " 'Sensor de estacionamento',\n",
              " 'Travas elétricas']"
            ]
          },
          "metadata": {
            "tags": []
          },
          "execution_count": 119
        }
      ]
    },
    {
      "cell_type": "markdown",
      "metadata": {
        "id": "N9Spp7-xltn3"
      },
      "source": [
        "## *A.append(x)*\n",
        "\n",
        "Adiciona o elemento *x* no final da lista *A*."
      ]
    },
    {
      "cell_type": "code",
      "metadata": {
        "id": "l7I_U-sRltn4"
      },
      "source": [
        "Acessorios.append('4 X 4')"
      ],
      "execution_count": null,
      "outputs": []
    },
    {
      "cell_type": "code",
      "metadata": {
        "colab": {
          "base_uri": "https://localhost:8080/"
        },
        "id": "T4bRxFaWpRfS",
        "outputId": "6f56d7da-a08c-49bd-fb4b-28825c8bfd28"
      },
      "source": [
        "Acessorios"
      ],
      "execution_count": null,
      "outputs": [
        {
          "output_type": "execute_result",
          "data": {
            "text/plain": [
              "['Ar condicionado',\n",
              " 'Bancos de couro',\n",
              " 'Piloto automático',\n",
              " 'Rodas de liga',\n",
              " 'Sensor crepuscular',\n",
              " 'Sensor de chuva',\n",
              " 'Sensor de estacionamento',\n",
              " 'Travas elétricas',\n",
              " '4 X 4']"
            ]
          },
          "metadata": {
            "tags": []
          },
          "execution_count": 121
        }
      ]
    },
    {
      "cell_type": "markdown",
      "metadata": {
        "id": "eiP3oACPltn6"
      },
      "source": [
        "## *A.pop(i)*\n",
        "\n",
        "Remove e retorna o elemento de índice i da lista *A*.\n",
        "\n",
        "<font color=red>**Observação:**</font> Por *default* o método *pop()* remove e retorna o último elemento de uma lista."
      ]
    },
    {
      "cell_type": "code",
      "metadata": {
        "id": "BoCKa5Hqltn6",
        "colab": {
          "base_uri": "https://localhost:8080/",
          "height": 35
        },
        "outputId": "04ce7cee-2f71-4a1a-e86f-95441f8c9f93"
      },
      "source": [
        "#Vai remover o 4 X 4 e vai mostrar\n",
        "Acessorios.pop()"
      ],
      "execution_count": null,
      "outputs": [
        {
          "output_type": "execute_result",
          "data": {
            "application/vnd.google.colaboratory.intrinsic+json": {
              "type": "string"
            },
            "text/plain": [
              "'4 X 4'"
            ]
          },
          "metadata": {
            "tags": []
          },
          "execution_count": 122
        }
      ]
    },
    {
      "cell_type": "code",
      "metadata": {
        "id": "GfGX1jw-ltn9",
        "colab": {
          "base_uri": "https://localhost:8080/"
        },
        "outputId": "b023d6b4-57e3-4a54-cb75-1cecff4d3d48"
      },
      "source": [
        "Acessorios"
      ],
      "execution_count": null,
      "outputs": [
        {
          "output_type": "execute_result",
          "data": {
            "text/plain": [
              "['Ar condicionado',\n",
              " 'Bancos de couro',\n",
              " 'Piloto automático',\n",
              " 'Rodas de liga',\n",
              " 'Sensor crepuscular',\n",
              " 'Sensor de chuva',\n",
              " 'Sensor de estacionamento',\n",
              " 'Travas elétricas']"
            ]
          },
          "metadata": {
            "tags": []
          },
          "execution_count": 125
        }
      ]
    },
    {
      "cell_type": "code",
      "metadata": {
        "id": "tppe9tqbltn-",
        "colab": {
          "base_uri": "https://localhost:8080/",
          "height": 35
        },
        "outputId": "814176f1-ebf3-4aa0-dfa8-8da478cef89b"
      },
      "source": [
        "#Excluindo o Rodas de liga\n",
        "Acessorios.pop(3)"
      ],
      "execution_count": null,
      "outputs": [
        {
          "output_type": "execute_result",
          "data": {
            "application/vnd.google.colaboratory.intrinsic+json": {
              "type": "string"
            },
            "text/plain": [
              "'Rodas de liga'"
            ]
          },
          "metadata": {
            "tags": []
          },
          "execution_count": 126
        }
      ]
    },
    {
      "cell_type": "code",
      "metadata": {
        "id": "Ku6ZHTdJltn_",
        "colab": {
          "base_uri": "https://localhost:8080/"
        },
        "outputId": "29ae00ac-3ba7-4e52-c1aa-a6f9819bd9b6"
      },
      "source": [
        "Acessorios"
      ],
      "execution_count": null,
      "outputs": [
        {
          "output_type": "execute_result",
          "data": {
            "text/plain": [
              "['Ar condicionado',\n",
              " 'Bancos de couro',\n",
              " 'Piloto automático',\n",
              " 'Sensor crepuscular',\n",
              " 'Sensor de chuva',\n",
              " 'Sensor de estacionamento',\n",
              " 'Travas elétricas']"
            ]
          },
          "metadata": {
            "tags": []
          },
          "execution_count": 127
        }
      ]
    },
    {
      "cell_type": "markdown",
      "metadata": {
        "id": "NySIp62hltoC"
      },
      "source": [
        "## *A.copy()*\n",
        "\n",
        "Cria uma cópia da lista *A*.\n",
        "\n",
        "<font color=red>**Observação:**</font> O mesmo resultado pode ser obtido com o seguinte código: \n",
        "```\n",
        "A[:]\n",
        "```"
      ]
    },
    {
      "cell_type": "code",
      "metadata": {
        "id": "yP9ODygcltoC",
        "colab": {
          "base_uri": "https://localhost:8080/"
        },
        "outputId": "94acc7b5-d5ea-4302-bad0-a3f857dec50e"
      },
      "source": [
        "Acessorios_2 = Acessorios\n",
        "Acessorios_2"
      ],
      "execution_count": null,
      "outputs": [
        {
          "output_type": "execute_result",
          "data": {
            "text/plain": [
              "['Ar condicionado',\n",
              " 'Bancos de couro',\n",
              " 'Piloto automático',\n",
              " 'Sensor crepuscular',\n",
              " 'Sensor de chuva',\n",
              " 'Sensor de estacionamento',\n",
              " 'Travas elétricas']"
            ]
          },
          "metadata": {
            "tags": []
          },
          "execution_count": 128
        }
      ]
    },
    {
      "cell_type": "code",
      "metadata": {
        "id": "W3eQdVWkltoF"
      },
      "source": [
        "#Desta forma ele modifica as 2 listas (Acessorios e Acessorios_2)\n",
        "Acessorios_2.append('4 X 4')"
      ],
      "execution_count": null,
      "outputs": []
    },
    {
      "cell_type": "code",
      "metadata": {
        "id": "OVbvjjmdltoG",
        "colab": {
          "base_uri": "https://localhost:8080/"
        },
        "outputId": "a2a157be-2ef2-4545-f79f-5b93871cb382"
      },
      "source": [
        "Acessorios"
      ],
      "execution_count": null,
      "outputs": [
        {
          "output_type": "execute_result",
          "data": {
            "text/plain": [
              "['Ar condicionado',\n",
              " 'Bancos de couro',\n",
              " 'Piloto automático',\n",
              " 'Sensor crepuscular',\n",
              " 'Sensor de chuva',\n",
              " 'Sensor de estacionamento',\n",
              " 'Travas elétricas',\n",
              " '4 X 4']"
            ]
          },
          "metadata": {
            "tags": []
          },
          "execution_count": 130
        }
      ]
    },
    {
      "cell_type": "code",
      "metadata": {
        "id": "P-MN1JfAltoH",
        "colab": {
          "base_uri": "https://localhost:8080/",
          "height": 35
        },
        "outputId": "aae11e30-d486-438e-9a32-1a3a202d3273"
      },
      "source": [
        "Acessorios.pop()"
      ],
      "execution_count": null,
      "outputs": [
        {
          "output_type": "execute_result",
          "data": {
            "application/vnd.google.colaboratory.intrinsic+json": {
              "type": "string"
            },
            "text/plain": [
              "'4 X 4'"
            ]
          },
          "metadata": {
            "tags": []
          },
          "execution_count": 131
        }
      ]
    },
    {
      "cell_type": "code",
      "metadata": {
        "id": "ZVQ38eqVltoJ",
        "colab": {
          "base_uri": "https://localhost:8080/"
        },
        "outputId": "4c7e12ba-a3d3-4b89-e807-837e491acaa0"
      },
      "source": [
        "Acessorios"
      ],
      "execution_count": null,
      "outputs": [
        {
          "output_type": "execute_result",
          "data": {
            "text/plain": [
              "['Ar condicionado',\n",
              " 'Bancos de couro',\n",
              " 'Piloto automático',\n",
              " 'Sensor crepuscular',\n",
              " 'Sensor de chuva',\n",
              " 'Sensor de estacionamento',\n",
              " 'Travas elétricas']"
            ]
          },
          "metadata": {
            "tags": []
          },
          "execution_count": 132
        }
      ]
    },
    {
      "cell_type": "code",
      "metadata": {
        "id": "bqPiw5wSltoM",
        "colab": {
          "base_uri": "https://localhost:8080/"
        },
        "outputId": "07db8f18-27b7-4fda-baf5-beb0c69dc57b"
      },
      "source": [
        "Acessorios_2"
      ],
      "execution_count": null,
      "outputs": [
        {
          "output_type": "execute_result",
          "data": {
            "text/plain": [
              "['Ar condicionado',\n",
              " 'Bancos de couro',\n",
              " 'Piloto automático',\n",
              " 'Sensor crepuscular',\n",
              " 'Sensor de chuva',\n",
              " 'Sensor de estacionamento',\n",
              " 'Travas elétricas']"
            ]
          },
          "metadata": {
            "tags": []
          },
          "execution_count": 133
        }
      ]
    },
    {
      "cell_type": "code",
      "metadata": {
        "id": "Lo9WgzF6ltoP",
        "colab": {
          "base_uri": "https://localhost:8080/"
        },
        "outputId": "c59bc016-37c9-46d7-eeb7-aa13f208322c"
      },
      "source": [
        "#Copiando pelo método .Copy\n",
        "Acessorios_2 = Acessorios.copy()\n",
        "Acessorios_2"
      ],
      "execution_count": null,
      "outputs": [
        {
          "output_type": "execute_result",
          "data": {
            "text/plain": [
              "['Ar condicionado',\n",
              " 'Bancos de couro',\n",
              " 'Piloto automático',\n",
              " 'Sensor crepuscular',\n",
              " 'Sensor de chuva',\n",
              " 'Sensor de estacionamento',\n",
              " 'Travas elétricas']"
            ]
          },
          "metadata": {
            "tags": []
          },
          "execution_count": 134
        }
      ]
    },
    {
      "cell_type": "code",
      "metadata": {
        "id": "r2LPHB34ltoQ"
      },
      "source": [
        "Acessorios_2.append('4 X 4')"
      ],
      "execution_count": null,
      "outputs": []
    },
    {
      "cell_type": "code",
      "metadata": {
        "id": "UQqUkO8YltoR",
        "colab": {
          "base_uri": "https://localhost:8080/"
        },
        "outputId": "af40fa69-289e-49a5-f5a2-45d9b818c949"
      },
      "source": [
        "Acessorios_2"
      ],
      "execution_count": null,
      "outputs": [
        {
          "output_type": "execute_result",
          "data": {
            "text/plain": [
              "['Ar condicionado',\n",
              " 'Bancos de couro',\n",
              " 'Piloto automático',\n",
              " 'Sensor crepuscular',\n",
              " 'Sensor de chuva',\n",
              " 'Sensor de estacionamento',\n",
              " 'Travas elétricas',\n",
              " '4 X 4']"
            ]
          },
          "metadata": {
            "tags": []
          },
          "execution_count": 136
        }
      ]
    },
    {
      "cell_type": "code",
      "metadata": {
        "id": "5hC4R-jNltoS",
        "colab": {
          "base_uri": "https://localhost:8080/"
        },
        "outputId": "77cfd1ac-5249-485a-cafa-45b75ad55796"
      },
      "source": [
        "Acessorios"
      ],
      "execution_count": null,
      "outputs": [
        {
          "output_type": "execute_result",
          "data": {
            "text/plain": [
              "['Ar condicionado',\n",
              " 'Bancos de couro',\n",
              " 'Piloto automático',\n",
              " 'Sensor crepuscular',\n",
              " 'Sensor de chuva',\n",
              " 'Sensor de estacionamento',\n",
              " 'Travas elétricas']"
            ]
          },
          "metadata": {
            "tags": []
          },
          "execution_count": 137
        }
      ]
    },
    {
      "cell_type": "code",
      "metadata": {
        "colab": {
          "base_uri": "https://localhost:8080/"
        },
        "id": "0ulfk69qqx3S",
        "outputId": "3be1934c-9257-446b-bdd2-b92a034b6f84"
      },
      "source": [
        "#2ª Forma A[:].\n",
        "#Ele copia do mesmo jeito que .copy e armazena em outro espaço da memória\n",
        "Acessorios_2 = Acessorios[:]\n",
        "Acessorios_2"
      ],
      "execution_count": null,
      "outputs": [
        {
          "output_type": "execute_result",
          "data": {
            "text/plain": [
              "['Ar condicionado',\n",
              " 'Bancos de couro',\n",
              " 'Piloto automático',\n",
              " 'Sensor crepuscular',\n",
              " 'Sensor de chuva',\n",
              " 'Sensor de estacionamento',\n",
              " 'Travas elétricas']"
            ]
          },
          "metadata": {
            "tags": []
          },
          "execution_count": 138
        }
      ]
    },
    {
      "cell_type": "markdown",
      "metadata": {
        "id": "8zMZNsg2ltoU"
      },
      "source": [
        "# <font color=green> 4. ESTRUTURAS DE REPETIÇÃO E CONDICIONAIS\n",
        "---"
      ]
    },
    {
      "cell_type": "markdown",
      "metadata": {
        "id": "gxUmCLyJltoU"
      },
      "source": [
        "# 4.1 Instrução *for*\n",
        "\n",
        "#### Formato padrão\n",
        "\n",
        "```\n",
        "for <variável> in <coleção>:\n",
        "    <instruções>\n",
        "```"
      ]
    },
    {
      "cell_type": "markdown",
      "metadata": {
        "id": "Irl5oa0altoU"
      },
      "source": [
        "### Loops com listas"
      ]
    },
    {
      "cell_type": "code",
      "metadata": {
        "id": "E1LZ5n25ltoV",
        "colab": {
          "base_uri": "https://localhost:8080/"
        },
        "outputId": "6de4f109-a011-4d50-86a1-a459be2746b3"
      },
      "source": [
        "Acessorios = ['Rodas de liga', 'Travas elétricas', 'Piloto automático', 'Bancos de couro', 'Ar condicionado', 'Sensor de estacionamento', 'Sensor crepuscular', 'Sensor de chuva']\n",
        "Acessorios"
      ],
      "execution_count": null,
      "outputs": [
        {
          "output_type": "execute_result",
          "data": {
            "text/plain": [
              "['Rodas de liga',\n",
              " 'Travas elétricas',\n",
              " 'Piloto automático',\n",
              " 'Bancos de couro',\n",
              " 'Ar condicionado',\n",
              " 'Sensor de estacionamento',\n",
              " 'Sensor crepuscular',\n",
              " 'Sensor de chuva']"
            ]
          },
          "metadata": {
            "tags": []
          },
          "execution_count": 139
        }
      ]
    },
    {
      "cell_type": "code",
      "metadata": {
        "id": "Z459QqsFltoY",
        "colab": {
          "base_uri": "https://localhost:8080/"
        },
        "outputId": "719c5789-7bb8-4fb6-eb54-480ef3baa160"
      },
      "source": [
        "for item in Acessorios:\n",
        "  print(item)"
      ],
      "execution_count": null,
      "outputs": [
        {
          "output_type": "stream",
          "text": [
            "Rodas de liga\n",
            "Travas elétricas\n",
            "Piloto automático\n",
            "Bancos de couro\n",
            "Ar condicionado\n",
            "Sensor de estacionamento\n",
            "Sensor crepuscular\n",
            "Sensor de chuva\n"
          ],
          "name": "stdout"
        }
      ]
    },
    {
      "cell_type": "markdown",
      "metadata": {
        "id": "Gbztj9T4ltoZ"
      },
      "source": [
        "###  List comprehensions\n",
        "\n",
        "https://docs.python.org/3.6/tutorial/datastructures.html#list-comprehensions"
      ]
    },
    {
      "cell_type": "markdown",
      "metadata": {
        "id": "4Y8g0cSHjbof"
      },
      "source": [
        "*range()* -> https://docs.python.org/3.6/library/functions.html#func-range"
      ]
    },
    {
      "cell_type": "code",
      "metadata": {
        "id": "xDo9TLdYltoZ",
        "colab": {
          "base_uri": "https://localhost:8080/"
        },
        "outputId": "e92b3f97-045d-4db2-a0b5-7aef7413482a"
      },
      "source": [
        "range(10)"
      ],
      "execution_count": null,
      "outputs": [
        {
          "output_type": "execute_result",
          "data": {
            "text/plain": [
              "range(0, 10)"
            ]
          },
          "metadata": {
            "tags": []
          },
          "execution_count": 141
        }
      ]
    },
    {
      "cell_type": "code",
      "metadata": {
        "id": "V12p_CQBltoc",
        "colab": {
          "base_uri": "https://localhost:8080/"
        },
        "outputId": "cbb7e0f3-9d70-464f-eb6d-53e166cfc23f"
      },
      "source": [
        "list(range(10))"
      ],
      "execution_count": null,
      "outputs": [
        {
          "output_type": "execute_result",
          "data": {
            "text/plain": [
              "[0, 1, 2, 3, 4, 5, 6, 7, 8, 9]"
            ]
          },
          "metadata": {
            "tags": []
          },
          "execution_count": 142
        }
      ]
    },
    {
      "cell_type": "code",
      "metadata": {
        "id": "OOzHHRWHltof",
        "colab": {
          "base_uri": "https://localhost:8080/"
        },
        "outputId": "c8bb1591-e9ef-4f87-a998-a1899e5cfe93"
      },
      "source": [
        "for i in range(10):\n",
        "  print(i ** 2)"
      ],
      "execution_count": null,
      "outputs": [
        {
          "output_type": "stream",
          "text": [
            "0\n",
            "1\n",
            "4\n",
            "9\n",
            "16\n",
            "25\n",
            "36\n",
            "49\n",
            "64\n",
            "81\n"
          ],
          "name": "stdout"
        }
      ]
    },
    {
      "cell_type": "code",
      "metadata": {
        "id": "TKynwnxgltog",
        "colab": {
          "base_uri": "https://localhost:8080/"
        },
        "outputId": "028ee77f-c471-454a-a376-9315e3f08248"
      },
      "source": [
        "quadrado = []\n",
        "for i in range(10):\n",
        "  quadrado.append(i ** 2)\n",
        "\n",
        "quadrado"
      ],
      "execution_count": null,
      "outputs": [
        {
          "output_type": "execute_result",
          "data": {
            "text/plain": [
              "[0, 1, 4, 9, 16, 25, 36, 49, 64, 81]"
            ]
          },
          "metadata": {
            "tags": []
          },
          "execution_count": 146
        }
      ]
    },
    {
      "cell_type": "code",
      "metadata": {
        "id": "d77YH_dVltoh",
        "colab": {
          "base_uri": "https://localhost:8080/"
        },
        "outputId": "fda9b1d9-48e4-43f3-d26f-00543db29550"
      },
      "source": [
        "[i ** 2 for i in range(10)]"
      ],
      "execution_count": null,
      "outputs": [
        {
          "output_type": "execute_result",
          "data": {
            "text/plain": [
              "[0, 1, 4, 9, 16, 25, 36, 49, 64, 81]"
            ]
          },
          "metadata": {
            "tags": []
          },
          "execution_count": 147
        }
      ]
    },
    {
      "cell_type": "code",
      "metadata": {
        "id": "3OmElLO2ltoi",
        "colab": {
          "base_uri": "https://localhost:8080/"
        },
        "outputId": "d29539de-9199-4ea0-803e-4cbee00e140d"
      },
      "source": [
        "quadrado2 = [i**2 for i in range(11)]\n",
        "quadrado2"
      ],
      "execution_count": null,
      "outputs": [
        {
          "output_type": "execute_result",
          "data": {
            "text/plain": [
              "[0, 1, 4, 9, 16, 25, 36, 49, 64, 81, 100]"
            ]
          },
          "metadata": {
            "tags": []
          },
          "execution_count": 150
        }
      ]
    },
    {
      "cell_type": "code",
      "metadata": {
        "id": "HKUkvcDkltok"
      },
      "source": [
        ""
      ],
      "execution_count": null,
      "outputs": []
    },
    {
      "cell_type": "markdown",
      "metadata": {
        "id": "AcAcaKFXltom"
      },
      "source": [
        "# 4.2 Loops aninhados"
      ]
    },
    {
      "cell_type": "code",
      "metadata": {
        "id": "mjgJCo3dlton",
        "colab": {
          "base_uri": "https://localhost:8080/"
        },
        "outputId": "b9c8d7ff-9b5d-4f2b-c644-00adece1c932"
      },
      "source": [
        "dados = [ \n",
        "    ['Rodas de liga', 'Travas elétricas', 'Piloto automático', 'Bancos de couro', 'Ar condicionado', 'Sensor de estacionamento', 'Sensor crepuscular', 'Sensor de chuva'],\n",
        "    ['Central multimídia', 'Teto panorâmico', 'Freios ABS', '4 X 4', 'Painel digital', 'Piloto automático', 'Bancos de couro', 'Câmera de estacionamento'],\n",
        "    ['Piloto automático', 'Controle de estabilidade', 'Sensor crepuscular', 'Freios ABS', 'Câmbio automático', 'Bancos de couro', 'Central multimídia', 'Vidros elétricos']\n",
        "]\n",
        "dados"
      ],
      "execution_count": null,
      "outputs": [
        {
          "output_type": "execute_result",
          "data": {
            "text/plain": [
              "[['Rodas de liga',\n",
              "  'Travas elétricas',\n",
              "  'Piloto automático',\n",
              "  'Bancos de couro',\n",
              "  'Ar condicionado',\n",
              "  'Sensor de estacionamento',\n",
              "  'Sensor crepuscular',\n",
              "  'Sensor de chuva'],\n",
              " ['Central multimídia',\n",
              "  'Teto panorâmico',\n",
              "  'Freios ABS',\n",
              "  '4 X 4',\n",
              "  'Painel digital',\n",
              "  'Piloto automático',\n",
              "  'Bancos de couro',\n",
              "  'Câmera de estacionamento'],\n",
              " ['Piloto automático',\n",
              "  'Controle de estabilidade',\n",
              "  'Sensor crepuscular',\n",
              "  'Freios ABS',\n",
              "  'Câmbio automático',\n",
              "  'Bancos de couro',\n",
              "  'Central multimídia',\n",
              "  'Vidros elétricos']]"
            ]
          },
          "metadata": {
            "tags": []
          },
          "execution_count": 151
        }
      ]
    },
    {
      "cell_type": "code",
      "metadata": {
        "id": "pLgxwApVltop",
        "colab": {
          "base_uri": "https://localhost:8080/"
        },
        "outputId": "d9df0626-1bb2-418d-93b0-7268c7e22b4a"
      },
      "source": [
        "for lista in dados :\n",
        "  print (lista)"
      ],
      "execution_count": null,
      "outputs": [
        {
          "output_type": "stream",
          "text": [
            "['Rodas de liga', 'Travas elétricas', 'Piloto automático', 'Bancos de couro', 'Ar condicionado', 'Sensor de estacionamento', 'Sensor crepuscular', 'Sensor de chuva']\n",
            "['Central multimídia', 'Teto panorâmico', 'Freios ABS', '4 X 4', 'Painel digital', 'Piloto automático', 'Bancos de couro', 'Câmera de estacionamento']\n",
            "['Piloto automático', 'Controle de estabilidade', 'Sensor crepuscular', 'Freios ABS', 'Câmbio automático', 'Bancos de couro', 'Central multimídia', 'Vidros elétricos']\n"
          ],
          "name": "stdout"
        }
      ]
    },
    {
      "cell_type": "code",
      "metadata": {
        "id": "OYnDRvcYltor",
        "colab": {
          "base_uri": "https://localhost:8080/"
        },
        "outputId": "f8e1bfcd-91e2-4221-b610-1448fa37c564"
      },
      "source": [
        "for lista in dados:\n",
        "  for item in lista:\n",
        "    print(item)"
      ],
      "execution_count": null,
      "outputs": [
        {
          "output_type": "stream",
          "text": [
            "Rodas de liga\n",
            "Travas elétricas\n",
            "Piloto automático\n",
            "Bancos de couro\n",
            "Ar condicionado\n",
            "Sensor de estacionamento\n",
            "Sensor crepuscular\n",
            "Sensor de chuva\n",
            "Central multimídia\n",
            "Teto panorâmico\n",
            "Freios ABS\n",
            "4 X 4\n",
            "Painel digital\n",
            "Piloto automático\n",
            "Bancos de couro\n",
            "Câmera de estacionamento\n",
            "Piloto automático\n",
            "Controle de estabilidade\n",
            "Sensor crepuscular\n",
            "Freios ABS\n",
            "Câmbio automático\n",
            "Bancos de couro\n",
            "Central multimídia\n",
            "Vidros elétricos\n"
          ],
          "name": "stdout"
        }
      ]
    },
    {
      "cell_type": "code",
      "metadata": {
        "id": "DbJa5_cJltos",
        "colab": {
          "base_uri": "https://localhost:8080/"
        },
        "outputId": "4be184da-d789-40eb-8414-a25b70f69751"
      },
      "source": [
        "Acessorios = []\n",
        "for lista in dados:\n",
        "  for item in lista:\n",
        "    Acessorios.append(item)\n",
        "\n",
        "Acessorios"
      ],
      "execution_count": null,
      "outputs": [
        {
          "output_type": "execute_result",
          "data": {
            "text/plain": [
              "['Rodas de liga',\n",
              " 'Travas elétricas',\n",
              " 'Piloto automático',\n",
              " 'Bancos de couro',\n",
              " 'Ar condicionado',\n",
              " 'Sensor de estacionamento',\n",
              " 'Sensor crepuscular',\n",
              " 'Sensor de chuva',\n",
              " 'Central multimídia',\n",
              " 'Teto panorâmico',\n",
              " 'Freios ABS',\n",
              " '4 X 4',\n",
              " 'Painel digital',\n",
              " 'Piloto automático',\n",
              " 'Bancos de couro',\n",
              " 'Câmera de estacionamento',\n",
              " 'Piloto automático',\n",
              " 'Controle de estabilidade',\n",
              " 'Sensor crepuscular',\n",
              " 'Freios ABS',\n",
              " 'Câmbio automático',\n",
              " 'Bancos de couro',\n",
              " 'Central multimídia',\n",
              " 'Vidros elétricos']"
            ]
          },
          "metadata": {
            "tags": []
          },
          "execution_count": 156
        }
      ]
    },
    {
      "cell_type": "markdown",
      "metadata": {
        "id": "RrGAOy1rn1Dj"
      },
      "source": [
        "## *set()*\n",
        "\n",
        "https://docs.python.org/3.6/library/stdtypes.html#types-set\n",
        "\n",
        "https://docs.python.org/3.6/library/functions.html#func-set"
      ]
    },
    {
      "cell_type": "code",
      "metadata": {
        "id": "CuB-9ClSltos",
        "colab": {
          "base_uri": "https://localhost:8080/"
        },
        "outputId": "2a1b4296-41cb-4765-dcf6-b898eb8b02d0"
      },
      "source": [
        "#Comando Set remove os dados duplicados...\n",
        "# set(Acessorios)\n",
        "\n",
        "#Transformando esses dados em uma lista\n",
        "list(set(Acessorios))"
      ],
      "execution_count": null,
      "outputs": [
        {
          "output_type": "execute_result",
          "data": {
            "text/plain": [
              "['Sensor de estacionamento',\n",
              " 'Sensor de chuva',\n",
              " 'Freios ABS',\n",
              " '4 X 4',\n",
              " 'Câmera de estacionamento',\n",
              " 'Vidros elétricos',\n",
              " 'Ar condicionado',\n",
              " 'Câmbio automático',\n",
              " 'Painel digital',\n",
              " 'Teto panorâmico',\n",
              " 'Controle de estabilidade',\n",
              " 'Rodas de liga',\n",
              " 'Piloto automático',\n",
              " 'Central multimídia',\n",
              " 'Bancos de couro',\n",
              " 'Travas elétricas',\n",
              " 'Sensor crepuscular']"
            ]
          },
          "metadata": {
            "tags": []
          },
          "execution_count": 158
        }
      ]
    },
    {
      "cell_type": "markdown",
      "metadata": {
        "id": "9hHKKABhltot"
      },
      "source": [
        "### List comprehensions"
      ]
    },
    {
      "cell_type": "code",
      "metadata": {
        "id": "T6t79LTlltot",
        "colab": {
          "base_uri": "https://localhost:8080/"
        },
        "outputId": "8ed9561f-0ee6-4fea-b12b-fb267315cece"
      },
      "source": [
        "#Método simplificado\n",
        "[item for lista in dados for item in lista]"
      ],
      "execution_count": null,
      "outputs": [
        {
          "output_type": "execute_result",
          "data": {
            "text/plain": [
              "['Rodas de liga',\n",
              " 'Travas elétricas',\n",
              " 'Piloto automático',\n",
              " 'Bancos de couro',\n",
              " 'Ar condicionado',\n",
              " 'Sensor de estacionamento',\n",
              " 'Sensor crepuscular',\n",
              " 'Sensor de chuva',\n",
              " 'Central multimídia',\n",
              " 'Teto panorâmico',\n",
              " 'Freios ABS',\n",
              " '4 X 4',\n",
              " 'Painel digital',\n",
              " 'Piloto automático',\n",
              " 'Bancos de couro',\n",
              " 'Câmera de estacionamento',\n",
              " 'Piloto automático',\n",
              " 'Controle de estabilidade',\n",
              " 'Sensor crepuscular',\n",
              " 'Freios ABS',\n",
              " 'Câmbio automático',\n",
              " 'Bancos de couro',\n",
              " 'Central multimídia',\n",
              " 'Vidros elétricos']"
            ]
          },
          "metadata": {
            "tags": []
          },
          "execution_count": 159
        }
      ]
    },
    {
      "cell_type": "code",
      "metadata": {
        "colab": {
          "base_uri": "https://localhost:8080/"
        },
        "id": "Ajiaw5jJCPqT",
        "outputId": "2c9b8594-6943-467e-bd73-61b262219298"
      },
      "source": [
        "#Removendo duplicatas (Método Simplificado \"List Comprehensions\")\n",
        "list(set([item for lista in dados for item in lista]))"
      ],
      "execution_count": null,
      "outputs": [
        {
          "output_type": "execute_result",
          "data": {
            "text/plain": [
              "['Sensor de estacionamento',\n",
              " 'Sensor de chuva',\n",
              " 'Freios ABS',\n",
              " '4 X 4',\n",
              " 'Câmera de estacionamento',\n",
              " 'Vidros elétricos',\n",
              " 'Ar condicionado',\n",
              " 'Câmbio automático',\n",
              " 'Painel digital',\n",
              " 'Teto panorâmico',\n",
              " 'Controle de estabilidade',\n",
              " 'Rodas de liga',\n",
              " 'Piloto automático',\n",
              " 'Central multimídia',\n",
              " 'Bancos de couro',\n",
              " 'Travas elétricas',\n",
              " 'Sensor crepuscular']"
            ]
          },
          "metadata": {
            "tags": []
          },
          "execution_count": 160
        }
      ]
    },
    {
      "cell_type": "code",
      "metadata": {
        "id": "wsu2PSFxDSpy"
      },
      "source": [
        ""
      ],
      "execution_count": null,
      "outputs": []
    },
    {
      "cell_type": "markdown",
      "metadata": {
        "id": "cJ4fPdj5ltou"
      },
      "source": [
        "# 4.3 Instrução *if*\n",
        "\n",
        "#### Formato padrão\n",
        "\n",
        "```\n",
        "if <condição>:\n",
        "     <instruções caso a condição seja verdadeira>\n",
        "```"
      ]
    },
    {
      "cell_type": "markdown",
      "metadata": {
        "id": "bqOYDJiWltou"
      },
      "source": [
        "### Operadores de comparação: $==$, $!=$, $>$, $<$, $>=$, $<=$\n",
        "### e\n",
        "### Operadores lógicos: $and$, $or$, $not$"
      ]
    },
    {
      "cell_type": "code",
      "metadata": {
        "id": "5eY_XPmrltov",
        "colab": {
          "base_uri": "https://localhost:8080/"
        },
        "outputId": "c3dbb996-eb4f-4bf0-9686-c63d0cfe9bad"
      },
      "source": [
        "# 1º item da lista - Nome do veículo\n",
        "# 2º item da lista - Ano de fabricação\n",
        "# 3º item da lista - Veículo é zero km?\n",
        "\n",
        "dados = [\n",
        "    ['Jetta Variant', 2003, False],\n",
        "    ['Passat', 1991, False],\n",
        "    ['Crossfox', 1990, False],\n",
        "    ['DS5', 2019, True],\n",
        "    ['Aston Martin DB4', 2006, False],\n",
        "    ['Palio Weekend', 2012, False],\n",
        "    ['A5', 2019, True],\n",
        "    ['Série 3 Cabrio', 2009, False],\n",
        "    ['Dodge Jorney', 2019, False],\n",
        "    ['Carens', 2011, False]\n",
        "]\n",
        "dados"
      ],
      "execution_count": null,
      "outputs": [
        {
          "output_type": "execute_result",
          "data": {
            "text/plain": [
              "[['Jetta Variant', 2003, False],\n",
              " ['Passat', 1991, False],\n",
              " ['Crossfox', 1990, False],\n",
              " ['DS5', 2019, True],\n",
              " ['Aston Martin DB4', 2006, False],\n",
              " ['Palio Weekend', 2012, False],\n",
              " ['A5', 2019, True],\n",
              " ['Série 3 Cabrio', 2009, False],\n",
              " ['Dodge Jorney', 2019, False],\n",
              " ['Carens', 2011, False]]"
            ]
          },
          "metadata": {
            "tags": []
          },
          "execution_count": 2
        }
      ]
    },
    {
      "cell_type": "code",
      "metadata": {
        "id": "nyb0iDH1ltoy",
        "colab": {
          "base_uri": "https://localhost:8080/"
        },
        "outputId": "3cb48eb8-e3f9-4adb-91dc-7ba0102ddeaf"
      },
      "source": [
        "for lista in dados:\n",
        "  if(lista[2] == True):\n",
        "    print(lista)"
      ],
      "execution_count": null,
      "outputs": [
        {
          "output_type": "stream",
          "text": [
            "['DS5', 2019, True]\n",
            "['A5', 2019, True]\n"
          ],
          "name": "stdout"
        }
      ]
    },
    {
      "cell_type": "code",
      "metadata": {
        "colab": {
          "base_uri": "https://localhost:8080/"
        },
        "id": "UZkmEzHs-tB8",
        "outputId": "87f983f2-87b4-4594-cb3d-3974d2caaf3c"
      },
      "source": [
        "zero_km_Y = []\n",
        "\n",
        "for lista in dados:\n",
        "  if(lista[2] == True):\n",
        "    zero_km_Y.append(lista)\n",
        "\n",
        "zero_km_Y"
      ],
      "execution_count": null,
      "outputs": [
        {
          "output_type": "execute_result",
          "data": {
            "text/plain": [
              "[['DS5', 2019, True], ['A5', 2019, True]]"
            ]
          },
          "metadata": {
            "tags": []
          },
          "execution_count": 4
        }
      ]
    },
    {
      "cell_type": "code",
      "metadata": {
        "id": "5MlITJppltoy",
        "colab": {
          "base_uri": "https://localhost:8080/"
        },
        "outputId": "be8bfae4-dbc8-4bb9-8dac-a6e242fcf478"
      },
      "source": [
        "zero_km_N = []\n",
        "\n",
        "for lista in dados:\n",
        "  if(lista[2] == False):\n",
        "    zero_km_N.append(lista)\n",
        "\n",
        "zero_km_N"
      ],
      "execution_count": null,
      "outputs": [
        {
          "output_type": "execute_result",
          "data": {
            "text/plain": [
              "[['Jetta Variant', 2003, False],\n",
              " ['Passat', 1991, False],\n",
              " ['Crossfox', 1990, False],\n",
              " ['Aston Martin DB4', 2006, False],\n",
              " ['Palio Weekend', 2012, False],\n",
              " ['Série 3 Cabrio', 2009, False],\n",
              " ['Dodge Jorney', 2019, False],\n",
              " ['Carens', 2011, False]]"
            ]
          },
          "metadata": {
            "tags": []
          },
          "execution_count": 5
        }
      ]
    },
    {
      "cell_type": "markdown",
      "metadata": {
        "id": "51Js0kXD0aRH"
      },
      "source": [
        "### List comprehensions"
      ]
    },
    {
      "cell_type": "code",
      "metadata": {
        "id": "Ly4QUX5J0aRI",
        "colab": {
          "base_uri": "https://localhost:8080/"
        },
        "outputId": "c4b908ac-92ab-4ac1-c5c7-698f807e0a5b"
      },
      "source": [
        "[lista for lista in dados if lista[2] == True]"
      ],
      "execution_count": null,
      "outputs": [
        {
          "output_type": "execute_result",
          "data": {
            "text/plain": [
              "[['DS5', 2019, True], ['A5', 2019, True]]"
            ]
          },
          "metadata": {
            "tags": []
          },
          "execution_count": 6
        }
      ]
    },
    {
      "cell_type": "code",
      "metadata": {
        "id": "bDLQ0Oz1_hlU"
      },
      "source": [
        "[lista for lista in dados if lista[2] == False]\n"
      ],
      "execution_count": null,
      "outputs": []
    },
    {
      "cell_type": "code",
      "metadata": {
        "colab": {
          "base_uri": "https://localhost:8080/"
        },
        "id": "8_T2kOsb_iAD",
        "outputId": "5938b9ac-6564-4d0a-ab22-0e3bb5de513b"
      },
      "source": [
        "zero_km_Y = [lista for lista in dados if lista[2] == True]\n",
        "zero_km_Y"
      ],
      "execution_count": null,
      "outputs": [
        {
          "output_type": "execute_result",
          "data": {
            "text/plain": [
              "[['DS5', 2019, True], ['A5', 2019, True]]"
            ]
          },
          "metadata": {
            "tags": []
          },
          "execution_count": 9
        }
      ]
    },
    {
      "cell_type": "code",
      "metadata": {
        "colab": {
          "base_uri": "https://localhost:8080/"
        },
        "id": "MQyA5q-a_iU0",
        "outputId": "701a17c8-7611-47a1-ed9b-0a7846f10ad7"
      },
      "source": [
        "zero_km_N = [lista for lista in dados if lista[2] == True]\n",
        "zero_km_N"
      ],
      "execution_count": null,
      "outputs": [
        {
          "output_type": "execute_result",
          "data": {
            "text/plain": [
              "[['DS5', 2019, True], ['A5', 2019, True]]"
            ]
          },
          "metadata": {
            "tags": []
          },
          "execution_count": 10
        }
      ]
    },
    {
      "cell_type": "markdown",
      "metadata": {
        "id": "CKjrvO5Tltoz"
      },
      "source": [
        "# 4.4 Instruções *if-else* e *if-elif-else*\n",
        "\n",
        "#### Formato padrão\n",
        "\n",
        "```\n",
        "if <condição>:\n",
        "    <instruções caso a condição seja verdadeira>\n",
        "else:\n",
        "    <instruções caso a condição não seja verdadeira>\n",
        "```"
      ]
    },
    {
      "cell_type": "code",
      "metadata": {
        "id": "K_VORb47ltoz"
      },
      "source": [
        "zero_km_Y, zero_km_N = [], []\n",
        "\n",
        "for lista in dados:\n",
        "  if(lista[2] == True):\n",
        "    zero_km_Y.append(lista)\n",
        "  else:\n",
        "    zero_km_N.append(lista)\n",
        "\n"
      ],
      "execution_count": null,
      "outputs": []
    },
    {
      "cell_type": "code",
      "metadata": {
        "id": "vhz5T7jDlto1",
        "colab": {
          "base_uri": "https://localhost:8080/"
        },
        "outputId": "2318819c-da31-449b-b004-ec4ffc51ca4e"
      },
      "source": [
        "zero_km_Y"
      ],
      "execution_count": null,
      "outputs": [
        {
          "output_type": "execute_result",
          "data": {
            "text/plain": [
              "[['Jetta Variant', 2003, False],\n",
              " ['Passat', 1991, False],\n",
              " ['Crossfox', 1990, False],\n",
              " ['Aston Martin DB4', 2006, False],\n",
              " ['Palio Weekend', 2012, False],\n",
              " ['Série 3 Cabrio', 2009, False],\n",
              " ['Dodge Jorney', 2019, False],\n",
              " ['Carens', 2011, False]]"
            ]
          },
          "metadata": {
            "tags": []
          },
          "execution_count": 6
        }
      ]
    },
    {
      "cell_type": "code",
      "metadata": {
        "id": "XlvlpPjhlto1",
        "colab": {
          "base_uri": "https://localhost:8080/"
        },
        "outputId": "efcd58e0-3f55-45b2-ef14-8b85bdcb4236"
      },
      "source": [
        "zero_km_N"
      ],
      "execution_count": null,
      "outputs": [
        {
          "output_type": "execute_result",
          "data": {
            "text/plain": [
              "[['Jetta Variant', 2003, False],\n",
              " ['Passat', 1991, False],\n",
              " ['Crossfox', 1990, False],\n",
              " ['Aston Martin DB4', 2006, False],\n",
              " ['Palio Weekend', 2012, False],\n",
              " ['Série 3 Cabrio', 2009, False],\n",
              " ['Dodge Jorney', 2019, False],\n",
              " ['Carens', 2011, False]]"
            ]
          },
          "metadata": {
            "tags": []
          },
          "execution_count": 7
        }
      ]
    },
    {
      "cell_type": "markdown",
      "metadata": {
        "id": "Z2-8WeN1lto2"
      },
      "source": [
        "#### Formato padrão\n",
        "\n",
        "```\n",
        "if <condição 1>:\n",
        "    <instruções caso a condição 1 seja verdadeira>\n",
        "elif <condição 2>:\n",
        "    <instruções caso a condição 2 seja verdadeira>\n",
        "elif <condição 3>:\n",
        "    <instruções caso a condição 3 seja verdadeira>\n",
        "                        .\n",
        "                        .\n",
        "                        .\n",
        "else:\n",
        "    <instruções caso as condições anteriores não sejam verdadeiras>\n",
        "```"
      ]
    },
    {
      "cell_type": "code",
      "metadata": {
        "id": "ggrbaB4Tlto2",
        "colab": {
          "base_uri": "https://localhost:8080/"
        },
        "outputId": "16d60248-c744-4c62-da07-66bf6e2a0398"
      },
      "source": [
        "#elif else com if (Senão-Se)\n",
        "dados"
      ],
      "execution_count": null,
      "outputs": [
        {
          "output_type": "execute_result",
          "data": {
            "text/plain": [
              "[['Jetta Variant', 2003, False],\n",
              " ['Passat', 1991, False],\n",
              " ['Crossfox', 1990, False],\n",
              " ['DS5', 2019, True],\n",
              " ['Aston Martin DB4', 2006, False],\n",
              " ['Palio Weekend', 2012, False],\n",
              " ['A5', 2019, True],\n",
              " ['Série 3 Cabrio', 2009, False],\n",
              " ['Dodge Jorney', 2019, False],\n",
              " ['Carens', 2011, False]]"
            ]
          },
          "metadata": {
            "tags": []
          },
          "execution_count": 8
        }
      ]
    },
    {
      "cell_type": "code",
      "metadata": {
        "id": "KJgRc1F9lto3",
        "colab": {
          "base_uri": "https://localhost:8080/"
        },
        "outputId": "dd2979f3-b53f-47d8-933c-2510afbf9e07"
      },
      "source": [
        "print('AND')\n",
        "print(f'(True and True) o resultado é: {True and True}')\n",
        "print(f'(True and False) o resultado é: {True and False}')\n",
        "print(f'(False and True) o resultado é: {False and True}')\n",
        "print(f'(False and False) o resultado é: {False and False}')"
      ],
      "execution_count": null,
      "outputs": [
        {
          "output_type": "stream",
          "text": [
            "AND\n",
            "(True and True) o resultado é: True\n",
            "(True and False) o resultado é: False\n",
            "(False and True) o resultado é: False\n",
            "(False and False) o resultado é: False\n"
          ],
          "name": "stdout"
        }
      ]
    },
    {
      "cell_type": "code",
      "metadata": {
        "id": "sb0mSh-o0aRM",
        "colab": {
          "base_uri": "https://localhost:8080/"
        },
        "outputId": "2ea055ca-b731-436a-cd82-6b58b5353542"
      },
      "source": [
        "print('OR')\n",
        "print(f'(True or True) o resultado é: {True or True}')\n",
        "print(f'(True or False) o resultado é: {True or False}')\n",
        "print(f'(False or True) o resultado é: {False or True}')\n",
        "print(f'(False or False) o resultado é: {False or False}')"
      ],
      "execution_count": null,
      "outputs": [
        {
          "output_type": "stream",
          "text": [
            "OR\n",
            "(True or True) o resultado é: True\n",
            "(True or False) o resultado é: True\n",
            "(False or True) o resultado é: True\n",
            "(False or False) o resultado é: False\n"
          ],
          "name": "stdout"
        }
      ]
    },
    {
      "cell_type": "code",
      "metadata": {
        "id": "AfNdTPzElto3"
      },
      "source": [
        "A,B,C = [], [], []\n",
        "\n",
        "for lista in dados:\n",
        "  if(lista[1] <= 2000):\n",
        "    A.append(lista)\n",
        "  elif(lista[1] > 2000 and lista[1] <= 2010):\n",
        "    B.append(lista)\n",
        "  else:\n",
        "    C.append(lista)"
      ],
      "execution_count": null,
      "outputs": []
    },
    {
      "cell_type": "code",
      "metadata": {
        "id": "5bN7SuvTlto4",
        "colab": {
          "base_uri": "https://localhost:8080/"
        },
        "outputId": "608fe560-a9a5-47cc-b7a4-6112fc7d1b1a"
      },
      "source": [
        "A"
      ],
      "execution_count": null,
      "outputs": [
        {
          "output_type": "execute_result",
          "data": {
            "text/plain": [
              "[['Passat', 1991, False], ['Crossfox', 1990, False]]"
            ]
          },
          "metadata": {
            "tags": []
          },
          "execution_count": 17
        }
      ]
    },
    {
      "cell_type": "code",
      "metadata": {
        "id": "dDEl3Vfglto4",
        "colab": {
          "base_uri": "https://localhost:8080/"
        },
        "outputId": "454d44ec-9cf1-48a9-8b10-1145e2171363"
      },
      "source": [
        "B"
      ],
      "execution_count": null,
      "outputs": [
        {
          "output_type": "execute_result",
          "data": {
            "text/plain": [
              "[['Jetta Variant', 2003, False],\n",
              " ['Aston Martin DB4', 2006, False],\n",
              " ['Série 3 Cabrio', 2009, False]]"
            ]
          },
          "metadata": {
            "tags": []
          },
          "execution_count": 18
        }
      ]
    },
    {
      "cell_type": "code",
      "metadata": {
        "id": "Ot4HLQlelto5",
        "colab": {
          "base_uri": "https://localhost:8080/"
        },
        "outputId": "6eec1544-5403-445a-d814-8a1d431dd1ba"
      },
      "source": [
        "C"
      ],
      "execution_count": null,
      "outputs": [
        {
          "output_type": "execute_result",
          "data": {
            "text/plain": [
              "[['DS5', 2019, True],\n",
              " ['Palio Weekend', 2012, False],\n",
              " ['A5', 2019, True],\n",
              " ['Dodge Jorney', 2019, False],\n",
              " ['Carens', 2011, False]]"
            ]
          },
          "metadata": {
            "tags": []
          },
          "execution_count": 16
        }
      ]
    },
    {
      "cell_type": "code",
      "metadata": {
        "id": "FN26ZBKJlto5"
      },
      "source": [
        "A,B,C = [], [], []\n",
        "\n",
        "for lista in dados:\n",
        "  if(lista[1] <= 2000):\n",
        "    A.append(lista)\n",
        "  elif(2000 and lista[1] <= 2010):\n",
        "    B.append(lista)\n",
        "  else:\n",
        "    C.append(lista)"
      ],
      "execution_count": null,
      "outputs": []
    },
    {
      "cell_type": "markdown",
      "metadata": {
        "id": "aRfQfubxlto6"
      },
      "source": [
        "# <font color=green> 5. NUMPY BÁSICO\n",
        "---\n",
        "\n",
        "Numpy é a abreviação de Numerical Python e é um dos pacotes mais importantes para processamento numérico em Python. Numpy oferece a base para a maioria dos pacotes de aplicações científicas que utilizem dados numéricos em Python (estruturas de dados e algoritmos). Pode-se destacar os seguintes recursos que o pacote Numpy contém:\n",
        "\n",
        "- Um poderoso objeto array multidimensional;\n",
        "- Funções matemáticas sofisticadas para operações com arrays sem a necessidade de utilização de laços *for*;\n",
        "- Recursos de algebra linear e geração de números aleatórios\n",
        "\n",
        "Além de seus óbvios usos científicos, o pacote NumPy também é muito utilizado em análise de dados como um eficiente contêiner multidimensional de dados genéricos para transporte entre diversos algoritmos e bibliotecas em Python.\n",
        "\n",
        "**Versão:** 1.16.5\n",
        "\n",
        "**Instalação:** https://scipy.org/install.html\n",
        "\n",
        "**Documentação:** https://numpy.org/doc/1.16/"
      ]
    },
    {
      "cell_type": "markdown",
      "metadata": {
        "id": "RtG2-g1ultme"
      },
      "source": [
        "### Pacotes\n",
        "\n",
        "Existem diversos pacotes Python disponíveis para download na internet. Cada pacote tem como objetivo a solução de determinado tipo de problema e para isso são desenvolvidos novos tipos, funções e métodos.\n",
        "\n",
        "Alguns pacotes são bastante utilizados em um contexto de ciência de dados como por exemplo:\n",
        "\n",
        "- Numpy\n",
        "- Pandas\n",
        "- Scikit-learn\n",
        "- Matplotlib\n",
        "\n",
        "Alguns pacotes não são distribuídos com a instalação default do Python. Neste caso devemos instalar os pacotes que necessitamos em nosso sistema para podermos utilizar suas funcionalidades."
      ]
    },
    {
      "cell_type": "markdown",
      "metadata": {
        "id": "b8prsQjmltme"
      },
      "source": [
        "### Importando todo o pacote"
      ]
    },
    {
      "cell_type": "code",
      "metadata": {
        "id": "lP0tqXHLltmf"
      },
      "source": [
        "import numpy"
      ],
      "execution_count": null,
      "outputs": []
    },
    {
      "cell_type": "markdown",
      "metadata": {
        "id": "IfWZ0eB9WgpE"
      },
      "source": [
        "https://numpy.org/doc/1.16/reference/generated/numpy.arange.html"
      ]
    },
    {
      "cell_type": "code",
      "metadata": {
        "id": "Y40UP3K7ltmg",
        "colab": {
          "base_uri": "https://localhost:8080/"
        },
        "outputId": "b9668dd0-77f9-4c6f-a963-a2407885cea2"
      },
      "source": [
        "numpy.arange(10)"
      ],
      "execution_count": null,
      "outputs": [
        {
          "output_type": "execute_result",
          "data": {
            "text/plain": [
              "array([0, 1, 2, 3, 4, 5, 6, 7, 8, 9])"
            ]
          },
          "metadata": {
            "tags": []
          },
          "execution_count": 22
        }
      ]
    },
    {
      "cell_type": "markdown",
      "metadata": {
        "id": "84-53f4Lltmh"
      },
      "source": [
        "### Importando todo o pacote e atribuindo um novo nome "
      ]
    },
    {
      "cell_type": "code",
      "metadata": {
        "id": "CzESWck7ltmi"
      },
      "source": [
        "import numpy as np"
      ],
      "execution_count": null,
      "outputs": []
    },
    {
      "cell_type": "code",
      "metadata": {
        "id": "RC7Dr5Viltmj",
        "colab": {
          "base_uri": "https://localhost:8080/"
        },
        "outputId": "4172fce8-34a6-4467-9967-2251ad08ec60"
      },
      "source": [
        "np.arange(11)"
      ],
      "execution_count": null,
      "outputs": [
        {
          "output_type": "execute_result",
          "data": {
            "text/plain": [
              "array([ 0,  1,  2,  3,  4,  5,  6,  7,  8,  9, 10])"
            ]
          },
          "metadata": {
            "tags": []
          },
          "execution_count": 24
        }
      ]
    },
    {
      "cell_type": "markdown",
      "metadata": {
        "id": "WWawttSpltml"
      },
      "source": [
        "### Importando parte do pacote"
      ]
    },
    {
      "cell_type": "code",
      "metadata": {
        "id": "8kTeo3Ltltmo"
      },
      "source": [
        "#Importa apenas o arange\n",
        "from numpy import arange"
      ],
      "execution_count": null,
      "outputs": []
    },
    {
      "cell_type": "code",
      "metadata": {
        "id": "4LPnpiEwltmt",
        "colab": {
          "base_uri": "https://localhost:8080/"
        },
        "outputId": "24b9335b-ca1e-4286-a900-aeb30b79b178"
      },
      "source": [
        "arange(10)"
      ],
      "execution_count": null,
      "outputs": [
        {
          "output_type": "execute_result",
          "data": {
            "text/plain": [
              "array([0, 1, 2, 3, 4, 5, 6, 7, 8, 9])"
            ]
          },
          "metadata": {
            "tags": []
          },
          "execution_count": 26
        }
      ]
    },
    {
      "cell_type": "markdown",
      "metadata": {
        "id": "VSmffnCklto6"
      },
      "source": [
        "# 5.1 Criando arrays Numpy"
      ]
    },
    {
      "cell_type": "code",
      "metadata": {
        "id": "Wqpin_-Plto8"
      },
      "source": [
        "import numpy as np"
      ],
      "execution_count": null,
      "outputs": []
    },
    {
      "cell_type": "markdown",
      "metadata": {
        "id": "ock4Ku-Ulto8"
      },
      "source": [
        "### A partir de listas\n",
        "\n",
        "https://numpy.org/doc/1.16/user/basics.creation.html"
      ]
    },
    {
      "cell_type": "code",
      "metadata": {
        "id": "82H-09CQlto9"
      },
      "source": [
        "km = np.array([1000, 2300, 4987, 1500])"
      ],
      "execution_count": null,
      "outputs": []
    },
    {
      "cell_type": "code",
      "metadata": {
        "id": "8VYE3JSYlto9",
        "colab": {
          "base_uri": "https://localhost:8080/"
        },
        "outputId": "768b5173-8ffc-4701-a448-cf341a7fc7b7"
      },
      "source": [
        "km"
      ],
      "execution_count": null,
      "outputs": [
        {
          "output_type": "execute_result",
          "data": {
            "text/plain": [
              "array([1000, 2300, 4987, 1500])"
            ]
          },
          "metadata": {
            "tags": []
          },
          "execution_count": 29
        }
      ]
    },
    {
      "cell_type": "code",
      "metadata": {
        "id": "OBsa5Cfplto-",
        "colab": {
          "base_uri": "https://localhost:8080/"
        },
        "outputId": "c385c0ac-e08a-47b2-b969-465c34eb9c0c"
      },
      "source": [
        "type(km)"
      ],
      "execution_count": null,
      "outputs": [
        {
          "output_type": "execute_result",
          "data": {
            "text/plain": [
              "numpy.ndarray"
            ]
          },
          "metadata": {
            "tags": []
          },
          "execution_count": 30
        }
      ]
    },
    {
      "cell_type": "markdown",
      "metadata": {
        "id": "RfQ3jJSAlto-"
      },
      "source": [
        "https://numpy.org/doc/1.16/user/basics.types.html"
      ]
    },
    {
      "cell_type": "code",
      "metadata": {
        "id": "6yLpkJcAlto-",
        "colab": {
          "base_uri": "https://localhost:8080/"
        },
        "outputId": "d8c25ae4-f611-44f5-e6a5-2eb57a86ac51"
      },
      "source": [
        "km.dtype"
      ],
      "execution_count": null,
      "outputs": [
        {
          "output_type": "execute_result",
          "data": {
            "text/plain": [
              "dtype('int64')"
            ]
          },
          "metadata": {
            "tags": []
          },
          "execution_count": 31
        }
      ]
    },
    {
      "cell_type": "markdown",
      "metadata": {
        "id": "1pFx86QPlto_"
      },
      "source": [
        "### A partir de dados externos\n",
        "\n",
        "https://numpy.org/doc/1.16/reference/generated/numpy.loadtxt.html"
      ]
    },
    {
      "cell_type": "code",
      "metadata": {
        "id": "26pQLNgrlto_"
      },
      "source": [
        "#Criando array pelo dado externo\n",
        "km = np.loadtxt(fname = 'carros-km.txt', dtype = int)"
      ],
      "execution_count": 36,
      "outputs": []
    },
    {
      "cell_type": "code",
      "metadata": {
        "id": "3DSBfuZPRKay",
        "colab": {
          "base_uri": "https://localhost:8080/"
        },
        "outputId": "bdedff0e-12fe-4534-9b75-f0cbc632920d"
      },
      "source": [
        "km"
      ],
      "execution_count": 37,
      "outputs": [
        {
          "output_type": "execute_result",
          "data": {
            "text/plain": [
              "array([ 44410,   5712,  37123,      0,  25757,  10728,      0,  77599,\n",
              "        99197,  37978,  12859,   8052,  89773,      0,  41457, 115607,\n",
              "        46449,      0,  37086,  15173, 101193,      0,  98079, 102959,\n",
              "            0,      0,   5795,      0,  58848,  94381,  30163,  53332,\n",
              "        17720,  33808,  90684,  43975,      0,      0,   5526,      0,\n",
              "        93415,  40762,      0,  86302,      0,   9755,  69945,   2395,\n",
              "            0,  80349,  85554,  50496,  67716,  93947,  35345,  81007,\n",
              "       119513,      0,      0,      0,      0,      0, 118895,  48509,\n",
              "       100912,  95649,      0,  90495,      0,  29132,  23802,  84992,\n",
              "        54395,  26731,  44329, 118236, 113808,    610,      0,      0,\n",
              "        12887,  79607,  90924,  42733,      0,      0, 117714, 113885,\n",
              "            0,  30511,  74867, 119760,   8356,  64247,  88661,   4539,\n",
              "       110116,  33215,  92001,      0,  81708,  70641,      0,  91277,\n",
              "        26544,  52596,  47503,  89056,  28834, 110564,  56638,  17357,\n",
              "        74015,  15196,      0,  10821,      0,      0,   9595,  99052,\n",
              "        52389, 119945,  96005,  31639,      0,  80187,      0,  58212,\n",
              "        61672,  32017,      0,  56944,      0,  86519,   4821, 101025,\n",
              "        30705,      0,  32555, 103389,      0,  55289,      0,      0,\n",
              "       115930,  66437,  96800,  14237,  19896, 113045, 114942,   3173,\n",
              "        83611,  25356,  88634,   2314,   2627,  52034,      0,      0,\n",
              "        79577, 108201,  76453,  57683,  96610, 109001,  26212,  45971,\n",
              "        49182,  49907,  38620,  60996,  73914, 107392,   9146,      0,\n",
              "        17924,      0, 116949,  20476,  52804,   8849,  91724,  32056,\n",
              "        74886,      0,      0,  52189,  83559,      0,  20328,      0,\n",
              "        75577,  33659, 104341,  25510,  18965,  87161,   6652,  55738,\n",
              "            0,      0,      0,  64320,      0,  68678,  71697,      0,\n",
              "        34783,  33772,  85127,  13606,  35647,  95128,  14046,  41194,\n",
              "            0,  96100, 103900,  43814,  24638,      0, 110966,  15987,\n",
              "        53369,  10077,  71544,    107,   8394,  41498, 116002, 100858,\n",
              "        67475,   8497,   4420,      0,  58537,      0,      0, 112016,\n",
              "        91840, 112787,      0,      0,   9293,      0,  55083,  48796,\n",
              "            0,  89685,  85384,  98108,  71280,  27505,  29981,  52637,\n",
              "         7685,  50188])"
            ]
          },
          "metadata": {
            "tags": []
          },
          "execution_count": 37
        }
      ]
    },
    {
      "cell_type": "code",
      "metadata": {
        "id": "FoP42bdpltpA",
        "scrolled": true,
        "colab": {
          "base_uri": "https://localhost:8080/"
        },
        "outputId": "d07844e2-8844-4c27-eb61-11ed57dd9c0c"
      },
      "source": [
        "km.dtype"
      ],
      "execution_count": 38,
      "outputs": [
        {
          "output_type": "execute_result",
          "data": {
            "text/plain": [
              "dtype('int64')"
            ]
          },
          "metadata": {
            "tags": []
          },
          "execution_count": 38
        }
      ]
    },
    {
      "cell_type": "code",
      "metadata": {
        "id": "MNPjZJbYltpA"
      },
      "source": [
        ""
      ],
      "execution_count": null,
      "outputs": []
    },
    {
      "cell_type": "markdown",
      "metadata": {
        "id": "_wnTg0wJltpB"
      },
      "source": [
        "### Arrays com duas dimensões"
      ]
    },
    {
      "cell_type": "code",
      "metadata": {
        "id": "Gt1dL27GltpB",
        "scrolled": true,
        "colab": {
          "base_uri": "https://localhost:8080/"
        },
        "outputId": "06d42650-6b84-435b-b7b4-590bc6455b64"
      },
      "source": [
        "dados = [ \n",
        "    ['Rodas de liga', 'Travas elétricas', 'Piloto automático', 'Bancos de couro', 'Ar condicionado', 'Sensor de estacionamento', 'Sensor crepuscular', 'Sensor de chuva'],\n",
        "    ['Central multimídia', 'Teto panorâmico', 'Freios ABS', '4 X 4', 'Painel digital', 'Piloto automático', 'Bancos de couro', 'Câmera de estacionamento'],\n",
        "    ['Piloto automático', 'Controle de estabilidade', 'Sensor crepuscular', 'Freios ABS', 'Câmbio automático', 'Bancos de couro', 'Central multimídia', 'Vidros elétricos']\n",
        "]\n",
        "dados"
      ],
      "execution_count": 39,
      "outputs": [
        {
          "output_type": "execute_result",
          "data": {
            "text/plain": [
              "[['Rodas de liga',\n",
              "  'Travas elétricas',\n",
              "  'Piloto automático',\n",
              "  'Bancos de couro',\n",
              "  'Ar condicionado',\n",
              "  'Sensor de estacionamento',\n",
              "  'Sensor crepuscular',\n",
              "  'Sensor de chuva'],\n",
              " ['Central multimídia',\n",
              "  'Teto panorâmico',\n",
              "  'Freios ABS',\n",
              "  '4 X 4',\n",
              "  'Painel digital',\n",
              "  'Piloto automático',\n",
              "  'Bancos de couro',\n",
              "  'Câmera de estacionamento'],\n",
              " ['Piloto automático',\n",
              "  'Controle de estabilidade',\n",
              "  'Sensor crepuscular',\n",
              "  'Freios ABS',\n",
              "  'Câmbio automático',\n",
              "  'Bancos de couro',\n",
              "  'Central multimídia',\n",
              "  'Vidros elétricos']]"
            ]
          },
          "metadata": {
            "tags": []
          },
          "execution_count": 39
        }
      ]
    },
    {
      "cell_type": "code",
      "metadata": {
        "id": "IlbYeZPkltpC"
      },
      "source": [
        "Acessorios = np.array(dados)"
      ],
      "execution_count": 40,
      "outputs": []
    },
    {
      "cell_type": "code",
      "metadata": {
        "id": "FgjmWozgltpD",
        "scrolled": true,
        "colab": {
          "base_uri": "https://localhost:8080/"
        },
        "outputId": "5dacaec3-1af2-4c2d-8a9f-e40b3f981c31"
      },
      "source": [
        "Acessorios"
      ],
      "execution_count": 41,
      "outputs": [
        {
          "output_type": "execute_result",
          "data": {
            "text/plain": [
              "array([['Rodas de liga', 'Travas elétricas', 'Piloto automático',\n",
              "        'Bancos de couro', 'Ar condicionado', 'Sensor de estacionamento',\n",
              "        'Sensor crepuscular', 'Sensor de chuva'],\n",
              "       ['Central multimídia', 'Teto panorâmico', 'Freios ABS', '4 X 4',\n",
              "        'Painel digital', 'Piloto automático', 'Bancos de couro',\n",
              "        'Câmera de estacionamento'],\n",
              "       ['Piloto automático', 'Controle de estabilidade',\n",
              "        'Sensor crepuscular', 'Freios ABS', 'Câmbio automático',\n",
              "        'Bancos de couro', 'Central multimídia', 'Vidros elétricos']],\n",
              "      dtype='<U24')"
            ]
          },
          "metadata": {
            "tags": []
          },
          "execution_count": 41
        }
      ]
    },
    {
      "cell_type": "code",
      "metadata": {
        "id": "TDM9HskUltpD",
        "colab": {
          "base_uri": "https://localhost:8080/"
        },
        "outputId": "bfb96222-f6ae-47dc-e80e-8bf0ea406f7a"
      },
      "source": [
        "#Uma dimensão (Tem 258 LINHAS)\n",
        "km.shape"
      ],
      "execution_count": 42,
      "outputs": [
        {
          "output_type": "execute_result",
          "data": {
            "text/plain": [
              "(258,)"
            ]
          },
          "metadata": {
            "tags": []
          },
          "execution_count": 42
        }
      ]
    },
    {
      "cell_type": "code",
      "metadata": {
        "id": "bBmnzpF5ltpE",
        "colab": {
          "base_uri": "https://localhost:8080/"
        },
        "outputId": "c797c004-1a71-4d6e-9edc-ca715fa3e3cd"
      },
      "source": [
        "#(3 linhas e 8 colunas)\n",
        "Acessorios.shape"
      ],
      "execution_count": 44,
      "outputs": [
        {
          "output_type": "execute_result",
          "data": {
            "text/plain": [
              "(3, 8)"
            ]
          },
          "metadata": {
            "tags": []
          },
          "execution_count": 44
        }
      ]
    },
    {
      "cell_type": "markdown",
      "metadata": {
        "id": "cPbkST9pltpE"
      },
      "source": [
        "### Comparando desempenho com listas"
      ]
    },
    {
      "cell_type": "code",
      "metadata": {
        "id": "tTPC-G4vltpE"
      },
      "source": [
        "np_array = np.arange(1000000)"
      ],
      "execution_count": 45,
      "outputs": []
    },
    {
      "cell_type": "code",
      "metadata": {
        "id": "PIC-ndg9ltpF"
      },
      "source": [
        "py_list = list(range(1000000))"
      ],
      "execution_count": 46,
      "outputs": []
    },
    {
      "cell_type": "code",
      "metadata": {
        "id": "vXy57nk2ltpF",
        "colab": {
          "base_uri": "https://localhost:8080/"
        },
        "outputId": "2d9a9d7b-fa3d-45c0-e1fa-ab9f7556bc4d"
      },
      "source": [
        "#Vendo desempenho em tempo de execução...\n",
        "#_ como se fosse uma memoria da calculadora, você usa o dado mas não altera o original\n",
        "\n",
        "%time for _ in range(100): np_array *= 2"
      ],
      "execution_count": 47,
      "outputs": [
        {
          "output_type": "stream",
          "text": [
            "CPU times: user 57.9 ms, sys: 756 µs, total: 58.6 ms\n",
            "Wall time: 59.5 ms\n"
          ],
          "name": "stdout"
        }
      ]
    },
    {
      "cell_type": "code",
      "metadata": {
        "id": "I94lVgCRltpG",
        "colab": {
          "base_uri": "https://localhost:8080/"
        },
        "outputId": "2408bd1a-0f00-41c8-cdae-7e04fd316c53"
      },
      "source": [
        "#Using List comprehensions\n",
        "%time for _ in range(100): py_list = [x * 2 for x in py_list]"
      ],
      "execution_count": 48,
      "outputs": [
        {
          "output_type": "stream",
          "text": [
            "CPU times: user 8.29 s, sys: 1.97 s, total: 10.3 s\n",
            "Wall time: 10.3 s\n"
          ],
          "name": "stdout"
        }
      ]
    },
    {
      "cell_type": "markdown",
      "metadata": {
        "id": "ul4MuKyTltpG"
      },
      "source": [
        "# 5.2 Operações aritméticas com arrays Numpy"
      ]
    },
    {
      "cell_type": "markdown",
      "metadata": {
        "id": "QwnxO_rYltpH"
      },
      "source": [
        "### Operações entre arrays e constantes"
      ]
    },
    {
      "cell_type": "code",
      "metadata": {
        "id": "63KVHPK0ltpH"
      },
      "source": [
        "km = [44410., 5712., 37123., 0., 25757.]\n",
        "anos = [2003, 1991, 1990, 2019, 2006]"
      ],
      "execution_count": 49,
      "outputs": []
    },
    {
      "cell_type": "code",
      "metadata": {
        "id": "AryIZaBIltpH",
        "colab": {
          "base_uri": "https://localhost:8080/",
          "height": 163
        },
        "outputId": "0b225cae-db46-44a4-90fc-437adb03546b"
      },
      "source": [
        "# idade = 2019 - anos"
      ],
      "execution_count": 50,
      "outputs": [
        {
          "output_type": "error",
          "ename": "TypeError",
          "evalue": "ignored",
          "traceback": [
            "\u001b[0;31m---------------------------------------------------------------------------\u001b[0m",
            "\u001b[0;31mTypeError\u001b[0m                                 Traceback (most recent call last)",
            "\u001b[0;32m<ipython-input-50-4084c5e6fc93>\u001b[0m in \u001b[0;36m<module>\u001b[0;34m()\u001b[0m\n\u001b[0;32m----> 1\u001b[0;31m \u001b[0midade\u001b[0m \u001b[0;34m=\u001b[0m \u001b[0;36m2019\u001b[0m \u001b[0;34m-\u001b[0m \u001b[0manos\u001b[0m\u001b[0;34m\u001b[0m\u001b[0;34m\u001b[0m\u001b[0m\n\u001b[0m",
            "\u001b[0;31mTypeError\u001b[0m: unsupported operand type(s) for -: 'int' and 'list'"
          ]
        }
      ]
    },
    {
      "cell_type": "code",
      "metadata": {
        "id": "s8GvEk4HltpI"
      },
      "source": [
        "km = np.array([44410., 5712., 37123., 0., 25757.])\n",
        "anos = np.array([2003, 1991, 1990, 2019, 2006])"
      ],
      "execution_count": 51,
      "outputs": []
    },
    {
      "cell_type": "code",
      "metadata": {
        "id": "aUnYV7OultpI"
      },
      "source": [
        "idade = 2019 - anos"
      ],
      "execution_count": 56,
      "outputs": []
    },
    {
      "cell_type": "code",
      "metadata": {
        "id": "vg5yZ9IpltpJ",
        "colab": {
          "base_uri": "https://localhost:8080/"
        },
        "outputId": "513c8237-013a-4f83-8862-a91b4b970e82"
      },
      "source": [
        "idade"
      ],
      "execution_count": 53,
      "outputs": [
        {
          "output_type": "execute_result",
          "data": {
            "text/plain": [
              "array([16, 28, 29,  0, 13])"
            ]
          },
          "metadata": {
            "tags": []
          },
          "execution_count": 53
        }
      ]
    },
    {
      "cell_type": "markdown",
      "metadata": {
        "id": "qn1PUsM9ltpJ"
      },
      "source": [
        "### Operações entre arrays"
      ]
    },
    {
      "cell_type": "code",
      "metadata": {
        "id": "gU_d5aZkltpJ",
        "colab": {
          "base_uri": "https://localhost:8080/"
        },
        "outputId": "2b5ef66e-8b05-4c3c-dea1-5a77646c6d33"
      },
      "source": [
        "km_media = km / idade"
      ],
      "execution_count": 57,
      "outputs": [
        {
          "output_type": "stream",
          "text": [
            "/usr/local/lib/python3.7/dist-packages/ipykernel_launcher.py:1: RuntimeWarning: invalid value encountered in true_divide\n",
            "  \"\"\"Entry point for launching an IPython kernel.\n"
          ],
          "name": "stderr"
        }
      ]
    },
    {
      "cell_type": "code",
      "metadata": {
        "id": "U9DXntUEltpK",
        "colab": {
          "base_uri": "https://localhost:8080/"
        },
        "outputId": "3ebdae00-761b-495d-f5ad-bd8e4db5c2ff"
      },
      "source": [
        "km_media"
      ],
      "execution_count": 58,
      "outputs": [
        {
          "output_type": "execute_result",
          "data": {
            "text/plain": [
              "array([2775.625     ,  204.        , 1280.10344828,           nan,\n",
              "       1981.30769231])"
            ]
          },
          "metadata": {
            "tags": []
          },
          "execution_count": 58
        }
      ]
    },
    {
      "cell_type": "markdown",
      "metadata": {
        "id": "o4-gsGICltpN"
      },
      "source": [
        "### Operações com arrays de duas dimensões"
      ]
    },
    {
      "cell_type": "code",
      "metadata": {
        "id": "VT71Pbb3ltpN"
      },
      "source": [
        "dados = np.array([km, anos])"
      ],
      "execution_count": 59,
      "outputs": []
    },
    {
      "cell_type": "code",
      "metadata": {
        "id": "bgDe00q8ltpO",
        "colab": {
          "base_uri": "https://localhost:8080/"
        },
        "outputId": "3fc46af1-f436-4b16-d008-08910f1e65ff"
      },
      "source": [
        "dados"
      ],
      "execution_count": 60,
      "outputs": [
        {
          "output_type": "execute_result",
          "data": {
            "text/plain": [
              "array([[44410.,  5712., 37123.,     0., 25757.],\n",
              "       [ 2003.,  1991.,  1990.,  2019.,  2006.]])"
            ]
          },
          "metadata": {
            "tags": []
          },
          "execution_count": 60
        }
      ]
    },
    {
      "cell_type": "code",
      "metadata": {
        "id": "jIQU2ugKltpP",
        "colab": {
          "base_uri": "https://localhost:8080/"
        },
        "outputId": "e6b584c6-4d15-4005-cfbc-941d5eea8731"
      },
      "source": [
        "dados.shape"
      ],
      "execution_count": 61,
      "outputs": [
        {
          "output_type": "execute_result",
          "data": {
            "text/plain": [
              "(2, 5)"
            ]
          },
          "metadata": {
            "tags": []
          },
          "execution_count": 61
        }
      ]
    },
    {
      "cell_type": "markdown",
      "metadata": {
        "id": "dsgz-E5ZltpP"
      },
      "source": [
        "![1410-img01.png](https://caelum-online-public.s3.amazonaws.com/1410-pythondatascience/01/1410-img01.png)"
      ]
    },
    {
      "cell_type": "code",
      "metadata": {
        "id": "imANn6HultpQ",
        "colab": {
          "base_uri": "https://localhost:8080/"
        },
        "outputId": "d50b96f4-90ac-4f1c-a7ea-87254a74260d"
      },
      "source": [
        "dados[0]"
      ],
      "execution_count": 62,
      "outputs": [
        {
          "output_type": "execute_result",
          "data": {
            "text/plain": [
              "array([44410.,  5712., 37123.,     0., 25757.])"
            ]
          },
          "metadata": {
            "tags": []
          },
          "execution_count": 62
        }
      ]
    },
    {
      "cell_type": "code",
      "metadata": {
        "id": "Nkp9ljkvltpQ",
        "colab": {
          "base_uri": "https://localhost:8080/"
        },
        "outputId": "dd37855c-68ca-4dd4-983b-13fa44bb115e"
      },
      "source": [
        "dados[1]"
      ],
      "execution_count": 63,
      "outputs": [
        {
          "output_type": "execute_result",
          "data": {
            "text/plain": [
              "array([2003., 1991., 1990., 2019., 2006.])"
            ]
          },
          "metadata": {
            "tags": []
          },
          "execution_count": 63
        }
      ]
    },
    {
      "cell_type": "code",
      "metadata": {
        "id": "njJ2z3HJltpR",
        "colab": {
          "base_uri": "https://localhost:8080/"
        },
        "outputId": "b562fb36-773e-41d0-bea5-8ee8edb6ef44"
      },
      "source": [
        "km_media = dados[0] /(2019 - dados[1])"
      ],
      "execution_count": 64,
      "outputs": [
        {
          "output_type": "stream",
          "text": [
            "/usr/local/lib/python3.7/dist-packages/ipykernel_launcher.py:1: RuntimeWarning: invalid value encountered in true_divide\n",
            "  \"\"\"Entry point for launching an IPython kernel.\n"
          ],
          "name": "stderr"
        }
      ]
    },
    {
      "cell_type": "code",
      "metadata": {
        "colab": {
          "base_uri": "https://localhost:8080/"
        },
        "id": "VRoZFzB1WCmc",
        "outputId": "a9278c8f-f28f-465f-c2fa-ea56677007c9"
      },
      "source": [
        "km_media"
      ],
      "execution_count": 65,
      "outputs": [
        {
          "output_type": "execute_result",
          "data": {
            "text/plain": [
              "array([2775.625     ,  204.        , 1280.10344828,           nan,\n",
              "       1981.30769231])"
            ]
          },
          "metadata": {
            "tags": []
          },
          "execution_count": 65
        }
      ]
    },
    {
      "cell_type": "markdown",
      "metadata": {
        "id": "4CAwtS0-ltpR"
      },
      "source": [
        "# 5.3 Seleções com arrays Numpy"
      ]
    },
    {
      "cell_type": "markdown",
      "metadata": {
        "id": "QDAT1vODltpS"
      },
      "source": [
        "![1410-img01.png](https://caelum-online-public.s3.amazonaws.com/1410-pythondatascience/01/1410-img01.png)"
      ]
    },
    {
      "cell_type": "code",
      "metadata": {
        "id": "nZpPGS2TltpS",
        "colab": {
          "base_uri": "https://localhost:8080/"
        },
        "outputId": "793a9ef2-9cff-4c21-ae39-35248196212d"
      },
      "source": [
        "dados"
      ],
      "execution_count": 69,
      "outputs": [
        {
          "output_type": "execute_result",
          "data": {
            "text/plain": [
              "array([[44410.,  5712., 37123.,     0., 25757.],\n",
              "       [ 2003.,  1991.,  1990.,  2019.,  2006.]])"
            ]
          },
          "metadata": {
            "tags": []
          },
          "execution_count": 69
        }
      ]
    },
    {
      "cell_type": "markdown",
      "metadata": {
        "id": "b--BIPcOltpT"
      },
      "source": [
        "![1410-img02.png](https://caelum-online-public.s3.amazonaws.com/1410-pythondatascience/01/1410-img02.png)"
      ]
    },
    {
      "cell_type": "markdown",
      "metadata": {
        "id": "86-hOHa7ltpT"
      },
      "source": [
        "### Indexação \n",
        "\n",
        "<font color=red>**Observação:**</font> A indexação tem origem no zero."
      ]
    },
    {
      "cell_type": "code",
      "metadata": {
        "id": "mr0Q_X0JltpT",
        "colab": {
          "base_uri": "https://localhost:8080/"
        },
        "outputId": "1b0abf08-e89c-4c18-b50f-d2c786eef226"
      },
      "source": [
        "contador = np.arange(10)\n",
        "contador "
      ],
      "execution_count": 70,
      "outputs": [
        {
          "output_type": "execute_result",
          "data": {
            "text/plain": [
              "array([0, 1, 2, 3, 4, 5, 6, 7, 8, 9])"
            ]
          },
          "metadata": {
            "tags": []
          },
          "execution_count": 70
        }
      ]
    },
    {
      "cell_type": "code",
      "metadata": {
        "id": "VxiR_IgdltpU",
        "colab": {
          "base_uri": "https://localhost:8080/"
        },
        "outputId": "401bdbfd-42ac-417d-bb60-18d3a74307e3"
      },
      "source": [
        "contador[0]"
      ],
      "execution_count": 71,
      "outputs": [
        {
          "output_type": "execute_result",
          "data": {
            "text/plain": [
              "0"
            ]
          },
          "metadata": {
            "tags": []
          },
          "execution_count": 71
        }
      ]
    },
    {
      "cell_type": "code",
      "metadata": {
        "id": "xGDomIyAltpU",
        "colab": {
          "base_uri": "https://localhost:8080/"
        },
        "outputId": "481366a0-6adc-439c-cda8-ec87f9f28060"
      },
      "source": [
        "#Item 6 corresponde ao 5 então (n-1)\n",
        "item = 6\n",
        "index = item - 1\n",
        "contador[index]"
      ],
      "execution_count": 73,
      "outputs": [
        {
          "output_type": "execute_result",
          "data": {
            "text/plain": [
              "5"
            ]
          },
          "metadata": {
            "tags": []
          },
          "execution_count": 73
        }
      ]
    },
    {
      "cell_type": "code",
      "metadata": {
        "id": "QEO5Za5PltpV",
        "colab": {
          "base_uri": "https://localhost:8080/"
        },
        "outputId": "84707619-b5ce-4391-8f4f-c223a147ca05"
      },
      "source": [
        "#Ultimo item\n",
        "contador[-1]"
      ],
      "execution_count": 74,
      "outputs": [
        {
          "output_type": "execute_result",
          "data": {
            "text/plain": [
              "9"
            ]
          },
          "metadata": {
            "tags": []
          },
          "execution_count": 74
        }
      ]
    },
    {
      "cell_type": "code",
      "metadata": {
        "id": "rvkeMK8KltpV",
        "colab": {
          "base_uri": "https://localhost:8080/"
        },
        "outputId": "065dbe97-92c9-4954-c5eb-8c93fc7e6d2e"
      },
      "source": [
        "dados[0]"
      ],
      "execution_count": 75,
      "outputs": [
        {
          "output_type": "execute_result",
          "data": {
            "text/plain": [
              "array([44410.,  5712., 37123.,     0., 25757.])"
            ]
          },
          "metadata": {
            "tags": []
          },
          "execution_count": 75
        }
      ]
    },
    {
      "cell_type": "code",
      "metadata": {
        "id": "X8c-lJRJltpW",
        "colab": {
          "base_uri": "https://localhost:8080/"
        },
        "outputId": "743ed004-b0b3-4ffc-f1b0-02cc68759652"
      },
      "source": [
        "dados[1]"
      ],
      "execution_count": 76,
      "outputs": [
        {
          "output_type": "execute_result",
          "data": {
            "text/plain": [
              "array([2003., 1991., 1990., 2019., 2006.])"
            ]
          },
          "metadata": {
            "tags": []
          },
          "execution_count": 76
        }
      ]
    },
    {
      "cell_type": "markdown",
      "metadata": {
        "id": "fCWUSI1zltpZ"
      },
      "source": [
        "## <font color=green>**Dica:**</font>\n",
        "### *ndarray[ linha ][ coluna ]* ou *ndarray[ linha, coluna ]*"
      ]
    },
    {
      "cell_type": "code",
      "metadata": {
        "id": "Nxc3uY-ZltpZ",
        "colab": {
          "base_uri": "https://localhost:8080/"
        },
        "outputId": "921864b2-4c01-4ebb-d212-f327e5afdd70"
      },
      "source": [
        "#Dado 1990\n",
        "dados[1][2]"
      ],
      "execution_count": 77,
      "outputs": [
        {
          "output_type": "execute_result",
          "data": {
            "text/plain": [
              "1990.0"
            ]
          },
          "metadata": {
            "tags": []
          },
          "execution_count": 77
        }
      ]
    },
    {
      "cell_type": "code",
      "metadata": {
        "id": "xp8ByjualtpZ",
        "colab": {
          "base_uri": "https://localhost:8080/"
        },
        "outputId": "b38d05fb-b0f6-4f34-82b9-11241941d909"
      },
      "source": [
        "dados[1,2]"
      ],
      "execution_count": 78,
      "outputs": [
        {
          "output_type": "execute_result",
          "data": {
            "text/plain": [
              "1990.0"
            ]
          },
          "metadata": {
            "tags": []
          },
          "execution_count": 78
        }
      ]
    },
    {
      "cell_type": "markdown",
      "metadata": {
        "id": "7osmTUC4ltpa"
      },
      "source": [
        " ### Fatiamentos\n",
        " \n",
        "A sintaxe para realizar fatiamento em um array Numpy é $i : j : k$ onde $i$ é o índice inicial, $j$ é o índice de parada, e $k$ é o indicador de passo ($k\\neq0$)\n",
        " \n",
        "<font color=red>**Observação:**</font> Nos fatiamentos (*slices*) o item com índice i é **incluído** e o item com índice j **não é incluído** no resultado."
      ]
    },
    {
      "cell_type": "markdown",
      "metadata": {
        "id": "HEx4TbNlltpa"
      },
      "source": [
        "![1410-img01.png](https://caelum-online-public.s3.amazonaws.com/1410-pythondatascience/01/1410-img01.png)"
      ]
    },
    {
      "cell_type": "code",
      "metadata": {
        "id": "tlaD1SENltpb",
        "colab": {
          "base_uri": "https://localhost:8080/"
        },
        "outputId": "5d40607b-9be7-493a-f8cb-c2ae4bdaf2fc"
      },
      "source": [
        "contador = np.arange(10)\n",
        "contador "
      ],
      "execution_count": 79,
      "outputs": [
        {
          "output_type": "execute_result",
          "data": {
            "text/plain": [
              "array([0, 1, 2, 3, 4, 5, 6, 7, 8, 9])"
            ]
          },
          "metadata": {
            "tags": []
          },
          "execution_count": 79
        }
      ]
    },
    {
      "cell_type": "code",
      "metadata": {
        "id": "vXLIO1cVltpc",
        "colab": {
          "base_uri": "https://localhost:8080/"
        },
        "outputId": "5e94da56-00b3-43a7-b7cc-69af19a698ea"
      },
      "source": [
        "#Para pegar até o valor \"3\" 1 2 3 \n",
        "contador[1:4]"
      ],
      "execution_count": 80,
      "outputs": [
        {
          "output_type": "execute_result",
          "data": {
            "text/plain": [
              "array([1, 2, 3])"
            ]
          },
          "metadata": {
            "tags": []
          },
          "execution_count": 80
        }
      ]
    },
    {
      "cell_type": "code",
      "metadata": {
        "id": "kYLgsQcHltpc",
        "colab": {
          "base_uri": "https://localhost:8080/"
        },
        "outputId": "fc8c12b4-68de-4020-a6d0-28ba01ff9595"
      },
      "source": [
        "contador[1:8:2]"
      ],
      "execution_count": 82,
      "outputs": [
        {
          "output_type": "execute_result",
          "data": {
            "text/plain": [
              "array([1, 3, 5, 7])"
            ]
          },
          "metadata": {
            "tags": []
          },
          "execution_count": 82
        }
      ]
    },
    {
      "cell_type": "code",
      "metadata": {
        "id": "H2MJpIasltpd",
        "colab": {
          "base_uri": "https://localhost:8080/"
        },
        "outputId": "7f5d6e5e-d482-4fe1-86f3-1bea743a0faa"
      },
      "source": [
        "contador[::2]"
      ],
      "execution_count": 83,
      "outputs": [
        {
          "output_type": "execute_result",
          "data": {
            "text/plain": [
              "array([0, 2, 4, 6, 8])"
            ]
          },
          "metadata": {
            "tags": []
          },
          "execution_count": 83
        }
      ]
    },
    {
      "cell_type": "code",
      "metadata": {
        "id": "YVzf4fNCltpe",
        "colab": {
          "base_uri": "https://localhost:8080/"
        },
        "outputId": "e5452b2f-a7a9-4ea6-e5db-67a2407b2cf9"
      },
      "source": [
        "contador[1::2]"
      ],
      "execution_count": 84,
      "outputs": [
        {
          "output_type": "execute_result",
          "data": {
            "text/plain": [
              "array([1, 3, 5, 7, 9])"
            ]
          },
          "metadata": {
            "tags": []
          },
          "execution_count": 84
        }
      ]
    },
    {
      "cell_type": "code",
      "metadata": {
        "id": "bPyQsUFPltpf",
        "colab": {
          "base_uri": "https://localhost:8080/"
        },
        "outputId": "467a2b5a-6eff-4814-8c60-2766a36adcba"
      },
      "source": [
        "dados"
      ],
      "execution_count": 86,
      "outputs": [
        {
          "output_type": "execute_result",
          "data": {
            "text/plain": [
              "array([[44410.,  5712., 37123.,     0., 25757.],\n",
              "       [ 2003.,  1991.,  1990.,  2019.,  2006.]])"
            ]
          },
          "metadata": {
            "tags": []
          },
          "execution_count": 86
        }
      ]
    },
    {
      "cell_type": "code",
      "metadata": {
        "id": "IRxfixG-ltpg",
        "colab": {
          "base_uri": "https://localhost:8080/"
        },
        "outputId": "e017c19a-60a5-4a8d-f41e-37823524cc0a"
      },
      "source": [
        "dados[:, 1:4]"
      ],
      "execution_count": 87,
      "outputs": [
        {
          "output_type": "execute_result",
          "data": {
            "text/plain": [
              "array([[ 5712., 37123.,     0.],\n",
              "       [ 1991.,  1990.,  2019.]])"
            ]
          },
          "metadata": {
            "tags": []
          },
          "execution_count": 87
        }
      ]
    },
    {
      "cell_type": "code",
      "metadata": {
        "id": "wfoJ84haltph",
        "colab": {
          "base_uri": "https://localhost:8080/"
        },
        "outputId": "442c1e2e-ffc0-4ba4-bbe0-8271409bb7a3"
      },
      "source": [
        "dados[:,1:3] [0] / (2019 - dados[:, 1:3][1])"
      ],
      "execution_count": 88,
      "outputs": [
        {
          "output_type": "execute_result",
          "data": {
            "text/plain": [
              "array([ 204.        , 1280.10344828])"
            ]
          },
          "metadata": {
            "tags": []
          },
          "execution_count": 88
        }
      ]
    },
    {
      "cell_type": "code",
      "metadata": {
        "id": "UeejSXUAltph",
        "colab": {
          "base_uri": "https://localhost:8080/"
        },
        "outputId": "11fed0cc-9c10-4db3-fba6-5bfa297163de"
      },
      "source": [
        "dados[0] / (2019- dados[1])"
      ],
      "execution_count": 89,
      "outputs": [
        {
          "output_type": "stream",
          "text": [
            "/usr/local/lib/python3.7/dist-packages/ipykernel_launcher.py:1: RuntimeWarning: invalid value encountered in true_divide\n",
            "  \"\"\"Entry point for launching an IPython kernel.\n"
          ],
          "name": "stderr"
        },
        {
          "output_type": "execute_result",
          "data": {
            "text/plain": [
              "array([2775.625     ,  204.        , 1280.10344828,           nan,\n",
              "       1981.30769231])"
            ]
          },
          "metadata": {
            "tags": []
          },
          "execution_count": 89
        }
      ]
    },
    {
      "cell_type": "markdown",
      "metadata": {
        "id": "-fW4EXIqltpi"
      },
      "source": [
        "### Indexação com array booleano\n",
        "\n",
        "<font color=red>**Observação:**</font> Seleciona um grupo de linhas e colunas segundo os rótulos ou um array booleano."
      ]
    },
    {
      "cell_type": "code",
      "metadata": {
        "id": "MgmH-rCSltpi",
        "colab": {
          "base_uri": "https://localhost:8080/"
        },
        "outputId": "6223cda0-8dbc-4889-bef0-fd3dc8aac098"
      },
      "source": [
        "contador = np.arange(10)\n",
        "contador "
      ],
      "execution_count": 90,
      "outputs": [
        {
          "output_type": "execute_result",
          "data": {
            "text/plain": [
              "array([0, 1, 2, 3, 4, 5, 6, 7, 8, 9])"
            ]
          },
          "metadata": {
            "tags": []
          },
          "execution_count": 90
        }
      ]
    },
    {
      "cell_type": "code",
      "metadata": {
        "id": "HN1i-BlLltpj",
        "colab": {
          "base_uri": "https://localhost:8080/"
        },
        "outputId": "a743ee52-3b54-4ee0-ccbf-404264d860ae"
      },
      "source": [
        "contador > 5"
      ],
      "execution_count": 91,
      "outputs": [
        {
          "output_type": "execute_result",
          "data": {
            "text/plain": [
              "array([False, False, False, False, False, False,  True,  True,  True,\n",
              "        True])"
            ]
          },
          "metadata": {
            "tags": []
          },
          "execution_count": 91
        }
      ]
    },
    {
      "cell_type": "code",
      "metadata": {
        "id": "iXJa9tL4ltpj",
        "colab": {
          "base_uri": "https://localhost:8080/"
        },
        "outputId": "809d76a9-4705-4dd1-ae3a-89a55e54e193"
      },
      "source": [
        "contador[contador > 5]"
      ],
      "execution_count": 92,
      "outputs": [
        {
          "output_type": "execute_result",
          "data": {
            "text/plain": [
              "array([6, 7, 8, 9])"
            ]
          },
          "metadata": {
            "tags": []
          },
          "execution_count": 92
        }
      ]
    },
    {
      "cell_type": "code",
      "metadata": {
        "id": "54gH6X5eltpk",
        "colab": {
          "base_uri": "https://localhost:8080/"
        },
        "outputId": "bbda4d3a-3a15-44be-fdcc-237005ef05df"
      },
      "source": [
        "contador[[False, False, False, False, False, False,  True,  True,  True,\n",
        "        True]]"
      ],
      "execution_count": 93,
      "outputs": [
        {
          "output_type": "execute_result",
          "data": {
            "text/plain": [
              "array([6, 7, 8, 9])"
            ]
          },
          "metadata": {
            "tags": []
          },
          "execution_count": 93
        }
      ]
    },
    {
      "cell_type": "code",
      "metadata": {
        "id": "F3z6zMELltpk",
        "colab": {
          "base_uri": "https://localhost:8080/"
        },
        "outputId": "8805488d-2ccb-4438-fbd6-834c5d92ed16"
      },
      "source": [
        "dados"
      ],
      "execution_count": 94,
      "outputs": [
        {
          "output_type": "execute_result",
          "data": {
            "text/plain": [
              "array([[44410.,  5712., 37123.,     0., 25757.],\n",
              "       [ 2003.,  1991.,  1990.,  2019.,  2006.]])"
            ]
          },
          "metadata": {
            "tags": []
          },
          "execution_count": 94
        }
      ]
    },
    {
      "cell_type": "code",
      "metadata": {
        "id": "pk8A68z1ltpl",
        "colab": {
          "base_uri": "https://localhost:8080/"
        },
        "outputId": "8a9bf00f-8ab5-4295-e407-6d0ab4bf1d11"
      },
      "source": [
        "dados[1] > 2000"
      ],
      "execution_count": 96,
      "outputs": [
        {
          "output_type": "execute_result",
          "data": {
            "text/plain": [
              "array([ True, False, False,  True,  True])"
            ]
          },
          "metadata": {
            "tags": []
          },
          "execution_count": 96
        }
      ]
    },
    {
      "cell_type": "code",
      "metadata": {
        "id": "WUVMN29_ltpm",
        "colab": {
          "base_uri": "https://localhost:8080/"
        },
        "outputId": "ea66db42-59ab-4733-d2d4-0f75da492544"
      },
      "source": [
        "dados[:, dados[1] > 2000]"
      ],
      "execution_count": 97,
      "outputs": [
        {
          "output_type": "execute_result",
          "data": {
            "text/plain": [
              "array([[44410.,     0., 25757.],\n",
              "       [ 2003.,  2019.,  2006.]])"
            ]
          },
          "metadata": {
            "tags": []
          },
          "execution_count": 97
        }
      ]
    },
    {
      "cell_type": "markdown",
      "metadata": {
        "id": "Acw1DffHltpn"
      },
      "source": [
        "# 5.4 Atributos e métodos de arrays Numpy"
      ]
    },
    {
      "cell_type": "markdown",
      "metadata": {
        "id": "RBnSne6Eltpo"
      },
      "source": [
        "### Atributos\n",
        "\n",
        "https://numpy.org/doc/1.16/reference/arrays.ndarray.html#array-attributes"
      ]
    },
    {
      "cell_type": "code",
      "metadata": {
        "id": "stjvD6m8ltpo",
        "colab": {
          "base_uri": "https://localhost:8080/"
        },
        "outputId": "3a53a115-fe2e-445f-b51c-27f27c73aec1"
      },
      "source": [
        "dados = np.array([[44410., 5712.,37123.,0.,25757.],\n",
        "                 [2003, 1991, 1990, 2019, 2006]])\n",
        "dados"
      ],
      "execution_count": 99,
      "outputs": [
        {
          "output_type": "execute_result",
          "data": {
            "text/plain": [
              "array([[44410.,  5712., 37123.,     0., 25757.],\n",
              "       [ 2003.,  1991.,  1990.,  2019.,  2006.]])"
            ]
          },
          "metadata": {
            "tags": []
          },
          "execution_count": 99
        }
      ]
    },
    {
      "cell_type": "markdown",
      "metadata": {
        "id": "uKqPxg2Zltpo"
      },
      "source": [
        "## *ndarray.shape*\n",
        "\n",
        "Retorna uma tupla com as dimensões do array."
      ]
    },
    {
      "cell_type": "code",
      "metadata": {
        "id": "gmaZhF04ltpp",
        "colab": {
          "base_uri": "https://localhost:8080/"
        },
        "outputId": "27dd2c30-7c2c-4d0d-e7b5-5035bc25c5b3"
      },
      "source": [
        "dados.shape"
      ],
      "execution_count": 100,
      "outputs": [
        {
          "output_type": "execute_result",
          "data": {
            "text/plain": [
              "(2, 5)"
            ]
          },
          "metadata": {
            "tags": []
          },
          "execution_count": 100
        }
      ]
    },
    {
      "cell_type": "markdown",
      "metadata": {
        "id": "XaY6oXkmltpp"
      },
      "source": [
        "## *ndarray.ndim*\n",
        "\n",
        "Retorna o número de dimensões do array."
      ]
    },
    {
      "cell_type": "code",
      "metadata": {
        "id": "inJ4HDjaltpq",
        "colab": {
          "base_uri": "https://localhost:8080/"
        },
        "outputId": "dc7d1a0b-e936-4743-fd8f-07e961af5f68"
      },
      "source": [
        "dados.ndim"
      ],
      "execution_count": 101,
      "outputs": [
        {
          "output_type": "execute_result",
          "data": {
            "text/plain": [
              "2"
            ]
          },
          "metadata": {
            "tags": []
          },
          "execution_count": 101
        }
      ]
    },
    {
      "cell_type": "markdown",
      "metadata": {
        "id": "ESgVt5xOltpq"
      },
      "source": [
        "## *ndarray.size*\n",
        "\n",
        "Retorna o número de elementos do array."
      ]
    },
    {
      "cell_type": "code",
      "metadata": {
        "id": "BWr4efoiltpq",
        "colab": {
          "base_uri": "https://localhost:8080/"
        },
        "outputId": "0cd5b6ee-8116-48d0-dcaa-a39e486e9b3d"
      },
      "source": [
        "dados.size"
      ],
      "execution_count": 102,
      "outputs": [
        {
          "output_type": "execute_result",
          "data": {
            "text/plain": [
              "10"
            ]
          },
          "metadata": {
            "tags": []
          },
          "execution_count": 102
        }
      ]
    },
    {
      "cell_type": "markdown",
      "metadata": {
        "id": "Ox8JlBM3ltpr"
      },
      "source": [
        "## *ndarray.dtype*\n",
        "\n",
        "Retorna o tipo de dados dos elementos do array."
      ]
    },
    {
      "cell_type": "code",
      "metadata": {
        "id": "npiL84Vfltpu",
        "colab": {
          "base_uri": "https://localhost:8080/"
        },
        "outputId": "4237fa9e-4335-4ca5-b0d2-811e1beb6a56"
      },
      "source": [
        "dados.dtype"
      ],
      "execution_count": 103,
      "outputs": [
        {
          "output_type": "execute_result",
          "data": {
            "text/plain": [
              "dtype('float64')"
            ]
          },
          "metadata": {
            "tags": []
          },
          "execution_count": 103
        }
      ]
    },
    {
      "cell_type": "markdown",
      "metadata": {
        "id": "j7uPN16oltpv"
      },
      "source": [
        "## *ndarray.T*\n",
        "\n",
        "Retorna o array transposto, isto é, converte linhas em colunas e vice versa."
      ]
    },
    {
      "cell_type": "code",
      "metadata": {
        "id": "bLjrrx56ltpv",
        "colab": {
          "base_uri": "https://localhost:8080/"
        },
        "outputId": "3fdb4036-b286-4ac6-9930-1da458cb22ad"
      },
      "source": [
        "dados.T"
      ],
      "execution_count": 104,
      "outputs": [
        {
          "output_type": "execute_result",
          "data": {
            "text/plain": [
              "array([[44410.,  2003.],\n",
              "       [ 5712.,  1991.],\n",
              "       [37123.,  1990.],\n",
              "       [    0.,  2019.],\n",
              "       [25757.,  2006.]])"
            ]
          },
          "metadata": {
            "tags": []
          },
          "execution_count": 104
        }
      ]
    },
    {
      "cell_type": "code",
      "metadata": {
        "id": "5A9SlJQvltpw",
        "colab": {
          "base_uri": "https://localhost:8080/"
        },
        "outputId": "fdfd7fa4-587e-49f2-f454-38cc3d0c9a71"
      },
      "source": [
        "dados.transpose()"
      ],
      "execution_count": 105,
      "outputs": [
        {
          "output_type": "execute_result",
          "data": {
            "text/plain": [
              "array([[44410.,  2003.],\n",
              "       [ 5712.,  1991.],\n",
              "       [37123.,  1990.],\n",
              "       [    0.,  2019.],\n",
              "       [25757.,  2006.]])"
            ]
          },
          "metadata": {
            "tags": []
          },
          "execution_count": 105
        }
      ]
    },
    {
      "cell_type": "markdown",
      "metadata": {
        "id": "e9r6ryTrltpw"
      },
      "source": [
        "### Métodos\n",
        "\n",
        "https://numpy.org/doc/1.16/reference/arrays.ndarray.html#array-methods"
      ]
    },
    {
      "cell_type": "markdown",
      "metadata": {
        "id": "SR9KYy-0ltpw"
      },
      "source": [
        "## *ndarray.tolist()*\n",
        "\n",
        "Retorna o array como uma lista Python."
      ]
    },
    {
      "cell_type": "code",
      "metadata": {
        "id": "C2aTAwOXltpw",
        "colab": {
          "base_uri": "https://localhost:8080/"
        },
        "outputId": "552deb80-235e-43b6-f6e0-d6d2f93ea3b7"
      },
      "source": [
        "dados.tolist()"
      ],
      "execution_count": 106,
      "outputs": [
        {
          "output_type": "execute_result",
          "data": {
            "text/plain": [
              "[[44410.0, 5712.0, 37123.0, 0.0, 25757.0],\n",
              " [2003.0, 1991.0, 1990.0, 2019.0, 2006.0]]"
            ]
          },
          "metadata": {
            "tags": []
          },
          "execution_count": 106
        }
      ]
    },
    {
      "cell_type": "markdown",
      "metadata": {
        "id": "bHxcxugPltpx"
      },
      "source": [
        "## *ndarray.reshape(shape[, order])*\n",
        "\n",
        "Retorna um array que contém os mesmos dados com uma nova forma."
      ]
    },
    {
      "cell_type": "code",
      "metadata": {
        "id": "lwESxO71ltpx",
        "colab": {
          "base_uri": "https://localhost:8080/"
        },
        "outputId": "3ae57230-bc0a-4d7a-dc5a-6a6010cc34c1"
      },
      "source": [
        "contador = np.arange(10)\n",
        "contador"
      ],
      "execution_count": 107,
      "outputs": [
        {
          "output_type": "execute_result",
          "data": {
            "text/plain": [
              "array([0, 1, 2, 3, 4, 5, 6, 7, 8, 9])"
            ]
          },
          "metadata": {
            "tags": []
          },
          "execution_count": 107
        }
      ]
    },
    {
      "cell_type": "code",
      "metadata": {
        "id": "sh9poyfzltpy",
        "colab": {
          "base_uri": "https://localhost:8080/"
        },
        "outputId": "48753d23-841f-4bee-b79f-1c3b725d9607"
      },
      "source": [
        "contador.reshape((5,2))"
      ],
      "execution_count": 108,
      "outputs": [
        {
          "output_type": "execute_result",
          "data": {
            "text/plain": [
              "array([[0, 1],\n",
              "       [2, 3],\n",
              "       [4, 5],\n",
              "       [6, 7],\n",
              "       [8, 9]])"
            ]
          },
          "metadata": {
            "tags": []
          },
          "execution_count": 108
        }
      ]
    },
    {
      "cell_type": "code",
      "metadata": {
        "id": "5332Xu8-ltpy",
        "colab": {
          "base_uri": "https://localhost:8080/"
        },
        "outputId": "17786497-e26f-40c0-f33f-1deb86c61fd3"
      },
      "source": [
        "#Refaz a lista com a indexação da linguagem C\n",
        "contador.reshape((5,2), order='C')"
      ],
      "execution_count": 109,
      "outputs": [
        {
          "output_type": "execute_result",
          "data": {
            "text/plain": [
              "array([[0, 1],\n",
              "       [2, 3],\n",
              "       [4, 5],\n",
              "       [6, 7],\n",
              "       [8, 9]])"
            ]
          },
          "metadata": {
            "tags": []
          },
          "execution_count": 109
        }
      ]
    },
    {
      "cell_type": "code",
      "metadata": {
        "id": "2RoZvbgHltpz",
        "colab": {
          "base_uri": "https://localhost:8080/"
        },
        "outputId": "1f8af178-a20e-4049-e153-04baac12a0c5"
      },
      "source": [
        "#Refaz a lista com a indexação da linguagem F\n",
        "contador.reshape((5,2),order='F')"
      ],
      "execution_count": 110,
      "outputs": [
        {
          "output_type": "execute_result",
          "data": {
            "text/plain": [
              "array([[0, 5],\n",
              "       [1, 6],\n",
              "       [2, 7],\n",
              "       [3, 8],\n",
              "       [4, 9]])"
            ]
          },
          "metadata": {
            "tags": []
          },
          "execution_count": 110
        }
      ]
    },
    {
      "cell_type": "code",
      "metadata": {
        "id": "6q0dJZ-dltp0"
      },
      "source": [
        "km = [44410, 5712, 37123, 0, 25757]\n",
        "anos = [2003, 1991, 1990, 2019, 2006]"
      ],
      "execution_count": 111,
      "outputs": []
    },
    {
      "cell_type": "code",
      "metadata": {
        "id": "bs56aGrkltp0",
        "colab": {
          "base_uri": "https://localhost:8080/"
        },
        "outputId": "a5c38498-39ad-49bc-fda6-45c15503976b"
      },
      "source": [
        "info_carros = km + anos\n",
        "info_carros"
      ],
      "execution_count": 112,
      "outputs": [
        {
          "output_type": "execute_result",
          "data": {
            "text/plain": [
              "[44410, 5712, 37123, 0, 25757, 2003, 1991, 1990, 2019, 2006]"
            ]
          },
          "metadata": {
            "tags": []
          },
          "execution_count": 112
        }
      ]
    },
    {
      "cell_type": "code",
      "metadata": {
        "id": "s_GkTk2fltp1",
        "colab": {
          "base_uri": "https://localhost:8080/"
        },
        "outputId": "5b91dab7-e7c7-4ef9-9b20-b7234b2ae7b6"
      },
      "source": [
        "np.array(info_carros).reshape(2,5)"
      ],
      "execution_count": 114,
      "outputs": [
        {
          "output_type": "execute_result",
          "data": {
            "text/plain": [
              "array([[44410,  5712, 37123,     0, 25757],\n",
              "       [ 2003,  1991,  1990,  2019,  2006]])"
            ]
          },
          "metadata": {
            "tags": []
          },
          "execution_count": 114
        }
      ]
    },
    {
      "cell_type": "code",
      "metadata": {
        "id": "xodm8DVZltp1",
        "colab": {
          "base_uri": "https://localhost:8080/"
        },
        "outputId": "f67e5df6-ec10-4cd7-f6e4-650cb48a280d"
      },
      "source": [
        "np.array(info_carros).reshape((5,2), order='F')"
      ],
      "execution_count": 118,
      "outputs": [
        {
          "output_type": "execute_result",
          "data": {
            "text/plain": [
              "array([[44410,  2003],\n",
              "       [ 5712,  1991],\n",
              "       [37123,  1990],\n",
              "       [    0,  2019],\n",
              "       [25757,  2006]])"
            ]
          },
          "metadata": {
            "tags": []
          },
          "execution_count": 118
        }
      ]
    },
    {
      "cell_type": "markdown",
      "metadata": {
        "id": "Tdj5iArbltp2"
      },
      "source": [
        "## *ndarray.resize(new_shape[, refcheck])*\n",
        "\n",
        "Altera a forma e o tamanho do array."
      ]
    },
    {
      "cell_type": "code",
      "metadata": {
        "id": "vB2zxCDtltp2",
        "colab": {
          "base_uri": "https://localhost:8080/"
        },
        "outputId": "86ac9de7-1bb0-4f46-9bdd-baef1c73d336"
      },
      "source": [
        "dados_new = dados.copy()\n",
        "dados_new"
      ],
      "execution_count": 119,
      "outputs": [
        {
          "output_type": "execute_result",
          "data": {
            "text/plain": [
              "array([[44410.,  5712., 37123.,     0., 25757.],\n",
              "       [ 2003.,  1991.,  1990.,  2019.,  2006.]])"
            ]
          },
          "metadata": {
            "tags": []
          },
          "execution_count": 119
        }
      ]
    },
    {
      "cell_type": "code",
      "metadata": {
        "id": "IMv0m4Multp2"
      },
      "source": [
        "#Sem o refcheck ele apresenta falha, pois \"dados_new\" referencia a \"dados\"\n",
        "dados_new.resize((3,5), refcheck=False)"
      ],
      "execution_count": 121,
      "outputs": []
    },
    {
      "cell_type": "code",
      "metadata": {
        "id": "wpAi9928ltp3",
        "colab": {
          "base_uri": "https://localhost:8080/"
        },
        "outputId": "25939c64-af8f-448f-ba4a-c6b1acb47d0d"
      },
      "source": [
        "dados_new"
      ],
      "execution_count": 122,
      "outputs": [
        {
          "output_type": "execute_result",
          "data": {
            "text/plain": [
              "array([[44410.,  5712., 37123.,     0., 25757.],\n",
              "       [ 2003.,  1991.,  1990.,  2019.,  2006.],\n",
              "       [    0.,     0.,     0.,     0.,     0.]])"
            ]
          },
          "metadata": {
            "tags": []
          },
          "execution_count": 122
        }
      ]
    },
    {
      "cell_type": "code",
      "metadata": {
        "id": "CJyuKqaFltp3",
        "colab": {
          "base_uri": "https://localhost:8080/"
        },
        "outputId": "153572ab-1658-48c9-e4a5-ae074c1f6ba8"
      },
      "source": [
        "dados_new[2] = dados_new[0] / (2019 - dados_new[1])"
      ],
      "execution_count": 123,
      "outputs": [
        {
          "output_type": "stream",
          "text": [
            "/usr/local/lib/python3.7/dist-packages/ipykernel_launcher.py:1: RuntimeWarning: invalid value encountered in true_divide\n",
            "  \"\"\"Entry point for launching an IPython kernel.\n"
          ],
          "name": "stderr"
        }
      ]
    },
    {
      "cell_type": "code",
      "metadata": {
        "id": "bj_iPZAultp4",
        "colab": {
          "base_uri": "https://localhost:8080/"
        },
        "outputId": "764dadaf-23bd-4682-d29b-89a26c2a43f4"
      },
      "source": [
        "dados_new"
      ],
      "execution_count": 124,
      "outputs": [
        {
          "output_type": "execute_result",
          "data": {
            "text/plain": [
              "array([[44410.        ,  5712.        , 37123.        ,     0.        ,\n",
              "        25757.        ],\n",
              "       [ 2003.        ,  1991.        ,  1990.        ,  2019.        ,\n",
              "         2006.        ],\n",
              "       [ 2775.625     ,   204.        ,  1280.10344828,            nan,\n",
              "         1981.30769231]])"
            ]
          },
          "metadata": {
            "tags": []
          },
          "execution_count": 124
        }
      ]
    },
    {
      "cell_type": "markdown",
      "metadata": {
        "id": "GPSk7Q_Dltp4"
      },
      "source": [
        "# 5.5 Estatísticas com arrays Numpy\n",
        "\n",
        "https://numpy.org/doc/1.16/reference/arrays.ndarray.html#calculation\n",
        "\n",
        "e\n",
        "\n",
        "https://numpy.org/doc/1.16/reference/routines.statistics.html\n",
        "\n",
        "e\n",
        "\n",
        "https://numpy.org/doc/1.16/reference/routines.math.html"
      ]
    },
    {
      "cell_type": "code",
      "metadata": {
        "id": "RH2u1orXltp5"
      },
      "source": [
        "anos = np.loadtxt(fname = \"carros-anos.txt\", dtype = int)\n",
        "km = np.loadtxt(fname = \"carros-km.txt\")\n",
        "valor = np.loadtxt(fname = \"carros-valor.txt\")"
      ],
      "execution_count": 125,
      "outputs": []
    },
    {
      "cell_type": "code",
      "metadata": {
        "id": "wbITF7r6ltp5",
        "colab": {
          "base_uri": "https://localhost:8080/"
        },
        "outputId": "80ce56a2-bdfe-40ee-9e72-9b1a3a021de7"
      },
      "source": [
        "anos.shape"
      ],
      "execution_count": 126,
      "outputs": [
        {
          "output_type": "execute_result",
          "data": {
            "text/plain": [
              "(258,)"
            ]
          },
          "metadata": {
            "tags": []
          },
          "execution_count": 126
        }
      ]
    },
    {
      "cell_type": "markdown",
      "metadata": {
        "id": "U_x3SOVDltp7"
      },
      "source": [
        "https://numpy.org/doc/1.16/reference/generated/numpy.column_stack.html"
      ]
    },
    {
      "cell_type": "code",
      "metadata": {
        "id": "wefxl-XBltp8",
        "colab": {
          "base_uri": "https://localhost:8080/"
        },
        "outputId": "b504c466-04db-4444-d937-3dbbe74ff5d2"
      },
      "source": [
        " #Colum_stack junta os dados, mas retorna tudo em Float, pois é o padrão do Numpy\n",
        " dataset = np.column_stack((anos, km, valor))\n",
        " dataset"
      ],
      "execution_count": 128,
      "outputs": [
        {
          "output_type": "execute_result",
          "data": {
            "text/plain": [
              "array([[2.0030000e+03, 4.4410000e+04, 8.8078640e+04],\n",
              "       [1.9910000e+03, 5.7120000e+03, 1.0616194e+05],\n",
              "       [1.9900000e+03, 3.7123000e+04, 7.2832160e+04],\n",
              "       [2.0190000e+03, 0.0000000e+00, 1.2454907e+05],\n",
              "       [2.0060000e+03, 2.5757000e+04, 9.2612100e+04],\n",
              "       [2.0120000e+03, 1.0728000e+04, 9.7497730e+04],\n",
              "       [2.0190000e+03, 0.0000000e+00, 5.6445200e+04],\n",
              "       [2.0090000e+03, 7.7599000e+04, 1.1231044e+05],\n",
              "       [2.0100000e+03, 9.9197000e+04, 1.2071627e+05],\n",
              "       [2.0110000e+03, 3.7978000e+04, 7.6566490e+04],\n",
              "       [2.0020000e+03, 1.2859000e+04, 7.1647590e+04],\n",
              "       [2.0070000e+03, 8.0520000e+03, 7.3919530e+04],\n",
              "       [2.0010000e+03, 8.9773000e+04, 1.1273299e+05],\n",
              "       [2.0190000e+03, 0.0000000e+00, 5.3183380e+04],\n",
              "       [2.0090000e+03, 4.1457000e+04, 1.2748842e+05],\n",
              "       [2.0160000e+03, 1.1560700e+05, 5.9910400e+04],\n",
              "       [2.0120000e+03, 4.6449000e+04, 6.1118590e+04],\n",
              "       [2.0190000e+03, 0.0000000e+00, 8.8552390e+04],\n",
              "       [2.0160000e+03, 3.7086000e+04, 6.2696690e+04],\n",
              "       [2.0170000e+03, 1.5173000e+04, 1.0172630e+05],\n",
              "       [2.0020000e+03, 1.0119300e+05, 1.0614738e+05],\n",
              "       [2.0190000e+03, 0.0000000e+00, 9.4564400e+04],\n",
              "       [1.9940000e+03, 9.8079000e+04, 1.3352984e+05],\n",
              "       [1.9910000e+03, 1.0295900e+05, 1.2568465e+05],\n",
              "       [2.0190000e+03, 0.0000000e+00, 1.2159621e+05],\n",
              "       [2.0190000e+03, 0.0000000e+00, 7.1367100e+04],\n",
              "       [2.0160000e+03, 5.7950000e+03, 9.5347750e+04],\n",
              "       [2.0190000e+03, 0.0000000e+00, 1.0543284e+05],\n",
              "       [2.0020000e+03, 5.8848000e+04, 5.7045270e+04],\n",
              "       [1.9910000e+03, 9.4381000e+04, 1.2043270e+05],\n",
              "       [1.9970000e+03, 3.0163000e+04, 7.0707200e+04],\n",
              "       [1.9950000e+03, 5.3332000e+04, 6.9105180e+04],\n",
              "       [2.0180000e+03, 1.7720000e+04, 5.9358690e+04],\n",
              "       [1.9910000e+03, 3.3808000e+04, 6.5955400e+04],\n",
              "       [2.0140000e+03, 9.0684000e+04, 6.0017030e+04],\n",
              "       [1.9950000e+03, 4.3975000e+04, 1.1890952e+05],\n",
              "       [2.0190000e+03, 0.0000000e+00, 5.1606590e+04],\n",
              "       [2.0190000e+03, 0.0000000e+00, 1.2328187e+05],\n",
              "       [2.0090000e+03, 5.5260000e+03, 6.9770180e+04],\n",
              "       [2.0190000e+03, 0.0000000e+00, 1.0260954e+05],\n",
              "       [2.0130000e+03, 9.3415000e+04, 6.7997190e+04],\n",
              "       [2.0030000e+03, 4.0762000e+04, 1.3523529e+05],\n",
              "       [2.0190000e+03, 0.0000000e+00, 8.6641340e+04],\n",
              "       [2.0020000e+03, 8.6302000e+04, 1.3681839e+05],\n",
              "       [2.0190000e+03, 0.0000000e+00, 1.1762673e+05],\n",
              "       [2.0020000e+03, 9.7550000e+03, 5.6208700e+04],\n",
              "       [2.0040000e+03, 6.9945000e+04, 8.4222650e+04],\n",
              "       [2.0010000e+03, 2.3950000e+03, 9.0781650e+04],\n",
              "       [2.0190000e+03, 0.0000000e+00, 6.4701100e+04],\n",
              "       [2.0030000e+03, 8.0349000e+04, 1.2635049e+05],\n",
              "       [2.0090000e+03, 8.5554000e+04, 1.4815289e+05],\n",
              "       [2.0060000e+03, 5.0496000e+04, 1.3229883e+05],\n",
              "       [2.0000000e+03, 6.7716000e+04, 1.3762763e+05],\n",
              "       [2.0060000e+03, 9.3947000e+04, 8.0422710e+04],\n",
              "       [2.0100000e+03, 3.5345000e+04, 5.6373990e+04],\n",
              "       [1.9940000e+03, 8.1007000e+04, 7.0846030e+04],\n",
              "       [2.0070000e+03, 1.1951300e+05, 1.2869423e+05],\n",
              "       [2.0190000e+03, 0.0000000e+00, 1.3332919e+05],\n",
              "       [2.0190000e+03, 0.0000000e+00, 1.3196143e+05],\n",
              "       [2.0190000e+03, 0.0000000e+00, 1.1203327e+05],\n",
              "       [2.0190000e+03, 0.0000000e+00, 8.1399350e+04],\n",
              "       [2.0190000e+03, 0.0000000e+00, 9.7163100e+04],\n",
              "       [2.0170000e+03, 1.1889500e+05, 6.6007160e+04],\n",
              "       [2.0110000e+03, 4.8509000e+04, 1.2877622e+05],\n",
              "       [2.0010000e+03, 1.0091200e+05, 1.4262302e+05],\n",
              "       [1.9960000e+03, 9.5649000e+04, 1.3693013e+05],\n",
              "       [2.0190000e+03, 0.0000000e+00, 6.6526610e+04],\n",
              "       [1.9940000e+03, 9.0495000e+04, 1.1415487e+05],\n",
              "       [2.0190000e+03, 0.0000000e+00, 1.4239275e+05],\n",
              "       [2.0070000e+03, 2.9132000e+04, 1.4671691e+05],\n",
              "       [1.9940000e+03, 2.3802000e+04, 1.2248568e+05],\n",
              "       [2.0070000e+03, 8.4992000e+04, 9.7951030e+04],\n",
              "       [1.9970000e+03, 5.4395000e+04, 7.8283490e+04],\n",
              "       [2.0060000e+03, 2.6731000e+04, 8.3434040e+04],\n",
              "       [2.0130000e+03, 4.4329000e+04, 7.7836230e+04],\n",
              "       [1.9940000e+03, 1.1823600e+05, 6.0813920e+04],\n",
              "       [2.0080000e+03, 1.1380800e+05, 9.1353860e+04],\n",
              "       [2.0080000e+03, 6.1000000e+02, 1.1628121e+05],\n",
              "       [2.0190000e+03, 0.0000000e+00, 1.4519770e+05],\n",
              "       [2.0190000e+03, 0.0000000e+00, 5.0742100e+04],\n",
              "       [1.9990000e+03, 1.2887000e+04, 7.3033530e+04],\n",
              "       [2.0070000e+03, 7.9607000e+04, 5.4332870e+04],\n",
              "       [1.9930000e+03, 9.0924000e+04, 5.2207450e+04],\n",
              "       [1.9950000e+03, 4.2733000e+04, 6.3578500e+04],\n",
              "       [2.0190000e+03, 0.0000000e+00, 6.4507720e+04],\n",
              "       [2.0190000e+03, 0.0000000e+00, 1.1507559e+05],\n",
              "       [2.0160000e+03, 1.1771400e+05, 1.3303060e+05],\n",
              "       [2.0110000e+03, 1.1388500e+05, 1.4159186e+05],\n",
              "       [2.0190000e+03, 0.0000000e+00, 1.0038028e+05],\n",
              "       [2.0020000e+03, 3.0511000e+04, 9.6369040e+04],\n",
              "       [2.0130000e+03, 7.4867000e+04, 1.4260384e+05],\n",
              "       [2.0170000e+03, 1.1976000e+05, 1.1770967e+05],\n",
              "       [2.0160000e+03, 8.3560000e+03, 1.0224154e+05],\n",
              "       [2.0080000e+03, 6.4247000e+04, 9.6065380e+04],\n",
              "       [2.0180000e+03, 8.8661000e+04, 5.3894610e+04],\n",
              "       [2.0030000e+03, 4.5390000e+03, 1.2391178e+05],\n",
              "       [2.0030000e+03, 1.1011600e+05, 1.0199635e+05],\n",
              "       [2.0040000e+03, 3.3215000e+04, 8.3431660e+04],\n",
              "       [2.0100000e+03, 9.2001000e+04, 1.2297563e+05],\n",
              "       [2.0190000e+03, 0.0000000e+00, 9.3227730e+04],\n",
              "       [2.0060000e+03, 8.1708000e+04, 5.8762650e+04],\n",
              "       [2.0010000e+03, 7.0641000e+04, 1.3954967e+05],\n",
              "       [2.0190000e+03, 0.0000000e+00, 1.2201642e+05],\n",
              "       [2.0150000e+03, 9.1277000e+04, 7.2731980e+04],\n",
              "       [2.0180000e+03, 2.6544000e+04, 8.8416540e+04],\n",
              "       [2.0170000e+03, 5.2596000e+04, 7.3873420e+04],\n",
              "       [1.9920000e+03, 4.7503000e+04, 7.0709340e+04],\n",
              "       [2.0010000e+03, 8.9056000e+04, 1.1530650e+05],\n",
              "       [1.9930000e+03, 2.8834000e+04, 5.5924630e+04],\n",
              "       [1.9950000e+03, 1.1056400e+05, 8.5052260e+04],\n",
              "       [2.0030000e+03, 5.6638000e+04, 5.6646340e+04],\n",
              "       [2.0140000e+03, 1.7357000e+04, 1.3894688e+05],\n",
              "       [2.0080000e+03, 7.4015000e+04, 1.0825672e+05],\n",
              "       [2.0130000e+03, 1.5196000e+04, 5.8979300e+04],\n",
              "       [2.0190000e+03, 0.0000000e+00, 1.1472768e+05],\n",
              "       [2.0170000e+03, 1.0821000e+04, 1.3966148e+05],\n",
              "       [2.0190000e+03, 0.0000000e+00, 8.0382240e+04],\n",
              "       [2.0190000e+03, 0.0000000e+00, 1.4915717e+05],\n",
              "       [2.0060000e+03, 9.5950000e+03, 8.7830410e+04],\n",
              "       [2.0150000e+03, 9.9052000e+04, 1.4356822e+05],\n",
              "       [2.0070000e+03, 5.2389000e+04, 1.3817185e+05],\n",
              "       [2.0050000e+03, 1.1994500e+05, 1.1578495e+05],\n",
              "       [2.0170000e+03, 9.6005000e+04, 1.4650899e+05],\n",
              "       [1.9980000e+03, 3.1639000e+04, 1.3767023e+05],\n",
              "       [2.0190000e+03, 0.0000000e+00, 1.3859727e+05],\n",
              "       [1.9990000e+03, 8.0187000e+04, 1.4762781e+05],\n",
              "       [2.0190000e+03, 0.0000000e+00, 6.2999020e+04],\n",
              "       [2.0090000e+03, 5.8212000e+04, 9.1242440e+04],\n",
              "       [2.0030000e+03, 6.1672000e+04, 1.4948992e+05],\n",
              "       [1.9940000e+03, 3.2017000e+04, 6.3529950e+04],\n",
              "       [2.0190000e+03, 0.0000000e+00, 5.8525410e+04],\n",
              "       [1.9940000e+03, 5.6944000e+04, 9.0345050e+04],\n",
              "       [2.0190000e+03, 0.0000000e+00, 1.4777087e+05],\n",
              "       [2.0150000e+03, 8.6519000e+04, 1.0661771e+05],\n",
              "       [1.9960000e+03, 4.8210000e+03, 1.0492988e+05],\n",
              "       [1.9970000e+03, 1.0102500e+05, 1.0071245e+05],\n",
              "       [1.9930000e+03, 3.0705000e+04, 1.4198293e+05],\n",
              "       [2.0190000e+03, 0.0000000e+00, 1.0403879e+05],\n",
              "       [1.9920000e+03, 3.2555000e+04, 8.8501540e+04],\n",
              "       [1.9950000e+03, 1.0338900e+05, 7.9782020e+04],\n",
              "       [2.0190000e+03, 0.0000000e+00, 8.6224100e+04],\n",
              "       [1.9900000e+03, 5.5289000e+04, 1.0359618e+05],\n",
              "       [2.0190000e+03, 0.0000000e+00, 1.4899647e+05],\n",
              "       [2.0190000e+03, 0.0000000e+00, 6.0948010e+04],\n",
              "       [1.9910000e+03, 1.1593000e+05, 6.9535440e+04],\n",
              "       [1.9900000e+03, 6.6437000e+04, 1.1113033e+05],\n",
              "       [2.0120000e+03, 9.6800000e+04, 6.5847690e+04],\n",
              "       [2.0070000e+03, 1.4237000e+04, 7.8096060e+04],\n",
              "       [2.0130000e+03, 1.9896000e+04, 6.9219890e+04],\n",
              "       [2.0000000e+03, 1.1304500e+05, 1.4411891e+05],\n",
              "       [2.0020000e+03, 1.1494200e+05, 7.7397050e+04],\n",
              "       [1.9960000e+03, 3.1730000e+03, 6.8974250e+04],\n",
              "       [1.9960000e+03, 8.3611000e+04, 1.2523130e+05],\n",
              "       [2.0150000e+03, 2.5356000e+04, 8.5501120e+04],\n",
              "       [1.9930000e+03, 8.8634000e+04, 1.3711621e+05],\n",
              "       [2.0130000e+03, 2.3140000e+03, 1.3882381e+05],\n",
              "       [2.0130000e+03, 2.6270000e+03, 1.1796195e+05],\n",
              "       [2.0090000e+03, 5.2034000e+04, 1.3266232e+05],\n",
              "       [2.0190000e+03, 0.0000000e+00, 1.4640579e+05],\n",
              "       [2.0190000e+03, 0.0000000e+00, 8.1999210e+04],\n",
              "       [2.0020000e+03, 7.9577000e+04, 1.4093460e+05],\n",
              "       [1.9970000e+03, 1.0820100e+05, 8.2366810e+04],\n",
              "       [1.9980000e+03, 7.6453000e+04, 7.0424110e+04],\n",
              "       [2.0040000e+03, 5.7683000e+04, 5.3620310e+04],\n",
              "       [1.9960000e+03, 9.6610000e+04, 7.3389180e+04],\n",
              "       [2.0150000e+03, 1.0900100e+05, 1.1161812e+05],\n",
              "       [2.0160000e+03, 2.6212000e+04, 1.1218737e+05],\n",
              "       [2.0050000e+03, 4.5971000e+04, 1.2081257e+05],\n",
              "       [1.9990000e+03, 4.9182000e+04, 1.1603104e+05],\n",
              "       [1.9950000e+03, 4.9907000e+04, 1.2539811e+05],\n",
              "       [1.9930000e+03, 3.8620000e+04, 7.6101470e+04],\n",
              "       [2.0040000e+03, 6.0996000e+04, 7.5263240e+04],\n",
              "       [2.0130000e+03, 7.3914000e+04, 1.4738776e+05],\n",
              "       [1.9980000e+03, 1.0739200e+05, 8.5311400e+04],\n",
              "       [2.0180000e+03, 9.1460000e+03, 5.4388110e+04],\n",
              "       [2.0190000e+03, 0.0000000e+00, 1.2415665e+05],\n",
              "       [2.0180000e+03, 1.7924000e+04, 1.4620334e+05],\n",
              "       [2.0190000e+03, 0.0000000e+00, 5.6453940e+04],\n",
              "       [1.9900000e+03, 1.1694900e+05, 6.8873790e+04],\n",
              "       [2.0090000e+03, 2.0476000e+04, 9.1667610e+04],\n",
              "       [1.9900000e+03, 5.2804000e+04, 9.3776520e+04],\n",
              "       [2.0060000e+03, 8.8490000e+03, 6.6433820e+04],\n",
              "       [2.0020000e+03, 9.1724000e+04, 1.0905927e+05],\n",
              "       [1.9910000e+03, 3.2056000e+04, 1.2206997e+05],\n",
              "       [1.9920000e+03, 7.4886000e+04, 1.1309032e+05],\n",
              "       [2.0190000e+03, 0.0000000e+00, 8.9401100e+04],\n",
              "       [2.0190000e+03, 0.0000000e+00, 5.6842790e+04],\n",
              "       [2.0050000e+03, 5.2189000e+04, 1.4667671e+05],\n",
              "       [2.0100000e+03, 8.3559000e+04, 8.9511960e+04],\n",
              "       [2.0190000e+03, 0.0000000e+00, 9.7290180e+04],\n",
              "       [2.0160000e+03, 2.0328000e+04, 1.2067356e+05],\n",
              "       [2.0190000e+03, 0.0000000e+00, 1.1443494e+05],\n",
              "       [2.0100000e+03, 7.5577000e+04, 1.3954669e+05],\n",
              "       [1.9940000e+03, 3.3659000e+04, 9.5078160e+04],\n",
              "       [2.0010000e+03, 1.0434100e+05, 6.8091770e+04],\n",
              "       [2.0140000e+03, 2.5510000e+04, 6.1496970e+04],\n",
              "       [1.9960000e+03, 1.8965000e+04, 1.3966930e+05],\n",
              "       [1.9930000e+03, 8.7161000e+04, 8.0661390e+04],\n",
              "       [1.9930000e+03, 6.6520000e+03, 6.1783650e+04],\n",
              "       [2.0010000e+03, 5.5738000e+04, 5.2805910e+04],\n",
              "       [2.0190000e+03, 0.0000000e+00, 1.2702475e+05],\n",
              "       [2.0190000e+03, 0.0000000e+00, 1.3554300e+05],\n",
              "       [2.0190000e+03, 0.0000000e+00, 1.2170873e+05],\n",
              "       [2.0070000e+03, 6.4320000e+04, 1.0734268e+05],\n",
              "       [2.0190000e+03, 0.0000000e+00, 5.7888100e+04],\n",
              "       [2.0160000e+03, 6.8678000e+04, 1.1816148e+05],\n",
              "       [2.0140000e+03, 7.1697000e+04, 1.4249906e+05],\n",
              "       [2.0190000e+03, 0.0000000e+00, 1.2839611e+05],\n",
              "       [2.0150000e+03, 3.4783000e+04, 1.1235061e+05],\n",
              "       [2.0150000e+03, 3.3772000e+04, 1.2466138e+05],\n",
              "       [1.9960000e+03, 8.5127000e+04, 5.4263160e+04],\n",
              "       [2.0020000e+03, 1.3606000e+04, 6.2041320e+04],\n",
              "       [2.0050000e+03, 3.5647000e+04, 1.2929611e+05],\n",
              "       [1.9950000e+03, 9.5128000e+04, 6.0998330e+04],\n",
              "       [1.9990000e+03, 1.4046000e+04, 5.8008500e+04],\n",
              "       [2.0050000e+03, 4.1194000e+04, 8.2304190e+04],\n",
              "       [2.0190000e+03, 0.0000000e+00, 1.1453174e+05],\n",
              "       [1.9970000e+03, 9.6100000e+04, 1.2856561e+05],\n",
              "       [1.9900000e+03, 1.0390000e+05, 1.2648826e+05],\n",
              "       [2.0010000e+03, 4.3814000e+04, 1.1907455e+05],\n",
              "       [2.0130000e+03, 2.4638000e+04, 1.3023804e+05],\n",
              "       [2.0190000e+03, 0.0000000e+00, 1.1576017e+05],\n",
              "       [2.0170000e+03, 1.1096600e+05, 1.2124800e+05],\n",
              "       [2.0110000e+03, 1.5987000e+04, 9.8156350e+04],\n",
              "       [2.0050000e+03, 5.3369000e+04, 1.1214680e+05],\n",
              "       [2.0070000e+03, 1.0077000e+04, 1.0272963e+05],\n",
              "       [1.9930000e+03, 7.1544000e+04, 1.4108335e+05],\n",
              "       [1.9910000e+03, 1.0700000e+02, 1.0296876e+05],\n",
              "       [1.9910000e+03, 8.3940000e+03, 7.6310010e+04],\n",
              "       [1.9970000e+03, 4.1498000e+04, 1.2048174e+05],\n",
              "       [2.0000000e+03, 1.1600200e+05, 5.4559180e+04],\n",
              "       [2.0070000e+03, 1.0085800e+05, 9.2957640e+04],\n",
              "       [2.0060000e+03, 6.7475000e+04, 1.2781006e+05],\n",
              "       [2.0150000e+03, 8.4970000e+03, 7.3311750e+04],\n",
              "       [2.0080000e+03, 4.4200000e+03, 6.5138030e+04],\n",
              "       [2.0190000e+03, 0.0000000e+00, 9.0141470e+04],\n",
              "       [1.9960000e+03, 5.8537000e+04, 7.1160360e+04],\n",
              "       [2.0190000e+03, 0.0000000e+00, 6.7539790e+04],\n",
              "       [2.0190000e+03, 0.0000000e+00, 6.7664860e+04],\n",
              "       [2.0140000e+03, 1.1201600e+05, 6.8652160e+04],\n",
              "       [2.0040000e+03, 9.1840000e+04, 1.1472874e+05],\n",
              "       [2.0080000e+03, 1.1278700e+05, 1.4164508e+05],\n",
              "       [2.0190000e+03, 0.0000000e+00, 1.2624784e+05],\n",
              "       [2.0190000e+03, 0.0000000e+00, 1.2885221e+05],\n",
              "       [2.0120000e+03, 9.2930000e+03, 1.3238476e+05],\n",
              "       [2.0190000e+03, 0.0000000e+00, 1.2941533e+05],\n",
              "       [1.9960000e+03, 5.5083000e+04, 8.9536820e+04],\n",
              "       [2.0110000e+03, 4.8796000e+04, 8.7975300e+04],\n",
              "       [2.0190000e+03, 0.0000000e+00, 7.7675790e+04],\n",
              "       [2.0100000e+03, 8.9685000e+04, 5.8881670e+04],\n",
              "       [2.0070000e+03, 8.5384000e+04, 5.5081990e+04],\n",
              "       [1.9940000e+03, 9.8108000e+04, 1.1882644e+05],\n",
              "       [2.0070000e+03, 7.1280000e+04, 1.3762762e+05],\n",
              "       [2.0140000e+03, 2.7505000e+04, 5.1759580e+04],\n",
              "       [1.9910000e+03, 2.9981000e+04, 5.1667060e+04],\n",
              "       [2.0020000e+03, 5.2637000e+04, 6.8934030e+04],\n",
              "       [1.9960000e+03, 7.6850000e+03, 1.2211090e+05],\n",
              "       [1.9920000e+03, 5.0188000e+04, 9.0381470e+04]])"
            ]
          },
          "metadata": {
            "tags": []
          },
          "execution_count": 128
        }
      ]
    },
    {
      "cell_type": "code",
      "metadata": {
        "id": "OzDTTmj8ltp_",
        "scrolled": true,
        "colab": {
          "base_uri": "https://localhost:8080/"
        },
        "outputId": "5922bfe8-8c24-4ffd-c4b4-9a48c85e8db5"
      },
      "source": [
        "dataset.shape"
      ],
      "execution_count": 130,
      "outputs": [
        {
          "output_type": "execute_result",
          "data": {
            "text/plain": [
              "(258, 3)"
            ]
          },
          "metadata": {
            "tags": []
          },
          "execution_count": 130
        }
      ]
    },
    {
      "cell_type": "markdown",
      "metadata": {
        "id": "Me6yUU_RltqA"
      },
      "source": [
        "## *np.mean()*\n",
        "\n",
        "Retorna a média dos elementos do array ao longo do eixo especificado."
      ]
    },
    {
      "cell_type": "code",
      "metadata": {
        "id": "MNEKcP38ltqA",
        "colab": {
          "base_uri": "https://localhost:8080/"
        },
        "outputId": "57055798-4794-417c-ebad-e668ed91a3bb"
      },
      "source": [
        "#Soma tudo e faz a média dos valores, porém ele soma todos os dados sem critério de coluna ou linha\n",
        "#Trazendo um dado inútil\n",
        "np.mean(dataset)"
      ],
      "execution_count": 131,
      "outputs": [
        {
          "output_type": "execute_result",
          "data": {
            "text/plain": [
              "48489.14648578811"
            ]
          },
          "metadata": {
            "tags": []
          },
          "execution_count": 131
        }
      ]
    },
    {
      "cell_type": "code",
      "metadata": {
        "colab": {
          "base_uri": "https://localhost:8080/"
        },
        "id": "7bI8M-irijaa",
        "outputId": "1dcc2309-583a-45c0-c8b9-7a9c53d977f4"
      },
      "source": [
        "#Restringindo o mean pelo axis, que fara o calculo das colunas...\n",
        "np.mean(dataset, axis = 0)"
      ],
      "execution_count": 134,
      "outputs": [
        {
          "output_type": "execute_result",
          "data": {
            "text/plain": [
              "array([ 2007.51162791, 44499.41472868, 98960.51310078])"
            ]
          },
          "metadata": {
            "tags": []
          },
          "execution_count": 134
        }
      ]
    },
    {
      "cell_type": "code",
      "metadata": {
        "id": "sekHQ84zltqB"
      },
      "source": [
        "#Se os dados estiverem em linhas\n",
        "# np.mean(dataset, axis = 1)"
      ],
      "execution_count": 135,
      "outputs": []
    },
    {
      "cell_type": "code",
      "metadata": {
        "id": "RpyETIVSltqC",
        "colab": {
          "base_uri": "https://localhost:8080/"
        },
        "outputId": "bf4adc2d-ea42-4049-ee40-3e9dae0fff57"
      },
      "source": [
        "#Restringindo o dataset para fazer o calculo apenas das colunas 1 2.\n",
        "np.mean(dataset[:, 1])"
      ],
      "execution_count": 137,
      "outputs": [
        {
          "output_type": "execute_result",
          "data": {
            "text/plain": [
              "44499.41472868217"
            ]
          },
          "metadata": {
            "tags": []
          },
          "execution_count": 137
        }
      ]
    },
    {
      "cell_type": "code",
      "metadata": {
        "id": "_-kpcTI8ltqD",
        "scrolled": true,
        "colab": {
          "base_uri": "https://localhost:8080/"
        },
        "outputId": "037048d6-a0d8-49d9-c485-7ad3f66eeddf"
      },
      "source": [
        "np.mean(dataset[:,2])"
      ],
      "execution_count": 136,
      "outputs": [
        {
          "output_type": "execute_result",
          "data": {
            "text/plain": [
              "98960.51310077519"
            ]
          },
          "metadata": {
            "tags": []
          },
          "execution_count": 136
        }
      ]
    },
    {
      "cell_type": "markdown",
      "metadata": {
        "id": "71jViVBUltqE"
      },
      "source": [
        "## *np.std()*\n",
        "\n",
        "Retorna o desvio padrão dos elementos do array ao longo do eixo especificado."
      ]
    },
    {
      "cell_type": "code",
      "metadata": {
        "id": "lEwUbPx2ltqE",
        "scrolled": true,
        "colab": {
          "base_uri": "https://localhost:8080/"
        },
        "outputId": "0f70d3f6-9e84-4935-fe3e-98b3603b95f6"
      },
      "source": [
        "#Desvio padrão dos valores do veiculo\n",
        "np.std(dataset[:,2])"
      ],
      "execution_count": 138,
      "outputs": [
        {
          "output_type": "execute_result",
          "data": {
            "text/plain": [
              "29754.101150388564"
            ]
          },
          "metadata": {
            "tags": []
          },
          "execution_count": 138
        }
      ]
    },
    {
      "cell_type": "markdown",
      "metadata": {
        "id": "JTUH-vAeltqG"
      },
      "source": [
        "## *ndarray.sum()*\n",
        "\n",
        "Retorna a soma dos elementos do array ao longo do eixo especificado."
      ]
    },
    {
      "cell_type": "code",
      "metadata": {
        "id": "jIi3yoaWltqG",
        "colab": {
          "base_uri": "https://localhost:8080/"
        },
        "outputId": "095f8516-98ad-40bb-93f7-f65573848f04"
      },
      "source": [
        "dataset.sum(axis = 0)"
      ],
      "execution_count": 139,
      "outputs": [
        {
          "output_type": "execute_result",
          "data": {
            "text/plain": [
              "array([  517938.        , 11480849.        , 25531812.37999999])"
            ]
          },
          "metadata": {
            "tags": []
          },
          "execution_count": 139
        }
      ]
    },
    {
      "cell_type": "code",
      "metadata": {
        "id": "X3QYbdYLltqH",
        "colab": {
          "base_uri": "https://localhost:8080/"
        },
        "outputId": "8a9b6971-c886-4f6f-8e1f-9634ccbf6060"
      },
      "source": [
        "dataset[:,1].sum()"
      ],
      "execution_count": 140,
      "outputs": [
        {
          "output_type": "execute_result",
          "data": {
            "text/plain": [
              "11480849.0"
            ]
          },
          "metadata": {
            "tags": []
          },
          "execution_count": 140
        }
      ]
    },
    {
      "cell_type": "markdown",
      "metadata": {
        "id": "WbBD5ixaltqH"
      },
      "source": [
        "## *np.sum()*\n",
        "\n",
        "Retorna a soma dos elementos do array ao longo do eixo especificado."
      ]
    },
    {
      "cell_type": "code",
      "metadata": {
        "id": "omB6kgWgltqH",
        "colab": {
          "base_uri": "https://localhost:8080/"
        },
        "outputId": "21e98341-d9b3-4b4f-8901-a8bfd5956ff3"
      },
      "source": [
        "np.sum(dataset, axis = 0)"
      ],
      "execution_count": 141,
      "outputs": [
        {
          "output_type": "execute_result",
          "data": {
            "text/plain": [
              "array([  517938.        , 11480849.        , 25531812.37999999])"
            ]
          },
          "metadata": {
            "tags": []
          },
          "execution_count": 141
        }
      ]
    },
    {
      "cell_type": "code",
      "metadata": {
        "id": "LiD4G3kQltqI",
        "colab": {
          "base_uri": "https://localhost:8080/"
        },
        "outputId": "7f82bed9-2dc5-497b-981a-e6d3bf2d46e1"
      },
      "source": [
        "np.sum(dataset[:, 2])"
      ],
      "execution_count": 142,
      "outputs": [
        {
          "output_type": "execute_result",
          "data": {
            "text/plain": [
              "25531812.38"
            ]
          },
          "metadata": {
            "tags": []
          },
          "execution_count": 142
        }
      ]
    },
    {
      "cell_type": "code",
      "metadata": {
        "id": "08wIzvRUkpKu"
      },
      "source": [
        ""
      ],
      "execution_count": null,
      "outputs": []
    }
  ]
}