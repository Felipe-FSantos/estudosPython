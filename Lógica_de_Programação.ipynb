{
  "nbformat": 4,
  "nbformat_minor": 0,
  "metadata": {
    "colab": {
      "name": "Lógica de Programação.ipynb",
      "provenance": [],
      "collapsed_sections": [
        "yWp_kCVrvVcP",
        "E4W8_Rg7CCni",
        "jXNan3NBHrVz",
        "w6xP-LEvI1hZ",
        "ZCF7uSZmNAca",
        "oCIBenGiOycl",
        "ApbsWCQXc0D7",
        "_9Xhig9ogJbJ",
        "mtAunZpIhgYE"
      ],
      "authorship_tag": "ABX9TyOd0ZS+Hntf+Ojpb9IydNdQ",
      "include_colab_link": true
    },
    "kernelspec": {
      "name": "python3",
      "display_name": "Python 3"
    },
    "language_info": {
      "name": "python"
    }
  },
  "cells": [
    {
      "cell_type": "markdown",
      "metadata": {
        "id": "view-in-github",
        "colab_type": "text"
      },
      "source": [
        "<a href=\"https://colab.research.google.com/github/Felipe-FSantos/estudosPython/blob/main/L%C3%B3gica_de_Programa%C3%A7%C3%A3o.ipynb\" target=\"_parent\"><img src=\"https://colab.research.google.com/assets/colab-badge.svg\" alt=\"Open In Colab\"/></a>"
      ]
    },
    {
      "cell_type": "markdown",
      "metadata": {
        "id": "yWp_kCVrvVcP"
      },
      "source": [
        "#**Lógica de Programação em Python** "
      ]
    },
    {
      "cell_type": "code",
      "metadata": {
        "colab": {
          "base_uri": "https://localhost:8080/"
        },
        "id": "wZsbt3lmvJmg",
        "outputId": "1d3f4f94-0b79-4d76-f262-cbeeb1df269b"
      },
      "source": [
        "1+1"
      ],
      "execution_count": 1,
      "outputs": [
        {
          "output_type": "execute_result",
          "data": {
            "text/plain": [
              "2"
            ]
          },
          "metadata": {
            "tags": []
          },
          "execution_count": 1
        }
      ]
    },
    {
      "cell_type": "code",
      "metadata": {
        "colab": {
          "base_uri": "https://localhost:8080/",
          "height": 0
        },
        "id": "N14AERepwPc-",
        "outputId": "424812e9-bc58-4e88-8c73-383cf8ad9bd6"
      },
      "source": [
        "\"Felipe\""
      ],
      "execution_count": 5,
      "outputs": [
        {
          "output_type": "execute_result",
          "data": {
            "application/vnd.google.colaboratory.intrinsic+json": {
              "type": "string"
            },
            "text/plain": [
              "'Felipe'"
            ]
          },
          "metadata": {
            "tags": []
          },
          "execution_count": 5
        }
      ]
    },
    {
      "cell_type": "code",
      "metadata": {
        "id": "F2ql8iM4xL24"
      },
      "source": [
        "idade = 22"
      ],
      "execution_count": 6,
      "outputs": []
    },
    {
      "cell_type": "code",
      "metadata": {
        "id": "WDnDjHH3xIte"
      },
      "source": [
        "nome = \"Felipe\""
      ],
      "execution_count": 4,
      "outputs": []
    },
    {
      "cell_type": "code",
      "metadata": {
        "colab": {
          "base_uri": "https://localhost:8080/"
        },
        "id": "L2zmROChxLSj",
        "outputId": "14d250be-bed6-4add-e360-416427ae21e2"
      },
      "source": [
        "idade"
      ],
      "execution_count": 7,
      "outputs": [
        {
          "output_type": "execute_result",
          "data": {
            "text/plain": [
              "22"
            ]
          },
          "metadata": {
            "tags": []
          },
          "execution_count": 7
        }
      ]
    },
    {
      "cell_type": "code",
      "metadata": {
        "colab": {
          "base_uri": "https://localhost:8080/",
          "height": 0
        },
        "id": "2PWHZM94xtzE",
        "outputId": "49b843d3-b5d1-4b8e-de3e-ffcdfd5a046d"
      },
      "source": [
        "nome"
      ],
      "execution_count": 8,
      "outputs": [
        {
          "output_type": "execute_result",
          "data": {
            "application/vnd.google.colaboratory.intrinsic+json": {
              "type": "string"
            },
            "text/plain": [
              "'Felipe'"
            ]
          },
          "metadata": {
            "tags": []
          },
          "execution_count": 8
        }
      ]
    },
    {
      "cell_type": "code",
      "metadata": {
        "colab": {
          "base_uri": "https://localhost:8080/"
        },
        "id": "jrXMGxcexuyx",
        "outputId": "8d925728-8f97-4130-ed4d-8a5b93241930"
      },
      "source": [
        "print(\"O nome é Felipe e sua idade é 22 anos\")"
      ],
      "execution_count": 9,
      "outputs": [
        {
          "output_type": "stream",
          "text": [
            "O nome é Felipe e sua idade é 22 anos\n"
          ],
          "name": "stdout"
        }
      ]
    },
    {
      "cell_type": "code",
      "metadata": {
        "colab": {
          "base_uri": "https://localhost:8080/"
        },
        "id": "4qU438TgBl37",
        "outputId": "84633135-d6ea-4c31-fd95-10ca27d1dc1c"
      },
      "source": [
        "print(f'O nome é {nome} e sua idade é {idade} anos ')"
      ],
      "execution_count": 10,
      "outputs": [
        {
          "output_type": "stream",
          "text": [
            "O nome é Felipe e sua idade é 22 anos \n"
          ],
          "name": "stdout"
        }
      ]
    },
    {
      "cell_type": "code",
      "metadata": {
        "id": "FsFatMJpB2Hd"
      },
      "source": [
        "idade = 23"
      ],
      "execution_count": 11,
      "outputs": []
    },
    {
      "cell_type": "code",
      "metadata": {
        "colab": {
          "base_uri": "https://localhost:8080/"
        },
        "id": "KyQisHvsB50n",
        "outputId": "5d20d277-8657-4b30-b096-14991ed96d10"
      },
      "source": [
        "print(f'O nome é {nome} e sua idade é {idade} anos')"
      ],
      "execution_count": 12,
      "outputs": [
        {
          "output_type": "stream",
          "text": [
            "O nome é Felipe e sua idade é 23 anos\n"
          ],
          "name": "stdout"
        }
      ]
    },
    {
      "cell_type": "markdown",
      "metadata": {
        "id": "E4W8_Rg7CCni"
      },
      "source": [
        "#**Creating My First Function**"
      ]
    },
    {
      "cell_type": "code",
      "metadata": {
        "id": "t7zrKLOIB_H3"
      },
      "source": [
        "def saudacao():\n",
        "  nome = input('Qual é o seu nome? ')\n",
        "  print(f'Olá {nome}')"
      ],
      "execution_count": 15,
      "outputs": []
    },
    {
      "cell_type": "code",
      "metadata": {
        "colab": {
          "base_uri": "https://localhost:8080/"
        },
        "id": "ylM_sL1_C7yG",
        "outputId": "62493241-57fa-4779-b03e-eabbd714d983"
      },
      "source": [
        "saudacao()"
      ],
      "execution_count": 16,
      "outputs": [
        {
          "output_type": "stream",
          "text": [
            "Qual é o seu nome? Felipe\n",
            "Olá Felipe\n"
          ],
          "name": "stdout"
        }
      ]
    },
    {
      "cell_type": "code",
      "metadata": {
        "id": "RxmZm6QnDt-1"
      },
      "source": [
        "def nome_completo():\n",
        " primeiro_nome = input('Qual seu primeiro nome? ')\n",
        " sobrenome = input('Qual seu sobrenome? ')\n",
        " nome_inteiro = primeiro_nome + ' ' + sobrenome\n",
        " print(nome_inteiro)\n",
        "\n"
      ],
      "execution_count": 19,
      "outputs": []
    },
    {
      "cell_type": "code",
      "metadata": {
        "colab": {
          "base_uri": "https://localhost:8080/"
        },
        "id": "XagAiABdFlDX",
        "outputId": "593a906f-fb92-4e71-c4fc-34ab4780807e"
      },
      "source": [
        "nome_completo()"
      ],
      "execution_count": 20,
      "outputs": [
        {
          "output_type": "stream",
          "text": [
            "Qual seu primeiro nome? Felipe\n",
            "Qual seu sobrenome? Da Fonseca Santos\n",
            "Felipe Da Fonseca Santos\n"
          ],
          "name": "stdout"
        }
      ]
    },
    {
      "cell_type": "markdown",
      "metadata": {
        "id": "jXNan3NBHrVz"
      },
      "source": [
        "#Parâmetros\n"
      ]
    },
    {
      "cell_type": "code",
      "metadata": {
        "id": "jMDw2yTAHmWJ"
      },
      "source": [
        "nome = 'João'"
      ],
      "execution_count": 22,
      "outputs": []
    },
    {
      "cell_type": "code",
      "metadata": {
        "id": "5smGiNkeHz7-"
      },
      "source": [
        "def saudacao_com_parametros(nome_da_pessoa):\n",
        "  print(f'Olá {nome_da_pessoa} ')"
      ],
      "execution_count": 23,
      "outputs": []
    },
    {
      "cell_type": "code",
      "metadata": {
        "colab": {
          "base_uri": "https://localhost:8080/"
        },
        "id": "2o5Hxk-3IFRm",
        "outputId": "e2a58b3e-c464-4427-e86e-7f4f467b0878"
      },
      "source": [
        "saudacao_com_parametros(nome)"
      ],
      "execution_count": 25,
      "outputs": [
        {
          "output_type": "stream",
          "text": [
            "Olá João \n"
          ],
          "name": "stdout"
        }
      ]
    },
    {
      "cell_type": "markdown",
      "metadata": {
        "id": "w6xP-LEvI1hZ"
      },
      "source": [
        "# Condicional"
      ]
    },
    {
      "cell_type": "code",
      "metadata": {
        "id": "Z7sz05DpI57t"
      },
      "source": [
        ""
      ],
      "execution_count": 39,
      "outputs": []
    },
    {
      "cell_type": "code",
      "metadata": {
        "id": "pje-IPJDKmyp"
      },
      "source": [
        "idade = 15\n",
        "\n",
        "def verifica_se_pode_dirigir(idade):\n",
        "  if idade >= 18:\n",
        "   print('Tem permissão para dirigir')\n",
        "  else:\n",
        "    print('Não tem permissão para dirigir')\n",
        "    \n",
        "    verifica_se_pode_dirigir(idade)"
      ],
      "execution_count": 83,
      "outputs": []
    },
    {
      "cell_type": "code",
      "metadata": {
        "id": "xH_2FKp6K9GN"
      },
      "source": [
        "def verifica_se_pode_dirigir_sem_parametro():\n",
        "  idade = input('Qual sua idade')\n",
        "  idade = int(idade)\n",
        "  if idade >= 18:\n",
        "    print('Tem permissão para dirigir')\n",
        "  else:\n",
        "    print('Não tem permissão para dirigir')\n",
        "    verifica_se_pode_dirigir_sem_parametro()"
      ],
      "execution_count": 50,
      "outputs": []
    },
    {
      "cell_type": "markdown",
      "metadata": {
        "id": "ZCF7uSZmNAca"
      },
      "source": [
        "#Lista"
      ]
    },
    {
      "cell_type": "code",
      "metadata": {
        "colab": {
          "base_uri": "https://localhost:8080/"
        },
        "id": "65Bc0HxeLJrZ",
        "outputId": "50e7ec57-d4b4-4678-93a2-ded65a606a9c"
      },
      "source": [
        "idade = 22\n",
        "idade"
      ],
      "execution_count": 72,
      "outputs": [
        {
          "output_type": "execute_result",
          "data": {
            "text/plain": [
              "22"
            ]
          },
          "metadata": {
            "tags": []
          },
          "execution_count": 72
        }
      ]
    },
    {
      "cell_type": "code",
      "metadata": {
        "colab": {
          "base_uri": "https://localhost:8080/"
        },
        "id": "v75sFeU3NDpQ",
        "outputId": "bfe3f15c-5ed5-4191-c1d2-028c5a71aef0"
      },
      "source": [
        "type(idade) #mostra o tipo da variavel"
      ],
      "execution_count": 73,
      "outputs": [
        {
          "output_type": "execute_result",
          "data": {
            "text/plain": [
              "int"
            ]
          },
          "metadata": {
            "tags": []
          },
          "execution_count": 73
        }
      ]
    },
    {
      "cell_type": "code",
      "metadata": {
        "colab": {
          "base_uri": "https://localhost:8080/"
        },
        "id": "tazklQU9NFM9",
        "outputId": "36d8644b-f43f-4b2a-ecd3-a66d5dc85e37"
      },
      "source": [
        "nome = 'Manuel'\n",
        "type(nome)"
      ],
      "execution_count": 74,
      "outputs": [
        {
          "output_type": "execute_result",
          "data": {
            "text/plain": [
              "str"
            ]
          },
          "metadata": {
            "tags": []
          },
          "execution_count": 74
        }
      ]
    },
    {
      "cell_type": "code",
      "metadata": {
        "colab": {
          "base_uri": "https://localhost:8080/"
        },
        "id": "8IT8W5X-NMNB",
        "outputId": "ce77d3a2-5962-4849-e30e-4f6bc018d568"
      },
      "source": [
        "idades = [18, 22, 15, 50] #List\n",
        "type(idades)"
      ],
      "execution_count": 75,
      "outputs": [
        {
          "output_type": "execute_result",
          "data": {
            "text/plain": [
              "list"
            ]
          },
          "metadata": {
            "tags": []
          },
          "execution_count": 75
        }
      ]
    },
    {
      "cell_type": "code",
      "metadata": {
        "id": "O0oY6JxiNVhF"
      },
      "source": [
        "idades = [18, 22, 15, 50]\n",
        "#         0   1   2   3\n",
        "#         0  -3  -2  -1"
      ],
      "execution_count": 76,
      "outputs": []
    },
    {
      "cell_type": "code",
      "metadata": {
        "colab": {
          "base_uri": "https://localhost:8080/"
        },
        "id": "E9bpU66JNaQ7",
        "outputId": "f39c8adf-6213-4de4-c879-be828b8bb50c"
      },
      "source": [
        "idades[1]"
      ],
      "execution_count": 77,
      "outputs": [
        {
          "output_type": "execute_result",
          "data": {
            "text/plain": [
              "22"
            ]
          },
          "metadata": {
            "tags": []
          },
          "execution_count": 77
        }
      ]
    },
    {
      "cell_type": "code",
      "metadata": {
        "colab": {
          "base_uri": "https://localhost:8080/"
        },
        "id": "y8LfNl2nN0IP",
        "outputId": "3a3969e5-e31a-4edd-d773-72cb284cda5a"
      },
      "source": [
        "idades[0:3] #Exclui a posição 3"
      ],
      "execution_count": 78,
      "outputs": [
        {
          "output_type": "execute_result",
          "data": {
            "text/plain": [
              "[18, 22, 15]"
            ]
          },
          "metadata": {
            "tags": []
          },
          "execution_count": 78
        }
      ]
    },
    {
      "cell_type": "code",
      "metadata": {
        "colab": {
          "base_uri": "https://localhost:8080/"
        },
        "id": "bpdTI7OWN6tR",
        "outputId": "e6a8d1f4-b39f-4c16-d537-1975451434fd"
      },
      "source": [
        "idades[1:] #Exclui a primeira posição"
      ],
      "execution_count": 79,
      "outputs": [
        {
          "output_type": "execute_result",
          "data": {
            "text/plain": [
              "[22, 15, 50]"
            ]
          },
          "metadata": {
            "tags": []
          },
          "execution_count": 79
        }
      ]
    },
    {
      "cell_type": "code",
      "metadata": {
        "colab": {
          "base_uri": "https://localhost:8080/"
        },
        "id": "XaR7L6eSN94t",
        "outputId": "2ca90f60-21fd-40c8-8299-63f3e41d6941"
      },
      "source": [
        "idades[-1] # ultimo resultado da List\n"
      ],
      "execution_count": 80,
      "outputs": [
        {
          "output_type": "execute_result",
          "data": {
            "text/plain": [
              "50"
            ]
          },
          "metadata": {
            "tags": []
          },
          "execution_count": 80
        }
      ]
    },
    {
      "cell_type": "code",
      "metadata": {
        "colab": {
          "base_uri": "https://localhost:8080/"
        },
        "id": "L5FkihxaONUf",
        "outputId": "7f669078-20bd-4e7b-ad5d-42cc9a458622"
      },
      "source": [
        "idades[-2]"
      ],
      "execution_count": 81,
      "outputs": [
        {
          "output_type": "execute_result",
          "data": {
            "text/plain": [
              "15"
            ]
          },
          "metadata": {
            "tags": []
          },
          "execution_count": 81
        }
      ]
    },
    {
      "cell_type": "code",
      "metadata": {
        "id": "8ViBOI2YOYoq"
      },
      "source": [
        ""
      ],
      "execution_count": 81,
      "outputs": []
    },
    {
      "cell_type": "markdown",
      "metadata": {
        "id": "oCIBenGiOycl"
      },
      "source": [
        "#Laços e Loops"
      ]
    },
    {
      "cell_type": "code",
      "metadata": {
        "colab": {
          "base_uri": "https://localhost:8080/"
        },
        "id": "JcYd4yIKPKQo",
        "outputId": "16480842-a536-4e48-edb7-0a216d1ae422"
      },
      "source": [
        "idades"
      ],
      "execution_count": 64,
      "outputs": [
        {
          "output_type": "execute_result",
          "data": {
            "text/plain": [
              "[18, 22, 15, 50]"
            ]
          },
          "metadata": {
            "tags": []
          },
          "execution_count": 64
        }
      ]
    },
    {
      "cell_type": "code",
      "metadata": {
        "colab": {
          "base_uri": "https://localhost:8080/"
        },
        "id": "cJ6ZM2n8O0oB",
        "outputId": "d197a040-89c9-45bb-d128-d7a12eea8b2f"
      },
      "source": [
        "#For fora da função\n",
        "def verifica_se_pode_dirigir(idade):\n",
        "  if idade >= 18:\n",
        "    print(f'{idade} anos de idade, TEM permissão para dirigir')\n",
        "  else:\n",
        "    print(f'{idade} anos de idade, NÃO TEM permissão para dirigir')\n",
        "\n",
        "\n",
        "for idade in idades:\n",
        " verifica_se_pode_dirigir(idade)"
      ],
      "execution_count": 66,
      "outputs": [
        {
          "output_type": "stream",
          "text": [
            "18 anos de idade, TEM permissão para dirigir\n",
            "22 anos de idade, TEM permissão para dirigir\n",
            "15 anos de idade, NÃO TEM permissão para dirigir\n",
            "50 anos de idade, TEM permissão para dirigir\n"
          ],
          "name": "stdout"
        }
      ]
    },
    {
      "cell_type": "code",
      "metadata": {
        "colab": {
          "base_uri": "https://localhost:8080/"
        },
        "id": "pFD12SKQPaLi",
        "outputId": "11f4d21e-b833-4265-a124-b420336d844b"
      },
      "source": [
        "#For dentro da Função\n",
        "def verifica_se_pode_dirigir(idades):\n",
        "  for idade in idades:\n",
        "    if idade >= 18:\n",
        "      print(f'{idade} anos de idade, TEM permissão para dirigir')\n",
        "    else:\n",
        "      print(f'{idade} anos de idade, NÃO TEM permissão para dirigir')\n",
        "\n",
        "verifica_se_pode_dirigir(idades)"
      ],
      "execution_count": 67,
      "outputs": [
        {
          "output_type": "stream",
          "text": [
            "18 anos de idade, TEM permissão para dirigir\n",
            "22 anos de idade, TEM permissão para dirigir\n",
            "15 anos de idade, NÃO TEM permissão para dirigir\n",
            "50 anos de idade, TEM permissão para dirigir\n"
          ],
          "name": "stdout"
        }
      ]
    },
    {
      "cell_type": "code",
      "metadata": {
        "id": "P90w9vODP5Zo"
      },
      "source": [
        ""
      ],
      "execution_count": null,
      "outputs": []
    },
    {
      "cell_type": "markdown",
      "metadata": {
        "id": "ApbsWCQXc0D7"
      },
      "source": [
        "#Boleano"
      ]
    },
    {
      "cell_type": "code",
      "metadata": {
        "colab": {
          "base_uri": "https://localhost:8080/"
        },
        "id": "o8Qd5ypec17h",
        "outputId": "bdc71795-089f-428a-e17e-66d63aac367b"
      },
      "source": [
        "idade = 18\n",
        "idade >= 18"
      ],
      "execution_count": 68,
      "outputs": [
        {
          "output_type": "execute_result",
          "data": {
            "text/plain": [
              "True"
            ]
          },
          "metadata": {
            "tags": []
          },
          "execution_count": 68
        }
      ]
    },
    {
      "cell_type": "code",
      "metadata": {
        "colab": {
          "base_uri": "https://localhost:8080/"
        },
        "id": "-T7ZqTU3c8uR",
        "outputId": "d231a382-3e59-45ae-9845-5240124ca7d0"
      },
      "source": [
        "idade = 15\n",
        "idade >= 18"
      ],
      "execution_count": 69,
      "outputs": [
        {
          "output_type": "execute_result",
          "data": {
            "text/plain": [
              "False"
            ]
          },
          "metadata": {
            "tags": []
          },
          "execution_count": 69
        }
      ]
    },
    {
      "cell_type": "code",
      "metadata": {
        "id": "A4PYPWudc_oH"
      },
      "source": [
        "permissoes = []\n",
        "idades = [20, 14, 40]\n",
        "\n",
        "def verifica_se_pode_dirigir(idades, permissoes):\n",
        "  for idade in idades:\n",
        "    if idade >= 18:\n",
        "      permissoes.append(True)\n",
        "    else:\n",
        "      permissoes.append(False)\n",
        "\n",
        "verifica_se_pode_dirigir(idades, permissoes)\n"
      ],
      "execution_count": 84,
      "outputs": []
    },
    {
      "cell_type": "code",
      "metadata": {
        "colab": {
          "base_uri": "https://localhost:8080/"
        },
        "id": "3bOWPxHQdjWB",
        "outputId": "bc5c826b-32bc-4951-e397-c9640adbc704"
      },
      "source": [
        "permissoes"
      ],
      "execution_count": 85,
      "outputs": [
        {
          "output_type": "execute_result",
          "data": {
            "text/plain": [
              "[True, False, True]"
            ]
          },
          "metadata": {
            "tags": []
          },
          "execution_count": 85
        }
      ]
    },
    {
      "cell_type": "code",
      "metadata": {
        "colab": {
          "base_uri": "https://localhost:8080/"
        },
        "id": "INXK4lfOdpGo",
        "outputId": "343aed30-5097-4975-d48d-91a24d26a4f6"
      },
      "source": [
        "for permissao in permissoes:\n",
        "  if permissao == True:\n",
        "    print('Tem permissão para dirigir')\n",
        "  else:\n",
        "    print('Não tem permissão para dirigir')"
      ],
      "execution_count": 86,
      "outputs": [
        {
          "output_type": "stream",
          "text": [
            "Tem permissão para dirigir\n",
            "Não tem permissão para dirigir\n",
            "Tem permissão para dirigir\n"
          ],
          "name": "stdout"
        }
      ]
    },
    {
      "cell_type": "code",
      "metadata": {
        "id": "hiJQNZgqefrx"
      },
      "source": [
        ""
      ],
      "execution_count": null,
      "outputs": []
    },
    {
      "cell_type": "markdown",
      "metadata": {
        "id": "_9Xhig9ogJbJ"
      },
      "source": [
        "# Tipos em uma lista"
      ]
    },
    {
      "cell_type": "code",
      "metadata": {
        "colab": {
          "base_uri": "https://localhost:8080/"
        },
        "id": "BLEXv3tVgMW1",
        "outputId": "5c5c043d-9078-48d3-870b-1276963ec283"
      },
      "source": [
        "lista = ['Felipe', 28, True, '18', 2.8]\n",
        "\n",
        "for elemento in lista:\n",
        "  print(f'O elemento {elemento} é do tipo, ', type(elemento))\n"
      ],
      "execution_count": 96,
      "outputs": [
        {
          "output_type": "stream",
          "text": [
            "O elemento Felipe é do tipo,  <class 'str'>\n",
            "O elemento 28 é do tipo,  <class 'int'>\n",
            "O elemento True é do tipo,  <class 'bool'>\n",
            "O elemento 18 é do tipo,  <class 'str'>\n",
            "O elemento 2.8 é do tipo,  <class 'float'>\n"
          ],
          "name": "stdout"
        }
      ]
    },
    {
      "cell_type": "code",
      "metadata": {
        "id": "q1yMsg28gnV-"
      },
      "source": [
        ""
      ],
      "execution_count": null,
      "outputs": []
    },
    {
      "cell_type": "markdown",
      "metadata": {
        "id": "mtAunZpIhgYE"
      },
      "source": [
        "# Import"
      ]
    },
    {
      "cell_type": "code",
      "metadata": {
        "id": "4woHrR0IhjVr"
      },
      "source": [
        "from random import randrange, seed #Importando Randrange\n"
      ],
      "execution_count": 126,
      "outputs": []
    },
    {
      "cell_type": "code",
      "metadata": {
        "colab": {
          "base_uri": "https://localhost:8080/"
        },
        "id": "6siM13z7hrQi",
        "outputId": "49ecb919-7f69-41a2-e6cd-3325cee86feb"
      },
      "source": [
        "randrange(0, 11)"
      ],
      "execution_count": 103,
      "outputs": [
        {
          "output_type": "execute_result",
          "data": {
            "text/plain": [
              "9"
            ]
          },
          "metadata": {
            "tags": []
          },
          "execution_count": 103
        }
      ]
    },
    {
      "cell_type": "code",
      "metadata": {
        "id": "dD0rESJHiX3Q"
      },
      "source": [
        "seed(11) #Seed define um valor de referencia"
      ],
      "execution_count": 129,
      "outputs": []
    },
    {
      "cell_type": "code",
      "metadata": {
        "colab": {
          "base_uri": "https://localhost:8080/"
        },
        "id": "EA_CTAPqh7nf",
        "outputId": "9b08378c-e2c6-432a-bf64-c2ffb95e5a82"
      },
      "source": [
        "notas_matematica = []\n",
        "\n",
        "for notas in range(8):\n",
        " notas_matematica.append(randrange(0, 10))\n",
        "notas_matematica"
      ],
      "execution_count": 130,
      "outputs": [
        {
          "output_type": "execute_result",
          "data": {
            "text/plain": [
              "[7, 8, 7, 7, 8, 9, 3, 2]"
            ]
          },
          "metadata": {
            "tags": []
          },
          "execution_count": 130
        }
      ]
    },
    {
      "cell_type": "code",
      "metadata": {
        "colab": {
          "base_uri": "https://localhost:8080/"
        },
        "id": "T09cjqRRiJYX",
        "outputId": "27184b6f-37b2-4543-f3ac-e6f8dfd695f5"
      },
      "source": [
        "len(notas_matematica) #Mostra tamanho da lista"
      ],
      "execution_count": 123,
      "outputs": [
        {
          "output_type": "execute_result",
          "data": {
            "text/plain": [
              "8"
            ]
          },
          "metadata": {
            "tags": []
          },
          "execution_count": 123
        }
      ]
    },
    {
      "cell_type": "markdown",
      "metadata": {
        "id": "TpPf7pVrkdhm"
      },
      "source": [
        "#Matplotlib"
      ]
    },
    {
      "cell_type": "code",
      "metadata": {
        "id": "unktw8PykhBN"
      },
      "source": [
        "import matplotlib.pyplot as plt #Importei matplotlib e dei um apelido como plt"
      ],
      "execution_count": 131,
      "outputs": []
    },
    {
      "cell_type": "code",
      "metadata": {
        "colab": {
          "base_uri": "https://localhost:8080/",
          "height": 295
        },
        "id": "c7BYuS1bkzQc",
        "outputId": "bc72dc23-b4e8-4bd8-c9b3-a5480f695d4f"
      },
      "source": [
        "x = list(range(1, 9)) #Eixo X \n",
        "y = notas_matematica  #Eixo Y\n",
        "plt.plot(x,y, marker='o') #plotando gráfico e marcando as notas\n",
        "plt.title('Notas de Matemática') #Define o nome do grafico\n",
        "plt.xlabel('Provas') #Define a legenda do eixo X\n",
        "plt.ylabel('Notas') #Define a legenda do eixo Y\n",
        "plt.show()"
      ],
      "execution_count": 139,
      "outputs": [
        {
          "output_type": "display_data",
          "data": {
            "image/png": "[encoded data removed]",
            "text/plain": [
              "<Figure size 432x288 with 1 Axes>"
            ]
          },
          "metadata": {
            "tags": [],
            "needs_background": "light"
          }
        }
      ]
    },
    {
      "cell_type": "code",
      "metadata": {
        "colab": {
          "base_uri": "https://localhost:8080/"
        },
        "id": "Jyhr3XhclMk3",
        "outputId": "3471884c-491a-4ad6-b110-12a1dd4b2154"
      },
      "source": [
        "notas_matematica"
      ],
      "execution_count": 140,
      "outputs": [
        {
          "output_type": "execute_result",
          "data": {
            "text/plain": [
              "[7, 8, 7, 7, 8, 9, 3, 2]"
            ]
          },
          "metadata": {
            "tags": []
          },
          "execution_count": 140
        }
      ]
    },
    {
      "cell_type": "code",
      "metadata": {
        "id": "pefB353cmBsP"
      },
      "source": [
        ""
      ],
      "execution_count": null,
      "outputs": []
    }
  ]
}